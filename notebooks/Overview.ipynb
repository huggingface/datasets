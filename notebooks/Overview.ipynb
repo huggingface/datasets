{
 "cells": [
  {
   "cell_type": "markdown",
   "metadata": {
    "colab_type": "text",
    "id": "view-in-github"
   },
   "source": [
    "<a href=\"https://colab.research.google.com/github/huggingface/datasets/blob/master/notebooks/Overview.ipynb\" target=\"_parent\"><img src=\"https://colab.research.google.com/assets/colab-badge.svg\" alt=\"Open In Colab\"/></a>"
   ]
  },
  {
   "cell_type": "markdown",
   "metadata": {
    "id": "zNp6kK7OvSUg"
   },
   "source": [
    "# HuggingFace 🤗 Datasets library - Quick overview\n",
    "\n",
    "Models come and go (linear models, LSTM, Transformers, ...) but two core elements have consistently been the beating heart of Natural Language Processing: Datasets & Metrics\n",
    "\n",
    "🤗 Datasets is a fast and efficient library to easily share and load dataset and evaluation metrics, already providing access to 150+ datasets and 12+ evaluation metrics.\n",
    "\n",
    "The library has several interesting features (beside easy access to datasets/metrics):\n",
    "\n",
    "- Build-in interoperability with PyTorch, Tensorflow 2, Pandas and Numpy\n",
    "- Lighweight and fast library with a transparent and pythonic API\n",
    "- Strive on large datasets: frees you from RAM memory limits, all datasets are memory-mapped on drive by default.\n",
    "- Smart caching with an intelligent `tf.data`-like cache: never wait for your data to process several times\n",
    "\n",
    "🤗 Datasets originated from a fork of the awesome Tensorflow-Datasets and the HuggingFace team want to deeply thank the team behind this amazing library and user API. We have tried to keep a layer of compatibility with `tfds` and a conversion can provide conversion from one format to the other."
   ]
  },
  {
   "cell_type": "markdown",
   "metadata": {
    "id": "dzk9aEtIvSUh"
   },
   "source": [
    "# Main datasets API\n",
    "\n",
    "This notebook is a quick dive in the main user API for loading datasets in `datasets`"
   ]
  },
  {
   "cell_type": "code",
   "execution_count": 1,
   "metadata": {
    "colab": {
     "base_uri": "https://localhost:8080/"
    },
    "id": "my95uHbLyjwR",
    "outputId": "0d263b5a-897d-452e-d320-198f0b58fdb7"
   },
   "outputs": [
    {
     "name": "stdout",
     "output_type": "stream",
     "text": [
      "Requirement already satisfied: datasets in /home/matt/miniconda3/envs/tensorflow26/lib/python3.9/site-packages (1.16.2.dev0)\n",
      "Requirement already satisfied: aiohttp in /home/matt/miniconda3/envs/tensorflow26/lib/python3.9/site-packages (from datasets) (3.7.4.post0)\n",
      "Requirement already satisfied: numpy>=1.17 in /home/matt/miniconda3/envs/tensorflow26/lib/python3.9/site-packages (from datasets) (1.19.5)\n",
      "Requirement already satisfied: xxhash in /home/matt/miniconda3/envs/tensorflow26/lib/python3.9/site-packages (from datasets) (2.0.2)\n",
      "Requirement already satisfied: pyarrow!=4.0.0,>=3.0.0 in /home/matt/miniconda3/envs/tensorflow26/lib/python3.9/site-packages (from datasets) (5.0.0)\n",
      "Requirement already satisfied: multiprocess in /home/matt/miniconda3/envs/tensorflow26/lib/python3.9/site-packages (from datasets) (0.70.12.2)\n",
      "Requirement already satisfied: fsspec[http]>=2021.05.0 in /home/matt/miniconda3/envs/tensorflow26/lib/python3.9/site-packages (from datasets) (2021.8.1)\n",
      "Requirement already satisfied: packaging in /home/matt/miniconda3/envs/tensorflow26/lib/python3.9/site-packages (from datasets) (21.0)\n",
      "Requirement already satisfied: dill in /home/matt/miniconda3/envs/tensorflow26/lib/python3.9/site-packages (from datasets) (0.3.4)\n",
      "Requirement already satisfied: tqdm>=4.62.1 in /home/matt/miniconda3/envs/tensorflow26/lib/python3.9/site-packages (from datasets) (4.62.2)\n",
      "Requirement already satisfied: pandas in /home/matt/miniconda3/envs/tensorflow26/lib/python3.9/site-packages (from datasets) (1.3.2)\n",
      "Requirement already satisfied: huggingface-hub<1.0.0,>=0.1.0 in /home/matt/miniconda3/envs/tensorflow26/lib/python3.9/site-packages (from datasets) (0.1.0)\n",
      "Requirement already satisfied: requests>=2.19.0 in /home/matt/miniconda3/envs/tensorflow26/lib/python3.9/site-packages (from datasets) (2.26.0)\n",
      "Requirement already satisfied: filelock in /home/matt/miniconda3/envs/tensorflow26/lib/python3.9/site-packages (from huggingface-hub<1.0.0,>=0.1.0->datasets) (3.0.12)\n",
      "Requirement already satisfied: typing-extensions in /home/matt/miniconda3/envs/tensorflow26/lib/python3.9/site-packages (from huggingface-hub<1.0.0,>=0.1.0->datasets) (3.7.4.3)\n",
      "Requirement already satisfied: pyyaml in /home/matt/miniconda3/envs/tensorflow26/lib/python3.9/site-packages (from huggingface-hub<1.0.0,>=0.1.0->datasets) (5.4.1)\n",
      "Requirement already satisfied: pyparsing>=2.0.2 in /home/matt/miniconda3/envs/tensorflow26/lib/python3.9/site-packages (from packaging->datasets) (2.4.7)\n",
      "Requirement already satisfied: urllib3<1.27,>=1.21.1 in /home/matt/miniconda3/envs/tensorflow26/lib/python3.9/site-packages (from requests>=2.19.0->datasets) (1.26.6)\n",
      "Requirement already satisfied: certifi>=2017.4.17 in /home/matt/miniconda3/envs/tensorflow26/lib/python3.9/site-packages (from requests>=2.19.0->datasets) (2021.5.30)\n",
      "Requirement already satisfied: idna<4,>=2.5 in /home/matt/miniconda3/envs/tensorflow26/lib/python3.9/site-packages (from requests>=2.19.0->datasets) (3.2)\n",
      "Requirement already satisfied: charset-normalizer~=2.0.0 in /home/matt/miniconda3/envs/tensorflow26/lib/python3.9/site-packages (from requests>=2.19.0->datasets) (2.0.4)\n",
      "Requirement already satisfied: yarl<2.0,>=1.0 in /home/matt/miniconda3/envs/tensorflow26/lib/python3.9/site-packages (from aiohttp->datasets) (1.6.3)\n",
      "Requirement already satisfied: multidict<7.0,>=4.5 in /home/matt/miniconda3/envs/tensorflow26/lib/python3.9/site-packages (from aiohttp->datasets) (5.1.0)\n",
      "Requirement already satisfied: attrs>=17.3.0 in /home/matt/miniconda3/envs/tensorflow26/lib/python3.9/site-packages (from aiohttp->datasets) (21.2.0)\n",
      "Requirement already satisfied: chardet<5.0,>=2.0 in /home/matt/miniconda3/envs/tensorflow26/lib/python3.9/site-packages (from aiohttp->datasets) (4.0.0)\n",
      "Requirement already satisfied: async-timeout<4.0,>=3.0 in /home/matt/miniconda3/envs/tensorflow26/lib/python3.9/site-packages (from aiohttp->datasets) (3.0.1)\n",
      "Requirement already satisfied: pytz>=2017.3 in /home/matt/miniconda3/envs/tensorflow26/lib/python3.9/site-packages (from pandas->datasets) (2021.1)\n",
      "Requirement already satisfied: python-dateutil>=2.7.3 in /home/matt/miniconda3/envs/tensorflow26/lib/python3.9/site-packages (from pandas->datasets) (2.8.2)\n",
      "Requirement already satisfied: six>=1.5 in /home/matt/miniconda3/envs/tensorflow26/lib/python3.9/site-packages (from python-dateutil>=2.7.3->pandas->datasets) (1.15.0)\n"
     ]
    }
   ],
   "source": [
    "# install datasets\n",
    "!pip install datasets\n",
    "\n",
    "# Make sure that we have a recent version of pyarrow in the session before we continue - otherwise reboot Colab to activate it\n",
    "import pyarrow\n",
    "if int(pyarrow.__version__.split('.')[1]) < 16 and int(pyarrow.__version__.split('.')[0]) == 0:\n",
    "    import os\n",
    "    os.kill(os.getpid(), 9)"
   ]
  },
  {
   "cell_type": "code",
   "execution_count": 2,
   "metadata": {
    "id": "PVjXLiYxvSUl"
   },
   "outputs": [],
   "source": [
    "# Let's import the library. We typically only need at most four methods:\n",
    "from datasets import list_datasets, list_metrics, load_dataset, load_metric\n",
    "\n",
    "from pprint import pprint"
   ]
  },
  {
   "cell_type": "markdown",
   "metadata": {
    "id": "TNloBBx-vSUo"
   },
   "source": [
    "## Listing the currently available datasets and metrics"
   ]
  },
  {
   "cell_type": "code",
   "execution_count": 3,
   "metadata": {
    "colab": {
     "base_uri": "https://localhost:8080/"
    },
    "id": "d3RJisGLvSUp",
    "outputId": "56c9fcd0-0a8c-41c7-d1d4-e60bc4e3eede"
   },
   "outputs": [
    {
     "name": "stdout",
     "output_type": "stream",
     "text": [
      "🤩 Currently 2126 datasets are available on the hub:\n",
      "['0n1xus/codexglue', '0n1xus/pytorrent-standalone',\n",
      " 'AConsApart/anime_subtitles_DialoGPT', 'AI-Sweden/SuperLim',\n",
      " 'ARKseal/YFCC14M_subset_webdataset', 'ARTeLab/fanpage', 'ARTeLab/ilpost',\n",
      " 'ARTeLab/mlsum-it', 'Abdo1Kamr/Arabic_Hadith', 'AdWeeb/DravidianMT',\n",
      " 'Adnan/Urdu_News_Headlines', 'Akshith/aa', 'Akshith/g_rock', 'Akshith/test',\n",
      " 'AlekseyDorkin/extended_tweet_emojis', 'AlexMaclean/all-deletion-compressions',\n",
      " 'AlexMaclean/wikipedia-deletion-compressions', 'Alvenir/nst-da-16khz',\n",
      " 'Annielytics/DoctorsNotes',\n",
      " 'AryanLala/autonlp-data-Scientific_Title_Generator', 'Avishekavi/Avi',\n",
      " 'BSC-TeMU/SQAC', 'BSC-TeMU/ancora-ca-ner', 'BSC-TeMU/sts-ca', 'BSC-TeMU/tecla',\n",
      " 'BSC-TeMU/viquiquad', 'BSC-TeMU/xquad-ca', 'Babelscape/rebel-dataset',\n",
      " 'Binbin/my_dataset', 'BlakesOrb6/Fred-Flintstone', 'Bosio/pacman',\n",
      " 'Bosio/pacman_descriptions', 'CAGER/rick', 'CShorten/KerasBERT',\n",
      " 'CShorten/ZillowPrize', 'ChadxxxxHall/Inter-vision',\n",
      " 'Champion/vpc2020_clear_anon_speech', 'Check/a_re_gi', 'Check/region_1',\n",
      " 'Check/region_2', 'Check/region_3', 'Check/region_4', 'Check/region_5',\n",
      " 'Check/region_6', 'Check/region_7', 'Check/region_8', 'Check/region_9',\n",
      " 'Check/regions', 'Check/vverify', 'ChristophSchuhmann/MS_COCO_2017_URL_TEXT',\n",
      " 'Chun/dataset', 'Chuu/Vhh', 'CodedotAI/code-clippy-tfrecords',\n",
      " 'CodedotAI/code_clippy', 'Cropinky/flatearther', 'Cropinky/rap_lyrics_english',\n",
      " 'Cropinky/wow_fishing_bobber', 'Cyberfish/pos_tagger',\n",
      " 'Cyberfish/text_error_correction', 'DELith/github-issues',\n",
      " 'DSCI511G1/COP26_Energy_Transition_Tweets', 'Daniele/dante-corpus',\n",
      " 'Darren/data', 'Datatang/accented_english', 'Datatang/accented_mandarin',\n",
      " 'Datatang/chinese_dialect', 'Datatang/mandarin_chinese',\n",
      " 'Datatang/mixed_speech_chinese_english', 'Datatang/multi_language',\n",
      " 'Datatang/multi_language_conversation', 'Davlan/conll2003_de_noMISC',\n",
      " 'Davlan/conll2003_noMISC', 'Davlan/masakhanerV1', 'Dmitriy612/1',\n",
      " 'DoctorSlimm/yipee', 'Doohae/modern_music_re', 'EMBO/biolang', 'EMBO/sd-nlp',\n",
      " 'ESZER/H', 'Emanuel/UD_Portuguese-Bosque', 'Emon/sobuj', 'Enes3774/data',\n",
      " 'Eymen3455/xsum_tr', 'FL33TW00D/test-dataset', 'FRTNX/cosuju',\n",
      " 'FRTNX/worldbank-projects', 'Felix-ML/quoteli3', 'Fhrozen/JTubeSpeech',\n",
      " 'Finnish-NLP/mc4_fi_cleaned', 'Firoj/CrisisBench', 'Francois/futures_es',\n",
      " 'Fraser/mnist-text-default', 'Fraser/mnist-text-no-spaces',\n",
      " 'Fraser/mnist-text-small', 'Fraser/news-category-dataset',\n",
      " 'Fraser/python-lines', 'Fraser/short-jokes', 'Fraser/wiki_sentences',\n",
      " 'GEM/ART', 'GEM/BiSECT', 'GEM/CrossWOZ', 'GEM/OrangeSum', 'GEM/RiSAWOZ',\n",
      " 'GEM/RotoWire_English-German', 'GEM/SIMPITIKI', 'GEM/SciDuet',\n",
      " 'GEM/Taskmaster', 'GEM/cochrane-simplification', 'GEM/conversational_weather',\n",
      " 'GEM/dstc10_track2_task2', 'GEM/indonlg', 'GEM/mlb_data_to_text', 'GEM/mlsum',\n",
      " 'GEM/opusparcus', 'GEM/split_and_rephrase', 'GEM/sportsett_basketball',\n",
      " 'GEM/squad_v2', 'GEM/surface_realisation_st_2020', 'GEM/test-transform',\n",
      " 'GEM/test', 'GEM/totto', 'GEM/turku_hockey_data2text',\n",
      " 'GEM/turku_paraphrase_corpus', 'GEM/viggo', 'GEM/wiki_cat_sum', 'GEM/xlsum',\n",
      " 'GEM/xsum', 'Gabriel/squad_v2_sv', 'GalacticAI/Noirset',\n",
      " 'Gauravadlakha1509/new_one', 'Graphcore/wikipedia-bert-128',\n",
      " 'Graphcore/wikipedia-bert-512', 'Gwangho/NCBI-Sars-Cov-2', 'HHousen/ParaSCI',\n",
      " 'HHousen/quora', 'Halilyesilceng/autonlp-data-nameEntityRecognition',\n",
      " 'HarleyQ/WitcherDialogue', 'Harveenchadha/bol-models', 'HarveyBWest/mybot',\n",
      " 'Hellisotherpeople/DebateSum', 'Husain/intent-classification-en-fr',\n",
      " 'IFSTalfredoswald/MBTI', 'Iftoo95/Arabic_Sentiment_and_Topics',\n",
      " 'IlyaGusev/gazeta', 'IlyaGusev/headline_cause', 'Intel/WEC-Eng',\n",
      " 'Ishwar/Senti', 'JIsanan/war-ceb-wikipedia', 'Jack0508/TED2020_kor',\n",
      " 'Jack0508/TED2020_vi', 'Jack0508/TED2020vi_kor', 'Jack0508/demo',\n",
      " 'Jack0508/eng_vi_demo', 'Jack0508/test', 'Jack0508/vi-ko-TED-txt',\n",
      " 'Jean-Baptiste/wikiner_fr', 'Jeska/autonlp-data-vaccinfaq', 'Jeska/vaccinchat',\n",
      " 'Jikiwa/demo1', 'Jikiwa/demo2', 'Jikiwa/demo3', 'Jikiwa/demo4',\n",
      " 'Jikiwa/glue-mnli-train', 'Jikiwa/push-to-hub', 'Jikiwa/pushe-to-hub',\n",
      " 'Jikiwa/pushed-to-hub', 'Jikiwa/pushedd-to-hub', 'Jikiwa/random_repo',\n",
      " 'Jikiwa/stargazers', 'Jikiwa/temp-repo-valid', 'Jikiwa/test-16336477963335',\n",
      " 'Jikiwa/test-16336478042515', 'Jikiwa/test-16336479967338',\n",
      " 'Jikiwa/test-16336480189315', 'Jikiwa/test-16336486877862',\n",
      " 'Jikiwa/test-16340052901609', 'Jikiwa/test-16340052972855',\n",
      " 'Jikiwa/test-16344347220590', 'Jikiwa/test-16344347234752',\n",
      " 'Jikiwa/test-16344349332219', 'Jikiwa/test-16344349440339',\n",
      " 'Jikiwa/test-16344351925697', 'Jikiwa/test-16344360501144',\n",
      " 'Jikiwa/test-16344361893586', 'Jikiwa/test-16344362261113',\n",
      " 'Jikiwa/test-16344362895458', 'Jikiwa/test-16344364230608',\n",
      " 'Jikiwa/test-16344364547167', 'Jikiwa/test-16344367190179',\n",
      " 'Jikiwa/test-16344368182003', 'KBLab/suc3', 'KETI-AIR/aihub', 'KETI-AIR/klue',\n",
      " 'KETI-AIR/kor_corpora', 'KETI-AIR/korquad', 'KETI-AIR/nikl',\n",
      " 'Karavet/ARPA-Armenian-Paraphrase-Corpus',\n",
      " 'Karavet/ILUR-news-text-classification-corpus',\n",
      " 'Karavet/pioNER-Armenian-Named-Entity', 'Khanoooo/autonlp-data-Corona',\n",
      " 'Khondoker/SentNoB', 'LIAMF-USP/arc-retrieval-c4', 'Lenn/github-issues',\n",
      " 'LeoCordoba/CC-NEWS-ES-titles', 'LeoCordoba/CC-NEWS-ES',\n",
      " 'LoganKells/amazon_product_reviews_video_games', 'MBAH/MOVIESON',\n",
      " 'MKK/Dhivehi-English', 'Mansooreh/sharif-emotional-speech-dataset',\n",
      " 'MarianaSahagun/test', 'MarkusDressel/cord', 'Marzipan/QA4PC',\n",
      " 'Mateo/test_dataset', 'Mateo/testdataset', 'McGill-NLP/mlquestions',\n",
      " 'Melinoe/TheLabTexts', 'MickyMike/large_c_corpus', 'Mrleo1nid/Test_ru_dataset',\n",
      " 'Mulin/my_second_dataset', 'Mulin/my_third_dataset', 'NTUYG/RAGTest',\n",
      " 'Narsil/asr_dummy', 'Narsil/conversational_dummy', 'Narsil/image_dummy',\n",
      " 'NbAiLab/NCC_small', 'NbAiLab/NCC_small_100', 'NbAiLab/bokmaal_admin',\n",
      " 'NbAiLab/norec_agg', 'NbAiLab/norne', 'NbAiLab/norwegian_parliament',\n",
      " 'NbAiLab/test_corpus', 'NbAiLab/tull', 'NikolajW/NPS_nonNormalized-Cased',\n",
      " 'Ofrit/tmp', 'Pengfei/test', 'Pengfei/test1', 'PlanTL-GOB-ES/SQAC',\n",
      " 'Pongsaky/Wiki_SCG', 'Pratik/Gujarati_OpenSLR', 'Pyke/patent_abstract',\n",
      " 'QA/abk-eng', 'RBG-AI/CoRePooL', 'Remesita/tagged_reviews',\n",
      " 'Renukswamy/Patent_sentiment_analysis', 'RohanAiLab/persian_blog',\n",
      " 'RohanAiLab/persian_daily_news', 'RohanAiLab/persian_news_dataset',\n",
      " 'Romrawin/mn-sim', 'SCourthial/test', 'SajjadAyoubi/persian_qa',\n",
      " 'Sam2021/Arguement_Mining_CL2017', 'Samip/func',\n",
      " 'SaulLu/Natural_Questions_HTML', 'SaulLu/Natural_Questions_HTML_Toy',\n",
      " 'SaulLu/Natural_Questions_HTML_reduced_all', 'SaulLu/test',\n",
      " 'SaulLu/toy_struc_dataset', 'Serhii/Custom_SQuAD', 'ShinyQ/PPKM_Pemerintah',\n",
      " 'Smiling/webnovels-en', 'SoLID/shellcode_i_a32',\n",
      " 'SocialGrep/one-million-reddit-confessions',\n",
      " 'SocialGrep/one-million-reddit-jokes',\n",
      " 'SocialGrep/one-million-reddit-questions', 'SocialGrep/one-year-of-r-india',\n",
      " 'SocialGrep/reddit-crypto-aug-2021', 'SocialGrep/reddit-nonewnormal-complete',\n",
      " 'SocialGrep/reddit-wallstreetbets-aug-2021',\n",
      " 'SocialGrep/ten-million-reddit-answers', 'SocialGrep/the-reddit-covid-dataset',\n",
      " 'SophieTr/reddit_clean', 'TRoboto/masc', 'TaahaKazi/FCE',\n",
      " 'Tatyana/ru_sentiment_dataset', 'Terry0107/RiSAWOZ',\n",
      " 'Tevatron/msmarco-passage-corpus', 'Tevatron/msmarco-passage',\n",
      " 'Tevatron/scifact-corpus', 'Tevatron/scifact',\n",
      " 'Tevatron/wikipedia-curated-corpus', 'Tevatron/wikipedia-curated',\n",
      " 'Tevatron/wikipedia-nq-corpus', 'Tevatron/wikipedia-nq',\n",
      " 'Tevatron/wikipedia-squad-corpus', 'Tevatron/wikipedia-squad',\n",
      " 'Tevatron/wikipedia-trivia-corpus', 'Tevatron/wikipedia-trivia',\n",
      " 'Tevatron/wikipedia-wq-corpus', 'Tevatron/wikipedia-wq',\n",
      " 'TheBlindBandit/SpongeNot', 'TimTreasure4/Test', 'Trainmaster9977/957',\n",
      " 'Trainmaster9977/zbakuman', 'TurkuNLP/turku_hockey_data2text',\n",
      " 'TurkuNLP/turku_paraphrase_corpus', 'Tyler/wikimatrix_collapsed', 'Uri/tmp',\n",
      " 'Usin2705/test', 'VJGamer/test', 'VadorMazer/skyrimdialogstest',\n",
      " 'Valahaar/wsdmt', 'Vishva/UniFAQ_DataSET', 'Wiedy/be',\n",
      " 'Wiedy/wav2vec2-large-xls-r-300m-tr-colab', 'Wikidepia/IndoParaCrawl',\n",
      " 'Wikidepia/IndoSQuAD', 'Wikidepia/mc4-filter', 'Wuhu0/output', 'WyrdCurt/AO4W',\n",
      " 'XiangPan/iflytek', 'XiangPan/snli_break', 'XiangXiang/clt', 'Xinghua/test',\n",
      " 'Yatoro/github-issues', 'Yatoro/github_issues', 'Yeva/arm-summary',\n",
      " 'Yves/fhnw_swiss_parliament', 'Zaid/coqa_expanded', 'Zaid/quac_expanded',\n",
      " 'Zoe10/ner_dataset', 'abhishek/autonlp-data-imdb_eval', 'abwicke/C-B-R',\n",
      " 'abwicke/koplo', 'adamlin/FewShotWoz', 'adamlin/companion',\n",
      " 'adamlin/coqa_squad', 'adamlin/daily_dialog', 'adamlin/domain_classification',\n",
      " 'adamlin/multiwoz_dst', 'adamlin/qa_verification', 'adamlin/roc_story',\n",
      " 'adamlin/rs', 'adamlin/weibo_ner', 'ajmbell/test-dataset',\n",
      " 'akumar33/manufacturing', 'albertvillanova/datasets-tests-compression',\n",
      " 'albertvillanova/dummy_libri2mix', 'albertvillanova/tests-public-raw-jsonl',\n",
      " 'albertvillanova/tests-raw-jsonl', 'albertvillanova/tmp-tests-zip',\n",
      " 'albertvillanova/tmp-tests', 'alireza655/alireza655', 'alittleie/mis_238',\n",
      " 'allegro/klej-allegro-reviews', 'allegro/klej-cbd', 'allegro/klej-cdsc-e',\n",
      " 'allegro/klej-cdsc-r', 'allegro/klej-dyk', 'allegro/klej-nkjp-ner',\n",
      " 'allegro/klej-polemo2-in', 'allegro/klej-polemo2-out', 'allegro/klej-psc',\n",
      " 'allegro/polish-question-passage-pairs',\n",
      " 'allegro/summarization-allegro-articles',\n",
      " 'allegro/summarization-polish-summaries-corpus', 'allenai/c4', 'allenai/scico',\n",
      " 'alperbayram/TwitterDuygu', 'alvp/autonlp-data-alberti-stanza-names',\n",
      " 'alvp/autonlp-data-alberti-stanzas-finetuning',\n",
      " 'ami-wav2vec2/ami_multi_headset_segmented_and_chunked',\n",
      " 'ami-wav2vec2/ami_multi_headset_segmented_and_chunked_and_concatenated',\n",
      " 'ami-wav2vec2/ami_multi_headset_segmented_and_chunked_dummy',\n",
      " 'ami-wav2vec2/ami_single_headset_segmented',\n",
      " 'ami-wav2vec2/ami_single_headset_segmented_and_chunked',\n",
      " 'ami-wav2vec2/ami_single_headset_segmented_and_chunked_and_concatenated',\n",
      " 'ami-wav2vec2/ami_single_headset_segmented_and_chunked_dummy',\n",
      " 'ami-wav2vec2/ami_single_headset_segmented_dummy',\n",
      " 'animesh/autonlp-data-peptides', 'anton-l/common_language', 'anton-l/superb',\n",
      " 'anton-l/superb_demo', 'anton-l/superb_dummy', 'anukaver/EstQA',\n",
      " 'arjunth2001/online_privacy_qna', 'artyeth/Dorian', 'aseifert/merlin',\n",
      " 'aseifert/pie-synthetic', 'ashish-shrivastava/dont-know-dataset',\n",
      " 'asi/wikitext_fr', 'asoroa/bsbasque', 'astarostap/antisemitic-tweets',\n",
      " 'astarostap/antisemitic_tweets', 'astarostap/autonlp-data-antisemitism-2',\n",
      " 'astrideducation/cefr-combined-no-cefr-test', 'atelders/politweets',\n",
      " 'athar/QA', 'athar/a_b', 'athivvat/thai-rap-lyrics',\n",
      " 'ausgequetschtem/jtrddfhfgh', 'bavard/personachat_truecased',\n",
      " 'bemanningssitua/dplremjfjfj', 'berkergurcay/2020-10K-Reports',\n",
      " 'bertin-project/mc4-es-sampled', 'bertin-project/mc4-sampling',\n",
      " 'bhadresh-savani/web_split', 'bigscience/LanguageResourceCatalogue',\n",
      " 'bigscience/P3', 'bigscience/mc4-sampled',\n",
      " 'bigscience/open_subtitles_monolingual', 'biu-nlp/qa_align',\n",
      " 'biu-nlp/qa_discourse', 'biu-nlp/qa_srl2018', 'biu-nlp/qa_srl2020',\n",
      " 'biu-nlp/qamr', 'biu-nlp/qanom', 'blinoff/medical_qa_ru_data',\n",
      " 'bondarchukb/autonlp-data-iab_classification', 'braincode/braincode',\n",
      " 'brunodorneles/ner', 'bs-modeling-metadata/OSCAR_Entity_13_000',\n",
      " 'bs-modeling-metadata/c4-en-reduced-10000-with-metadata',\n",
      " 'bs-modeling-metadata/c4-en-reduced-10000',\n",
      " 'bs-modeling-metadata/c4-en-reduced-with-metadata',\n",
      " 'bs-modeling-metadata/c4-en-reduced',\n",
      " 'bs-modeling-metadata/c4_newslike_url_only',\n",
      " 'bs-modeling-metadata/html-enwiki-200806-extract-raw',\n",
      " 'bs-modeling-metadata/openwebtext-html-cc',\n",
      " 'bs-modeling-metadata/website_metadata_c4', 'bs-modeling-metadata/wiki_dump',\n",
      " 'bsc/ancora-ca-ner', 'bsc/sts-ca', 'bsc/tecla', 'bsc/viquiquad',\n",
      " 'bsc/xquad-ca', 'bwu2018/anime-tagging-dataset', 'caca/zscczs',\n",
      " 'cakiki/args_me', 'cakiki/paperswithcode', 'canwenxu/dogwhistle',\n",
      " 'cassandra-themis/QR-AN', 'castorini/afriberta', 'castorini/mr-tydi-corpus',\n",
      " 'castorini/mr-tydi', 'castorini/msmarco_v1_doc_doc2query-t5_expansions',\n",
      " 'castorini/msmarco_v1_doc_segmented_doc2query-t5_expansions',\n",
      " 'castorini/msmarco_v1_passage_doc2query-t5_expansions',\n",
      " 'castorini/msmarco_v2_doc_doc2query-t5_expansions',\n",
      " 'castorini/msmarco_v2_doc_segmented_doc2query-t5_expansions',\n",
      " 'castorini/msmarco_v2_passage_doc2query-t5_expansions', 'caythuoc/caoduoclieu',\n",
      " 'ccccccc/hdjw_94ejrjr', 'ccdv/arxiv-classification',\n",
      " 'ccdv/arxiv-summarization', 'ccdv/cnn_dailymail',\n",
      " 'ccdv/govreport-summarization', 'ccdv/patent-classification',\n",
      " 'ccdv/pubmed-summarization', 'cdleong/piglatin-mt',\n",
      " 'cdleong/temp_africaNLP_keyword_spotting_for_african_languages',\n",
      " 'cdminix/iwslt2011', 'cdminix/mgb1', 'cemigo/taylor_vs_shakes',\n",
      " 'cemigo/test-data', 'cgarciae/point-cloud-mnist', 'cgarciae/point_cloud_mnist',\n",
      " 'chenghao/mc4_eu_dedup', 'chenghao/scielo_books', 'chenyuxuan/wikigold',\n",
      " 'cheulyop/dementiabank', 'cheulyop/ksponspeech', 'chopey/dhivehi',\n",
      " 'clarin-pl/aspectemo', 'clarin-pl/cst-wikinews', 'clarin-pl/kpwr-ner',\n",
      " 'clarin-pl/nkjp-pos', 'clarin-pl/polemo2-official', 'classla/FRENK-hate-en',\n",
      " 'classla/FRENK-hate-hr', 'classla/FRENK-hate-sl', 'classla/copa_hr',\n",
      " 'classla/hr500k', 'classla/janes_tag', 'classla/reldi_hr', 'classla/reldi_sr',\n",
      " 'classla/setimes_sr', 'classla/ssj500k',\n",
      " 'clem/autonlp-data-french_word_detection', 'clips/mfaq', 'clips/mqa',\n",
      " 'cnrcastroli/aaaa', 'coala/kkk', 'congpt/dstc23_asr', 'corypaik/coda',\n",
      " 'corypaik/prost', 'craffel/openai_lambada', 'crich/cider',\n",
      " 'csarron/image-captions', 'csebuetnlp/xlsum', 'csebuetnlp/xnli_bn',\n",
      " 'cstrathe435/Task2Dial', 'ctgowrie/chessgames', 'ctl/ConceptualCaptions',\n",
      " 'cyko/books', 'dalle-mini/YFCC100M_OpenAI_subset',\n",
      " 'dalle-mini/encoded-vqgan_imagenet_f16_16384', 'dalle-mini/encoded',\n",
      " 'dansbecker/hackernews_hiring_posts', 'dasago78/dasago78dataset',\n",
      " 'dataset/wikipedia_bn', 'david-wb/zeshel', 'davidwisdom/reddit-randomness',\n",
      " 'debatelab/aaac', 'deepset/germandpr', 'deepset/germanquad',\n",
      " 'deokgu/fooddetection', 'dfgvhxfgv/fghghj', 'dfki-nlp/few-nerd',\n",
      " 'dfki-nlp/mobie', 'dgao/librispeech_nc_test', 'dgknrsln/Yorumsepeti',\n",
      " 'diiogo/brwac-clean', 'diiogo/harem-seletivo', 'diiogo/harem-total',\n",
      " 'diiogo/oscar', 'dispenst/jhghdghfd', 'dispix/test-dataset',\n",
      " 'dk-crazydiv/huggingface-modelhub', 'dog/friends-of-mine', 'dog/punks',\n",
      " 'dongpil/test', 'dragosnicolae555/RoITD', 'ducatyb/github-issues',\n",
      " 'dvilasuero/ag_news_training_set_losses', 'dweb/squad_with_cola_scores',\n",
      " 'dynabench/dynasent', 'dynabench/qa', 'eason929/test', 'edfews/szdfcszdf',\n",
      " 'edge2992/github-issues', 'edsas/fgrdtgrdtdr', 'edsas/grttyi',\n",
      " 'ehcalabres/ravdess_speech', 'ejjaffe/onion_headlines_2_sources',\n",
      " 'eliza-dukim/load_klue_re', 'elonmuskceo/persistent-space-dataset',\n",
      " 'emrecan/stsb-mt-turkish', 'erikacardenas300/Zillow_Economics_Dataset',\n",
      " 'ervis/aaa', 'ervis/qqq', 'eugenesiow/BSD100', 'eugenesiow/Div2k',\n",
      " 'eugenesiow/PIRM', 'eugenesiow/Set14', 'eugenesiow/Set5',\n",
      " 'eugenesiow/Urban100', 'ewdrtfwe/54refyghrtf', 'fanluo/hotpot_bridge',\n",
      " 'fatvvs/autonlp-data-entity_model_conll2003', 'fengzhang/fzTestDatasets',\n",
      " 'fihtrotuld/asu', 'flax-community/code_clippy_data',\n",
      " 'flax-community/conceptual-12m-mbart-50-multilingual',\n",
      " 'flax-community/conceptual-12m-multilingual-marian-128',\n",
      " 'flax-community/conceptual-12m-multilingual-marian-es',\n",
      " 'flax-community/conceptual-12m-multilingual-marian',\n",
      " 'flax-community/conceptual-captions-12', 'flax-community/dummy-oscar-als-32',\n",
      " 'flax-community/german-common-voice-processed',\n",
      " 'flax-community/german_common_crawl', 'flax-community/multilingual-vqa',\n",
      " 'flax-community/norwegian-clean-dummy', 'flax-community/swahili-safi',\n",
      " 'flax-sentence-embeddings/Gender_Bias_Evaluation_Set',\n",
      " 'flax-sentence-embeddings/paws-jsonl',\n",
      " 'flax-sentence-embeddings/stackexchange_math_jsonl',\n",
      " 'flax-sentence-embeddings/stackexchange_title_best_voted_answer_jsonl',\n",
      " 'flax-sentence-embeddings/stackexchange_title_body_jsonl',\n",
      " 'flax-sentence-embeddings/stackexchange_titlebody_best_and_down_voted_answer_jsonl',\n",
      " 'flax-sentence-embeddings/stackexchange_titlebody_best_voted_answer_jsonl',\n",
      " 'flax-sentence-embeddings/stackexchange_xml', 'flexudy/OMQD',\n",
      " 'formermagic/github_python_1m', 'formu/CVT', 'frahman/github-issues',\n",
      " 'frtna/jwt300_mt', 'frtna/opensubtitles_mt', 'frtna/ted_mt',\n",
      " 'frtna/translationResults_base', 'fulai/DuReader', 'fuliucansheng/minicoco',\n",
      " 'fuliucansheng/mininlp', 'fuliucansheng/pascal_voc', 'fuyun1107/clip-for-vlp',\n",
      " 'fvillena/cantemist', 'fvillena/spanish_diagnostics', 'gagan3012/fake-news',\n",
      " 'gagan3012/grover-data', 'gar1t/test', 'gayanin/pubmed-gastro-maskfilling',\n",
      " 'gayanin/pubmed-gastro-paraphrasing', 'gayanin/pubmed-gastro-summarisation',\n",
      " 'gcaillaut/citeseer', 'gcaillaut/cora', 'gcaillaut/pubmed',\n",
      " 'geekydevu/mlquestions', 'german-nlp-group/german_common_crawl',\n",
      " 'gmnlp/tico19', 'gpt3mix/rt20', 'gpt3mix/sst2', 'gsarti/change_it',\n",
      " 'gsarti/clean_mc4_it', 'gsarti/flores_101', 'gsarti/itacola', 'gsarti/wmt_vat',\n",
      " 'gustavecortal/fr_covid_news', 'gusu/mymodel1', 'habu24/fdz',\n",
      " 'hartzeer/kdfjdshfje', 'herbievore/test',\n",
      " 'hf-internal-testing/cats_vs_dogs_sample',\n",
      " 'hf-internal-testing/fixtures_ade20k', 'hf-internal-testing/fixtures_docvqa',\n",
      " 'hf-internal-testing/fixtures_image_utils', 'hf-internal-testing/fixtures_ocr',\n",
      " 'hf-internal-testing/fixtures_sintel',\n",
      " 'hf-internal-testing/librispeech_asr_demo',\n",
      " 'hf-internal-testing/librispeech_asr_dummy',\n",
      " 'hf-internal-testing/test-dataset',\n",
      " 'hf-internal-testing/transformers-metadata', 'hfface/poopi', 'holodata/sensai',\n",
      " 'holylovenia/recam', 'honghungle/dataset', 'howardmiddleton382/esuyertusutr',\n",
      " 'howardmiddleton382/wgweagwege',\n",
      " 'huggingFaceUser02/air21_grp13_inference_results',\n",
      " 'huggingFaceUser02/air21_grp13_tokenized_results', 'huggingartists/21-savage',\n",
      " 'huggingartists/25-17', 'huggingartists/50-cent', 'huggingartists/5nizza',\n",
      " 'huggingartists/5opka', 'huggingartists/6ix9ine',\n",
      " 'huggingartists/aaron-watson', 'huggingartists/abba', 'huggingartists/adele',\n",
      " 'huggingartists/agata-christie', 'huggingartists/aikko',\n",
      " 'huggingartists/aimer', 'huggingartists/ajr', 'huggingartists/alan-walker',\n",
      " 'huggingartists/andre-3000', 'huggingartists/arash',\n",
      " 'huggingartists/architects', 'huggingartists/arctic-monkeys',\n",
      " 'huggingartists/ariana-grande', 'huggingartists/ariya',\n",
      " 'huggingartists/armin-van-buuren', 'huggingartists/as-i-lay-dying',\n",
      " 'huggingartists/asdfgfa', 'huggingartists/asper-x', 'huggingartists/baklan',\n",
      " 'huggingartists/big-baby-tape', 'huggingartists/big-russian-boss',\n",
      " 'huggingartists/bill-wurtz', 'huggingartists/billie-eilish',\n",
      " 'huggingartists/billy-talent', 'huggingartists/bladee',\n",
      " 'huggingartists/bob-dylan', 'huggingartists/bones', 'huggingartists/booker',\n",
      " 'huggingartists/boris-grebenshikov', 'huggingartists/braii',\n",
      " 'huggingartists/bring-me-the-horizon', 'huggingartists/bruce-springsteen',\n",
      " 'huggingartists/bryan-adams', 'huggingartists/burzum',\n",
      " 'huggingartists/bushido-zho', 'huggingartists/cardi-b',\n",
      " 'huggingartists/chester-bennington', 'huggingartists/chief-keef',\n",
      " 'huggingartists/cocomelon', 'huggingartists/coin', 'huggingartists/coldplay',\n",
      " 'huggingartists/dababy', 'huggingartists/david-bowie', 'huggingartists/ddt',\n",
      " 'huggingartists/death-grips', 'huggingartists/deep-purple',\n",
      " 'huggingartists/denderty', 'huggingartists/dermot-kennedy',\n",
      " 'huggingartists/dj-artem-artemov', 'huggingartists/doja-cat',\n",
      " 'huggingartists/drake', 'huggingartists/dua-lipa',\n",
      " 'huggingartists/duran-duran', 'huggingartists/dzhizus',\n",
      " 'huggingartists/ed-sheeran', 'huggingartists/egor-kreed',\n",
      " 'huggingartists/egor-letov', 'huggingartists/elton-john',\n",
      " 'huggingartists/eminem', 'huggingartists/enigma', 'huggingartists/enya',\n",
      " 'huggingartists/epic-rap-battles-of-history', 'huggingartists/face',\n",
      " 'huggingartists/fascinoma', 'huggingartists/fear-factory',\n",
      " 'huggingartists/florence-the-machine', 'huggingartists/freddie-dredd',\n",
      " 'huggingartists/freelancer', 'huggingartists/galenskaparna-and-after-shave',\n",
      " 'huggingartists/ghost', 'huggingartists/ghostemane',\n",
      " 'huggingartists/ghostmane', 'huggingartists/gizmo', 'huggingartists/gorillaz',\n",
      " 'huggingartists/green-day', 'huggingartists/grigory-leps',\n",
      " 'huggingartists/grimes', 'huggingartists/gspd', 'huggingartists/gunna',\n",
      " 'huggingartists/hillsong-worship', 'huggingartists/hyuna',\n",
      " 'huggingartists/i-dont-know-how-but-they-found-me', 'huggingartists/idktime',\n",
      " 'huggingartists/imagine-dragons', 'huggingartists/jah-khalib',\n",
      " 'huggingartists/jim-morrison', 'huggingartists/john-k-samson',\n",
      " 'huggingartists/john-lennon', 'huggingartists/joji',\n",
      " 'huggingartists/joni-mitchell', 'huggingartists/justin-bieber',\n",
      " 'huggingartists/kanye-west', 'huggingartists/kasta', 'huggingartists/kehlani',\n",
      " 'huggingartists/kendrick-lamar', 'huggingartists/king-krule',\n",
      " 'huggingartists/kipelov', 'huggingartists/kishlak', 'huggingartists/kizaru',\n",
      " 'huggingartists/kojey-radical', 'huggingartists/krechet',\n",
      " 'huggingartists/krept-and-konan-bugzy-malone-sl-morisson-abra-cadabra-rv-and-snap-capone',\n",
      " 'huggingartists/kurt-cobain', 'huggingartists/lady-gaga',\n",
      " 'huggingartists/lazy-jay', 'huggingartists/led-zeppelin',\n",
      " 'huggingartists/lil-baby', 'huggingartists/lil-nas-x',\n",
      " 'huggingartists/lil-peep', 'huggingartists/lil-skies',\n",
      " 'huggingartists/lil-uzi-vert', 'huggingartists/linkin-park',\n",
      " 'huggingartists/little-big', 'huggingartists/lizer', 'huggingartists/logic',\n",
      " 'huggingartists/lorde', 'huggingartists/loud-luxury',\n",
      " 'huggingartists/loverance', 'huggingartists/lovv66', 'huggingartists/lumen',\n",
      " 'huggingartists/lyapis-trubetskoy', 'huggingartists/macan',\n",
      " 'huggingartists/machine-gun-kelly', 'huggingartists/madonna',\n",
      " 'huggingartists/marillion', 'huggingartists/maroon-5',\n",
      " 'huggingartists/mashina-vremeni', 'huggingartists/mating-ritual',\n",
      " 'huggingartists/max-korzh', 'huggingartists/mayot', 'huggingartists/mc-ride',\n",
      " 'huggingartists/melanie-martinez', 'huggingartists/metallica',\n",
      " 'huggingartists/mf-doom', 'huggingartists/michael-jackson',\n",
      " 'huggingartists/mikhail-gorshenev', 'huggingartists/mikhail-krug',\n",
      " 'huggingartists/miyagi', 'huggingartists/mnogoznaal',\n",
      " 'huggingartists/morgenshtern', 'huggingartists/mumiy-troll',\n",
      " 'huggingartists/muse', 'huggingartists/nautilus-pompilius',\n",
      " 'huggingartists/nervy', 'huggingartists/nirvana', 'huggingartists/noize-mc',\n",
      " 'huggingartists/oasis', 'huggingartists/obladaet', 'huggingartists/og-buda',\n",
      " 'huggingartists/ot-rus', 'huggingartists/our-last-night',\n",
      " 'huggingartists/oxxxymiron', 'huggingartists/peter-paul-and-mary',\n",
      " 'huggingartists/pharaoh', 'huggingartists/phish', 'huggingartists/pink-floyd',\n",
      " 'huggingartists/placebo', 'huggingartists/platina', 'huggingartists/pop-smoke',\n",
      " 'huggingartists/post-malone', 'huggingartists/pyrokinesis',\n",
      " 'huggingartists/queen', 'huggingartists/radiohead',\n",
      " 'huggingartists/rage-against-the-machine', 'huggingartists/ramil',\n",
      " 'huggingartists/rammstein', 'huggingartists/red-hot-chili-peppers',\n",
      " 'huggingartists/rex-orange-county', 'huggingartists/rihanna',\n",
      " 'huggingartists/rocket', 'huggingartists/sam-kim',\n",
      " 'huggingartists/scriptonite', 'huggingartists/sektor-gaza',\n",
      " 'huggingartists/sergei-letov', 'huggingartists/shadowraze',\n",
      " 'huggingartists/sia', 'huggingartists/sid-sriram', 'huggingartists/skillet',\n",
      " 'huggingartists/slava-kpss', 'huggingartists/slava-marlow',\n",
      " 'huggingartists/snoop-dogg', 'huggingartists/sqwore',\n",
      " 'huggingartists/sugar-ray', 'huggingartists/suicideoscope',\n",
      " 'huggingartists/sum-41', 'huggingartists/sundara-karma',\n",
      " 'huggingartists/system-of-a-down', 'huggingartists/t-fest',\n",
      " 'huggingartists/tanzy-minus', 'huggingartists/taylor-swift',\n",
      " 'huggingartists/tedeschi-trucks-band', 'huggingartists/the-69-eyes',\n",
      " 'huggingartists/the-avalanches', 'huggingartists/the-beatles',\n",
      " 'huggingartists/the-gazette', 'huggingartists/the-grateful-dead',\n",
      " 'huggingartists/the-king-and-the-jester', 'huggingartists/the-notorious-big',\n",
      " 'huggingartists/the-sugarcubes', 'huggingartists/the-the-pigs',\n",
      " 'huggingartists/the-velvet-underground', 'huggingartists/the-weeknd',\n",
      " 'huggingartists/tiamat', 'huggingartists/till-lindemann',\n",
      " 'huggingartists/tom-waits', 'huggingartists/tony-raut-and-garry-topor',\n",
      " 'huggingartists/tool', 'huggingartists/totpoc', 'huggingartists/travis-scott',\n",
      " 'huggingartists/twenty-one-pilots', 'huggingartists/tyler-the-creator',\n",
      " 'huggingartists/upsahl', 'huggingartists/v-x-v-prince',\n",
      " 'huggingartists/van-morrison', 'huggingartists/veggietales',\n",
      " 'huggingartists/viktor-tsoi', 'huggingartists/vladimir-vysotsky',\n",
      " 'huggingartists/xxxtentacion', 'huggingartists/young-thug',\n",
      " 'huggingartists/yung-lean', 'huggingartists/yung-plague',\n",
      " 'huggingartists/zemfira', 'huggingface/DataMeasurementsFiles',\n",
      " 'huggingface/documentation-images', 'huggingface/label-files',\n",
      " 'huggingface/transformers-metadata', 'huggingface-course/codeparrot-ds-train',\n",
      " 'huggingface-course/codeparrot-ds-valid', 'huyongquan/d2',\n",
      " 'iamshsdf/sssssssssss', 'iarfmoose/qa_evaluator',\n",
      " 'iarfmoose/question_generator', 'image-search-2/unsplash_lite_image_dataset',\n",
      " 'imthanhlv/binhvq_dedup', 'imthanhlv/binhvq_news21_raw',\n",
      " 'indonesian-nlp/id_personachat', 'jaimin/wav2vec2-large-xlsr-gujarati-demo',\n",
      " 'jakeazcona/short-text-labeled-emotion-classification',\n",
      " 'jakeazcona/short-text-multi-labeled-emotion-classification',\n",
      " 'jakemarcus/MATH', 'jamol1741/test_dataset', 'jdepoix/junit_test_completion',\n",
      " 'jglaser/binding_affinity', 'jhqwqq/2', 'jimregan/clarinpl_sejmsenat',\n",
      " 'jimregan/clarinpl_studio', 'jimregan/foinse', 'jimregan/lasid',\n",
      " 'jinmang2/KorQuAD-v1.0', 'jinmang2/aihub-book-mrc', 'jinmang2/aihub-mrc',\n",
      " 'jinmang2/aistage-mrc', 'jinmang2/load_klue_re', 'jinmang2/pred',\n",
      " 'jinmang2/temp', 'jinmang2/vision-data', 'jiyoojeong/targetizer', 'jlh/coco',\n",
      " 'jmamou/augmented-glue-sst2', 'joelito/ler', 'joelito/sem_eval_2010_task_8',\n",
      " 'jonfd/ICC', 'jozierski/ecomwebtexts-pl', 'jpcorb20/multidogo',\n",
      " 'jsgao/eli5_category', 'julien-c/dummy-dataset-from-colab',\n",
      " 'julien-c/persistent-space-dataset', 'julien-c/reactiongif',\n",
      " 'juliensimon/autonlp-data-song-lyrics-demo',\n",
      " 'juliensimon/autonlp-data-song-lyrics', 'juny116/few_glue', 'k-halid/ar',\n",
      " 'k0t1k/test', 'kaka10/fgfgfgfg', 'karinev/lanuitdudroit',\n",
      " 'kartikay/review-summarizer', 'katoensp/VR-OP', 'kenlevine/CUAD',\n",
      " 'keshan/clean-si-mc4', 'keshan/large-sinhala-asr-dataset',\n",
      " 'keshan/multispeaker-tts-sinhala', 'keshan/wit-dataset',\n",
      " 'kevinlu1248/personificationgen', 'khalidsaifullaah/detecThreats',\n",
      " 'khanbaba/online_love', 'kiamehr74/CoarseWSD-20', 'kiyoung2/aistage-mrc',\n",
      " 'kiyoung2/temp', 'kleinay/qa_srl', 'kmfoda/booksum', 'kmfoda/name_finder_v1',\n",
      " 'kmyoo/klue-tc-dev', 'knilakshan20/wikigold', 'kroshan/BioASQ',\n",
      " 'kroshan/qa_evaluator', 'laion/laion_100m_vqgan_f8', 'laion/laion_20m_dvae',\n",
      " 'lara-martin/Scifi_TV_Shows', 'larcane/ko-WIT',\n",
      " 'lavis-nlp/german_legal_sentences', 'layboard/layboard.in', 'lbourdois/CoFiF',\n",
      " 'leiping/jj', 'leiping/teeee', 'leoapolonio/AMI_Meeting_Corpus',\n",
      " 'lewtun/asr-preds-test', 'lewtun/asr_dummy',\n",
      " 'lewtun/binary_classification_dummy', 'lewtun/bulk-superb-s3p-superb-49606',\n",
      " 'lewtun/drug-reviews', 'lewtun/gem-test-predictions',\n",
      " 'lewtun/gem-test-references', 'lewtun/github-issues-test',\n",
      " 'lewtun/github-issues', 'lewtun/mnist-preds', 'lewtun/my-awesome-dataset',\n",
      " 'lewtun/s3prl-sd-dummy', 'lewtun/text_classification_dummy',\n",
      " 'lhoestq/custom_squad', 'lhoestq/demo1', 'lhoestq/squad',\n",
      " 'lhoestq/squad_titles', 'lhoestq/test', 'lhoestq/test2', 'lhoestq/tmp',\n",
      " 'lhoestq/wikipedia_bn', 'liam168/nlp_c4_sentiment', 'lidia/202111',\n",
      " 'limjiayi/hateful_memes_expanded', 'lincoln/newsquadfr',\n",
      " 'linhd-postdata/stanzas', 'liweili/c4_200m', 'lkiouiou/o9ui7877687',\n",
      " 'lkndsjkndgskjngkjsndkj/jsjdjsdvkjvszlhdskb', 'lohanna/testedjkcxkf',\n",
      " 'lorsorlah/Dadedadedam', 'loveguruji609/dfdfsdfsdfsdfsdfsd',\n",
      " 'lucien/sciencemission', 'lucien/voacantonesed', 'lucien/wsaderfffjjjhhh',\n",
      " 'lucio/common_voice_eval', 'lukasmasuch/my-test-repo-3',\n",
      " 'lukasmasuch/my-test-repo-4', 'lukasmasuch/test-2', 'lukasmasuch/test-3',\n",
      " 'lukasmasuch/test', 'lukesjordan/worldbank-project-documents',\n",
      " 'luofengge/mydata', 'luofengge/testDataset', 'luomingshuang/grid_lip_160_80',\n",
      " 'luozhouyang/dureader', 'luozhouyang/question-answering-datasets',\n",
      " 'lvwerra/codeparrot-clean-train', 'lvwerra/codeparrot-clean-valid',\n",
      " 'lvwerra/codeparrot-clean', 'lvwerra/codeparrot-valid-clean-minimal',\n",
      " 'lvwerra/codeparrot-valid', 'lvwerra/repo-images', 'lysandre/my-cool-dataset',\n",
      " 'm3hrdadfi/recipe_nlg_lite', 'mad/IndonesiaNewsDataset',\n",
      " 'maji/npo_mission_statement_ucf', 'majod/CleanNaturalQuestionsDataset',\n",
      " 'makanan/umich', 'manandey/OSCAR_Entity_Toy', 'manandey/entity_experiments',\n",
      " 'manishk31/Demo', 'mariosasko/exposure_errors', 'mariosasko/nao',\n",
      " 'markscrivo/OddsOn', 'martodaniel/terere', 'masked-neuron/amazon',\n",
      " 'masked-neuron/ccd', 'masked-neuron/qb', 'maximedb/mfaq_light',\n",
      " 'maximedb/paws-x-all', 'maximedb/vaccinchat', 'maximedb/wow', 'medzaf/test',\n",
      " 'meghanabhange/chaii', 'meghanabhange/hilm141021',\n",
      " 'meghanabhange/hitalm141021', 'meghanabhange/hitalmsandbox',\n",
      " 'meghanabhange/talm141021', 'merve/coco', 'merve/folk-mythology-tales',\n",
      " 'merve/poetry', 'merve/qqp', 'metaeval/blimp_classification',\n",
      " 'metaeval/crowdflower', 'metaeval/ethics', 'metaeval/recast',\n",
      " 'metalearning/kaggale-nlp-tutorial',\n",
      " 'metopedia/autonlp-data-Multiple-Source-Language-Consensus-Reconstruction-o',\n",
      " 'mhtoin/register_oscar', 'michaelbenayoun/wikipedia-bert-128',\n",
      " 'microsoft/codexglue_method_generation', 'midas/inspec_ke_tagged',\n",
      " 'midas/ldke3k_medium', 'midas/ldke3k_small', 'midas/ldkp3k_small',\n",
      " 'midas/semeval2010_ke_tagged', 'midas/semeval2017_ke_tagged',\n",
      " 'mishig/sample_images', 'mksaad/Arabic_news', 'ml6team/cnn_dailymail_nl',\n",
      " 'mldmm/glass_alloy_composition',\n",
      " 'mmcquade11-test/reuters-for-summarization-two',\n",
      " 'mmm-da/rutracker_anime_torrent_titles', 'mnemlaghi/widdd', 'moshew/my_raft',\n",
      " 'moumeneb1/French_arpa_lm', 'mozilla-foundation/common_voice_5_1',\n",
      " 'mr-robot/ec', 'mrm8488/fake-news', 'mrojas/abbreviation', 'mrojas/body',\n",
      " 'mrojas/disease', 'mrojas/family', 'mrojas/finding', 'mrojas/medication',\n",
      " 'mrojas/procedure', 'mrp/Thai-Semantic-Textual-Similarity-Benchmark',\n",
      " 'msivanes/github-issues', 'muhtasham/autonlp-data-Doctor_DE',\n",
      " 'mulcyber/europarl-mono', 'munggok/mc4-id', 'mustafa12/db_ee',\n",
      " 'mustafa12/edaaaas', 'mustafa12/thors', 'mvarma/medwiki',\n",
      " 'nateraw/auto-cats-and-dogs', 'nateraw/auto-exp-2', 'nateraw/beans',\n",
      " 'nateraw/beans_old', 'nateraw/blahblah', 'nateraw/bulk-dummy',\n",
      " 'nateraw/cats-and-dogs', 'nateraw/cats_vs_dogs', 'nateraw/dummy-csv-dataset',\n",
      " 'nateraw/fairface', 'nateraw/filings-10k', 'nateraw/food101',\n",
      " 'nateraw/food101_old', 'nateraw/huggingpics-data-2',\n",
      " 'nateraw/huggingpics-data', 'nateraw/image-folder', 'nateraw/imagefolder',\n",
      " 'nateraw/imagenette', 'nateraw/img-demo', 'nateraw/rock_paper_scissors',\n",
      " 'nateraw/sync_food101', 'nateraw/test', 'nateraw/wit', 'nathanlsl/news',\n",
      " 'naver-clova-conversation/klue-tc-dev-tsv',\n",
      " 'naver-clova-conversation/klue-tc-tsv',\n",
      " 'naver-clova-conversation-ul/klue-tc-dev', 'navjordj/nak_nb',\n",
      " 'ncats/EpiClassify4GARD', 'ncats/EpiSet4NER',\n",
      " 'ncats/GARD_EpiSet4TextClassification', 'ncduy/github-issues',\n",
      " 'ncoop57/athena_data', 'ncoop57/csnc_human_judgement', 'ncoop57/rico_captions',\n",
      " 'neelalex/raft-predictions', 'nielsr/FUNSD_layoutlmv2', 'nielsr/XFUN',\n",
      " 'nielsr/funsd', 'nlpaueb/test', 'nlpufg/brwac-pt', 'nlpufg/brwac',\n",
      " 'nlpufg/oscar-pt', 'notional/notional-python', 'ntutexas/amazon',\n",
      " 'nucklehead/ht-voice-dataset', 'oelkrise/CRT', 'osanseviero/codeparrot-train',\n",
      " 'osanseviero/llama_test', 'osanseviero/test', 'oscar-corpus/OSCAR-2109',\n",
      " 'ought/raft-submission', 'ought/raft', 'outman/test',\n",
      " 'papluca/language-identification', 'pariajm/sharif_emotional_speech_dataset',\n",
      " 'parivartanayurveda/Malesexproblemsayurvedictreatment', 'pasinit/scotus',\n",
      " 'pasinit/xlwic', 'patrickvonplaten/ami_single_headset_segmented_and_chunked',\n",
      " 'patrickvonplaten/common_voice_6_tr',\n",
      " 'patrickvonplaten/common_voice_processed_turkish',\n",
      " 'patrickvonplaten/helena_coworking', 'patrickvonplaten/librispeech_asr_dummy',\n",
      " 'patrickvonplaten/librispeech_local',\n",
      " 'patrickvonplaten/librispeech_local_dummy',\n",
      " 'patrickvonplaten/scientific_papers_dummy', 'pdesoyres/test',\n",
      " 'peixian/equity_evaluation_corpus', 'peixian/rtGender', 'pelican/test_100',\n",
      " 'pere/norwegian_colossal_corpus_v2_short100k',\n",
      " 'persiannlp/parsinlu_entailment', 'persiannlp/parsinlu_query_paraphrasing',\n",
      " 'persiannlp/parsinlu_reading_comprehension', 'persiannlp/parsinlu_sentiment',\n",
      " 'persiannlp/parsinlu_translation_en_fa',\n",
      " 'persiannlp/parsinlu_translation_fa_en',\n",
      " 'peterbonnesoeur/autonlp-data-test_text_summarization',\n",
      " 'philschmid/test_german_squad', 'phonlab-tcd/cngv1',\n",
      " 'phonlab-tcd/corpuscrawler-ga', 'piEsposito/br-quad-2.0',\n",
      " 'piEsposito/br_quad_20', 'piEsposito/squad_20_ptbr',\n",
      " 'pierreant-p/jcvd-or-linkedin', 'pierreguillou/test_datasetdict',\n",
      " 'pierresi/cord', 'pietrolesci/ag_news', 'princeton-nlp/datasets-for-simcse',\n",
      " 'priya3301/Graduation_admission', 'priya3301/tes', 'priya3301/test',\n",
      " 'proffttega/ILLUMINATI', 'proffttega/doc',\n",
      " 'proffttega/join_illuminati_to_become_rich', 'proffttega/persian_daily_news',\n",
      " 'project2you/asr', 'projecte-aina/ancora-ca-ner',\n",
      " 'projecte-aina/catalan_general_crawling',\n",
      " 'projecte-aina/catalan_government_crawling',\n",
      " 'projecte-aina/catalan_textual_corpus', 'projecte-aina/parlament_parla',\n",
      " 'projecte-aina/sts-ca', 'projecte-aina/teca', 'projecte-aina/tecla',\n",
      " 'projecte-aina/vilaquad', 'projecte-aina/viquiquad', 'projecte-aina/xquad-ca',\n",
      " 'pstroe/cc100-latin', 'pulmo/chest_xray', 'qa4pc/QA4PC',\n",
      " 'qfortier/instagram_ny', 'qr/cefr_book_sentences', 'quis/vnexpress-train',\n",
      " 'qwant/squad_fr', 'ragarwal/args-me-pairs', 'rahular/itihasa',\n",
      " 'rajeshradhakrishnan/malayalam_2020_wiki',\n",
      " 'rajeshradhakrishnan/malayalam_news', 'rajeshradhakrishnan/malayalam_wiki',\n",
      " 'ramybaly/conll2012', 'ramybaly/nerd', 'ranim/Algerian-Arabic', 'ranpox/xfund',\n",
      " 'rays2pix/example', 'rays2pix/example_dataset', 'readerbench/ChatLinks',\n",
      " 'rewardsignal/reddit_writing_prompts', 'rom1504/laion400m',\n",
      " 'ronaldvanos/testdata', 'rony/soccer-dialogues', 'rookieguy12/dataset',\n",
      " 'rosettarandd/rosetta_balcanica', 'roskoN/dailydialog',\n",
      " 'roskoN/dstc8-reddit-corpus', 'rubenwol/multi_news_qasrl', 'rwebe/rwebe',\n",
      " 's-myk/test', 's3h/arabic-gec', 's3h/arabic-grammar-corrections',\n",
      " 's3h/custom-qalb-classification', 's3h/customized-qalb-v2',\n",
      " 's3h/customized-qalb', 'sagnikrayc/mctest', 'sagnikrayc/quasar',\n",
      " 'salesken/Paraphrase_category_detection', 'samarlune/Holy_Coran', 'sanyu/aw',\n",
      " 'sanyu/er', 'sanyu/hh', 'sanyu/vb', 'sc2qa/sc2q_commoncrawl',\n",
      " 'sc2qa/sc2qa_commoncrawl', 'sdfufygvjh/fgghuviugviu', 'seamew/ChnSentiCorp',\n",
      " 'seamew/Hotel', 'seamew/THUCNews', 'seamew/THUCNewsText',\n",
      " 'seamew/THUCNewsTitle', 'seamew/Weibo',\n",
      " 'seanbethard/autonlp-data-summarization_model', 'sebastiaan/test-cefr',\n",
      " 'sentence-transformers/embedding-training-data',\n",
      " 'sentence-transformers/msmarco-hard-negatives',\n",
      " 'sentence-transformers/parallel-sentences',\n",
      " 'sentence-transformers/reddit-title-body', 'seregadgl/test_set',\n",
      " 'sevbqewre/vebdesbdty', 'severo/autonlp-data-sentiment_detection-3c8bcd36',\n",
      " 'severo/wit', 'shahrukhx01/questions-vs-statements',\n",
      " 'shanya/website_metadata_c4_toy', 'sharejing/BiPaR', 'shivkumarganesh/CoLA',\n",
      " 'shivmoha/squad-unanswerable', 'shivmoha/squad_adversarial_manual',\n",
      " 'shpotes/ms_coco', 'shpotes/tfcol', 'sijpapi/batch13', 'sijpapi/funsd',\n",
      " 'sijpapi/funsds', 'sismetanin/rureviews', 'smallv0221/my-test',\n",
      " 'somaimanguyat/Genjer', 'somaimanguyat/Koboy', 'somaimanguyat/Movieonline2021',\n",
      " 'somaimanguyat/Salome', 'somaimanguyat/movie21', 'somaimanguyat/xiomay',\n",
      " 'spacemanidol/ms_marco_doc2query', 'spacemanidol/msmarco_passage_ranking',\n",
      " 'ssasaa/gghghgh', 'sshleifer/pseudo_bart_xsum', 'stas/c4-en-10k',\n",
      " 'stas/openwebtext-10k', 'stas/oscar-en-10k', 'stas/wmt14-en-de-pre-processed',\n",
      " 'stas/wmt16-en-ro-pre-processed', 'stevhliu/demo', 'stiel/skjdhjkasdhasjkd',\n",
      " 'subiksha/OwnDataset', 'superb/superb-data', 'susumu2357/squad_v2_sv',\n",
      " 'svakulenk0/qrecc', 'svakulenk0/spoken_kgqa',\n",
      " 'svalabs/all-nli-german-translation-wmt19',\n",
      " 'svalabs/ms-marco-german-translation-wmt19', 'svanhvit/iceErrorCorpus',\n",
      " 'svanhvit/icelandic-ner-MIM-GOLD-NER', 'tals/test', 'tanfiona/causenet_wiki',\n",
      " 'tarudesu/UIT-ViCTSD', 'tau/scrolls', 'testOrganization01/test05',\n",
      " 'teven/c4_15M', 'teven/prompted_examples', 'teven/stackexchange',\n",
      " 'tharindu/MOLD', 'thiemowa/argumentationreviewcorpus',\n",
      " 'thiemowa/empathyreviewcorpus', 'thomwolf/codeparrot-train',\n",
      " 'thomwolf/codeparrot-valid', 'thomwolf/codeparrot', 'thomwolf/github-dataset',\n",
      " 'thomwolf/github-python', 'thomwolf/very-good-dataset',\n",
      " 'thomwolf/very-test-dataset-2', 'thomwolf/very-test-dataset',\n",
      " 'tianbaoxiexxx/kvret', 'tianxing1994/temp', 'toloka/CrowdSpeech',\n",
      " 'toloka/VoxDIY-RusNews', 'tommy19970714/common_voice', 'toriving/kosimcse',\n",
      " 'toriving/talktalk-sentiment-210713-multi-singleturn-custom-multiturn',\n",
      " 'tranduyquang2205/vietnamese_dataset', 'transformersbook/codeparrot-train',\n",
      " 'transformersbook/codeparrot-valid', 'transformersbook/codeparrot',\n",
      " 'ttj/metadata_arxiv', 'turingbench/TuringBench', 'uasoyasser/rgfes',\n",
      " 'ujjawal1612/quora', 'unicamp-dl/mmarco', 'usc-isi/WikiConvert',\n",
      " 'uva-irlab/canard_quretec', 'uva-irlab/trec-cast-2019-multi-turn',\n",
      " 'uyeongjae/load_klue_re_agmented', 'vasudevgupta/amazon-ml-hack',\n",
      " 'vasudevgupta/bigbird-tokenized-natural-questions', 'vasudevgupta/data',\n",
      " 'vasudevgupta/gsoc-librispeech', 'vasudevgupta/natural-questions-validation',\n",
      " 'vasudevgupta/prml_data_contest',\n",
      " 'vasudevgupta/temperature-distribution-2d-plate',\n",
      " 'vasudevgupta/temperature-distribution-3d-cylinder', 'vblagoje/eli5',\n",
      " 'vblagoje/eli5_support_docs', 'vblagoje/eli5v1',\n",
      " 'vblagoje/wikipedia_snippets_streamed', 'vctc92/sdsd', 'vctc92/test',\n",
      " 'vera-pro/ShadowLink', 'versae/bibles', 'versae/modernisa',\n",
      " 'versae/norwegian-t5-dataset-debug', 'versae/norwegian-t5-dataset-debug2',\n",
      " 'versae/norwegian-t5-dataset-debug3', 'vershasaxena91/datasets',\n",
      " 'vershasaxena91/squad_multitask', 'vesteinn/IC3',\n",
      " 'vesteinn/icelandic-ner-MIM-GOLD-NER', 'vidhur2k/multilingual-hate-speech',\n",
      " 'vishnun/huggingpics-data', 'vs4vijay/VizDS', 'w-nicole/childes_data',\n",
      " 'w-nicole/childes_data_no_tags', 'w-nicole/childes_data_no_tags_',\n",
      " 'w-nicole/childes_data_with_tags', 'w-nicole/childes_data_with_tags_',\n",
      " 'w11wo/imdb-javanese', 'wardenga/lsoie', 'webek18735/ddvoacantonesed',\n",
      " 'webek18735/dhikhscook', 'webimmunization/COVID-19-vaccine-attitude-tweets',\n",
      " 'webis/args_me', 'webis/conclugen', 'weijieliu/senteval_cn',\n",
      " 'wifis/ouivirtual', 'wikilee/ADFA_Mapping', 'wikimedia/wikipedia',\n",
      " 'wikimedia/wikisource', 'wisdomify/story', 'wmt/europarl',\n",
      " 'wmt/news-commentary', 'wmt/uncorpus', 'wmt/wikititles', 'wmt/wmt10',\n",
      " 'wmt/wmt13', 'wmt/wmt14', 'wmt/wmt15', 'wmt/wmt16', 'wmt/wmt17', 'wmt/wmt18',\n",
      " 'wmt/wmt19', 'wzkariampuzha/EpiClassifySet', 'wzkariampuzha/EpiExtract4GARD',\n",
      " 'wzywzy/telegram_summary', 'x-tech/cantonese-mandarin-translations',\n",
      " 'xiaj/ds_test', 'xiaj/test0919', 'xiaobendanyn/demo', 'xiaobendanyn/nyt10',\n",
      " 'xiaobendanyn/tacred', 'yannobla/Sunshine', 'yazdipour/text-to-sparql-kdwd',\n",
      " 'yhavinga/mc4_nl_cleaned', 'yluisfern/PBU', 'yo/devparty',\n",
      " 'ytsaig/news-12factor', 'yuanchuan/annotated_reference_strings',\n",
      " 'yuvalkirstain/asset', 'yxchar/ag-tlm', 'yxchar/amazon-tlm',\n",
      " 'yxchar/chemprot-tlm', 'yxchar/citation_intent-tlm', 'yxchar/hyp-tlm',\n",
      " 'yxchar/imdb-tlm', 'yxchar/rct-20k-tlm', 'yxchar/sciie-tlm', 'z-uo/squad-it',\n",
      " 'zapsdcn/chemprot', 'zapsdcn/rct-20k', 'zf-org/org_dataset', 'zfaB4Hmm/test',\n",
      " 'zloelias/kinopoisk-reviews', 'zloelias/lenta-ru', 'zlucia/casehold',\n",
      " 'acronym_identification', 'ade_corpus_v2', 'adversarial_qa', 'aeslc',\n",
      " 'afrikaans_ner_corpus', 'ag_news', 'ai2_arc', 'air_dialogue',\n",
      " 'ajgt_twitter_ar', 'allegro_reviews', 'allocine', 'alt', 'amazon_polarity',\n",
      " 'amazon_reviews_multi', 'amazon_us_reviews', 'ambig_qa', 'americas_nli', 'ami',\n",
      " 'amttl', 'anli', 'app_reviews', 'aqua_rat', 'aquamuse', 'ar_cov19',\n",
      " 'ar_res_reviews', 'ar_sarcasm', 'arabic_billion_words', 'arabic_pos_dialect',\n",
      " 'arabic_speech_corpus', 'arcd', 'arsentd_lev', 'art', 'arxiv_dataset',\n",
      " 'ascent_kb', 'aslg_pc12', 'asnq', 'asset', 'assin', 'assin2', 'atomic',\n",
      " 'autshumato', 'babi_qa', 'banking77', 'bbaw_egyptian', 'bbc_hindi_nli',\n",
      " 'bc2gm_corpus', 'beans', 'best2009', 'bianet', 'bible_para', 'big_patent',\n",
      " 'billsum', 'bing_coronavirus_query_set', 'biomrc', 'biosses', 'blbooksgenre',\n",
      " 'blended_skill_talk', 'blimp', 'blog_authorship_corpus', 'bn_hate_speech',\n",
      " 'bookcorpus', 'bookcorpusopen', 'boolq', 'bprec', 'break_data', 'brwac',\n",
      " 'bsd_ja_en', 'bswac', 'c3', 'c4', 'cail2018', 'caner', 'capes', 'casino',\n",
      " 'catalonia_independence', 'cats_vs_dogs', 'cawac', 'cbt', 'cc100', 'cc_news',\n",
      " 'ccaligned_multilingual', 'cdsc', 'cdt', 'cedr', 'cfq', 'chr_en', 'cifar10',\n",
      " 'cifar100', 'circa', 'civil_comments', 'clickbait_news_bg', 'climate_fever',\n",
      " 'clinc_oos', 'clue', 'cmrc2018', 'cmu_hinglish_dog', 'cnn_dailymail',\n",
      " 'coached_conv_pref', 'coarse_discourse', 'codah', 'code_search_net',\n",
      " 'code_x_glue_cc_clone_detection_big_clone_bench',\n",
      " 'code_x_glue_cc_clone_detection_poj104', 'code_x_glue_cc_cloze_testing_all',\n",
      " 'code_x_glue_cc_cloze_testing_maxmin', 'code_x_glue_cc_code_completion_line',\n",
      " 'code_x_glue_cc_code_completion_token', 'code_x_glue_cc_code_refinement',\n",
      " 'code_x_glue_cc_code_to_code_trans', 'code_x_glue_cc_defect_detection',\n",
      " 'code_x_glue_ct_code_to_text', 'code_x_glue_tc_nl_code_search_adv',\n",
      " 'code_x_glue_tc_text_to_code', 'code_x_glue_tt_text_to_text', 'com_qa',\n",
      " 'common_gen', 'common_language', 'common_voice', 'commonsense_qa',\n",
      " 'competition_math', 'compguesswhat', 'conceptnet5', 'conll2000', 'conll2002',\n",
      " 'conll2003', 'conllpp', 'conv_ai', 'conv_ai_2', 'conv_ai_3', 'conv_questions',\n",
      " 'coqa', 'cord19', 'cornell_movie_dialog', 'cos_e', 'cosmos_qa', 'counter',\n",
      " 'covid_qa_castorini', 'covid_qa_deepset', 'covid_qa_ucsd',\n",
      " 'covid_tweets_japanese', 'covost2', 'craigslist_bargains', 'crawl_domain',\n",
      " 'crd3', 'crime_and_punish', 'crows_pairs', 'cryptonite', 'cs_restaurants',\n",
      " 'cuad', 'curiosity_dialogs', 'daily_dialog', 'dane',\n",
      " 'danish_political_comments', 'dart', 'datacommons_factcheck', 'dbpedia_14',\n",
      " 'dbrd', 'deal_or_no_dialog', 'definite_pronoun_resolution', 'dengue_filipino',\n",
      " 'dialog_re', 'diplomacy_detection', 'disaster_response_messages', 'discofuse',\n",
      " 'discovery', 'disfl_qa', 'doc2dial', 'docred', 'doqa', 'dream', 'drop',\n",
      " 'duorc', 'dutch_social', 'dyk', 'e2e_nlg', 'e2e_nlg_cleaned', 'ecb',\n",
      " 'ecthr_cases', 'eduge', 'ehealth_kd', 'eitb_parcc', 'eli5', 'emea', 'emo',\n",
      " 'emotion', 'emotone_ar', 'empathetic_dialogues', 'enriched_web_nlg',\n",
      " 'eraser_multi_rc', 'esnli', 'eth_py150_open', 'ethos', 'eu_regulatory_ir',\n",
      " 'eurlex', 'euronews', 'europa_eac_tm', 'europa_ecdc_tm', 'europarl_bilingual',\n",
      " 'event2Mind', 'evidence_infer_treatment', 'exams', 'factckbr',\n",
      " 'fake_news_english', 'fake_news_filipino', 'farsi_news', 'fashion_mnist',\n",
      " 'fever', 'few_rel', 'financial_phrasebank', 'finer', 'flores', 'flue',\n",
      " 'food101', 'fquad', 'freebase_qa', 'gap', 'gem', 'generated_reviews_enth',\n",
      " 'generics_kb', 'german_legal_entity_recognition', 'germaner', 'germeval_14',\n",
      " 'giga_fren', 'gigaword', 'glucose', 'glue', 'gnad10', 'go_emotions', 'gooaq',\n",
      " 'google_wellformed_query', 'grail_qa', 'great_code', 'greek_legal_code',\n",
      " 'guardian_authorship', 'gutenberg_time', 'hans', 'hansards', 'hard', 'harem',\n",
      " 'has_part', 'hate_offensive', 'hate_speech18', 'hate_speech_filipino',\n",
      " 'hate_speech_offensive', 'hate_speech_pl', 'hate_speech_portuguese',\n",
      " 'hatexplain', 'hausa_voa_ner', 'hausa_voa_topics', 'hda_nli_hindi', 'head_qa',\n",
      " 'health_fact', 'hebrew_projectbenyehuda', 'hebrew_sentiment',\n",
      " 'hebrew_this_world', 'hellaswag', 'hendrycks_test', 'hind_encorp',\n",
      " 'hindi_discourse', 'hippocorpus', 'hkcancor', 'hlgd', 'hope_edi', 'hotpot_qa',\n",
      " 'hover', 'hrenwac_para', 'hrwac', 'humicroedit', 'hybrid_qa',\n",
      " 'hyperpartisan_news_detection', 'iapp_wiki_qa_squad', 'id_clickbait',\n",
      " 'id_liputan6', 'id_nergrit_corpus', 'id_newspapers_2018', 'id_panl_bppt',\n",
      " 'id_puisi', 'igbo_english_machine_translation', 'igbo_monolingual', 'igbo_ner',\n",
      " 'ilist', 'imdb', 'imdb_urdu_reviews', 'imppres', 'indic_glue', 'indonli',\n",
      " 'indonlu', 'inquisitive_qg', 'interpress_news_category_tr',\n",
      " 'interpress_news_category_tr_lite', 'irc_disentangle', 'isixhosa_ner_corpus',\n",
      " 'isizulu_ner_corpus', 'iwslt2017', 'jeopardy', 'jfleg', 'jigsaw_toxicity_pred',\n",
      " 'jigsaw_unintended_bias', 'jnlpba', 'journalists_questions', 'kan_hope',\n",
      " 'kannada_news', 'kd_conv', 'kde4', 'kelm', 'kilt_tasks', 'kilt_wikipedia',\n",
      " 'kinnews_kirnews', 'klue', 'kor_3i4k', 'kor_hate', 'kor_ner', 'kor_nli',\n",
      " 'kor_nlu', 'kor_qpair', 'kor_sae', 'kor_sarcasm', 'labr', 'lama', 'lambada',\n",
      " 'large_spanish_corpus', 'laroseda', 'lc_quad', 'lener_br', 'lex_glue', 'liar',\n",
      " 'librispeech_asr', 'librispeech_lm', 'limit', 'lince', 'linnaeus', 'liveqa',\n",
      " 'lj_speech', 'lm1b', 'lst20', 'm_lama', 'mac_morpho', 'makhzan', 'masakhaner',\n",
      " 'math_dataset', 'math_qa', 'matinf', 'mbpp', 'mc4', 'mc_taco',\n",
      " 'md_gender_bias', 'mdd', 'med_hop', 'medal', 'medical_dialog',\n",
      " 'medical_questions_pairs', 'menyo20k_mt', 'meta_woz', 'metooma', 'metrec',\n",
      " 'miam', 'mkb', 'mkqa', 'mlqa', 'mlsum', 'mnist', 'mocha', 'moroco',\n",
      " 'movie_rationales', 'mrqa', 'ms_marco', 'ms_terms', 'msr_genomics_kbcomp',\n",
      " 'msr_sqa', 'msr_text_compression', 'msr_zhen_translation_parity', 'msra_ner',\n",
      " 'mt_eng_vietnamese', 'muchocine', 'multi_booked', 'multi_eurlex', 'multi_news',\n",
      " 'multi_nli', 'multi_nli_mismatch', 'multi_para_crawl', 'multi_re_qa',\n",
      " 'multi_woz_v22', 'multi_x_science_sum', 'multidoc2dial',\n",
      " 'multilingual_librispeech', 'mutual_friends', 'mwsc', 'myanmar_news',\n",
      " 'narrativeqa', 'narrativeqa_manual', 'natural_questions', 'ncbi_disease',\n",
      " 'nchlt', 'ncslgr', 'nell', 'neural_code_search', 'news_commentary',\n",
      " 'newsgroup', 'newsph', 'newsph_nli', 'newspop', 'newsqa', 'newsroom',\n",
      " 'nkjp-ner', 'nli_tr', 'nlu_evaluation_data', 'norec', 'norne', 'norwegian_ner',\n",
      " 'nq_open', 'nsmc', 'numer_sense', 'numeric_fused_head', 'oclar', 'offcombr',\n",
      " 'offenseval2020_tr', 'offenseval_dravidian', 'ofis_publik', 'ohsumed', 'ollie',\n",
      " 'omp', 'onestop_english', 'open_subtitles', 'openai_humaneval', 'openbookqa',\n",
      " 'openslr', 'openwebtext', 'opinosis', 'opus100', 'opus_books', 'opus_dgt',\n",
      " 'opus_dogc', 'opus_elhuyar', 'opus_euconst', 'opus_finlex', 'opus_fiskmo',\n",
      " 'opus_gnome', 'opus_infopankki', 'opus_memat', 'opus_montenegrinsubs',\n",
      " 'opus_openoffice', 'opus_paracrawl', 'opus_rf', 'opus_tedtalks', 'opus_ubuntu',\n",
      " 'opus_wikipedia', 'opus_xhosanavy', 'orange_sum', 'oscar', 'para_crawl',\n",
      " 'para_pat', 'parsinlu_reading_comprehension', 'paws', 'paws-x', 'pec',\n",
      " 'peer_read', 'peoples_daily_ner', 'per_sent', 'persian_ner', 'pg19', 'php',\n",
      " 'piaf', 'pib', 'piqa', 'pn_summary', 'poem_sentiment', 'polemo2',\n",
      " 'poleval2019_cyberbullying', 'poleval2019_mt', 'polsum', 'polyglot_ner',\n",
      " 'prachathai67k', 'pragmeval', 'proto_qa', 'psc', 'ptb_text_only', 'pubmed',\n",
      " 'pubmed_qa', 'py_ast', 'qa4mre', 'qa_srl', 'qa_zre', 'qangaroo', 'qanta',\n",
      " 'qasc', 'qasper', 'qed', 'qed_amara', 'quac', 'quail', 'quarel', 'quartz',\n",
      " 'quora', 'quoref', 'race', 're_dial', 'reasoning_bg', 'recipe_nlg', 'reclor',\n",
      " 'reddit', 'reddit_tifu', 'refresd', 'reuters21578', 'riddle_sense', 'ro_sent',\n",
      " 'ro_sts', 'ro_sts_parallel', 'roman_urdu', 'ronec', 'ropes', 'rotten_tomatoes',\n",
      " 'russian_super_glue', 's2orc', 'samsum', 'sanskrit_classic', 'saudinewsnet',\n",
      " 'sberquad', 'scan', 'scb_mt_enth_2020', 'schema_guided_dstc8', 'scicite',\n",
      " 'scielo', 'scientific_papers', 'scifact', 'sciq', 'scitail', 'scitldr',\n",
      " 'search_qa', 'sede', 'selqa', 'sem_eval_2010_task_8', 'sem_eval_2014_task_1',\n",
      " 'sem_eval_2018_task_1', 'sem_eval_2020_task_11', 'sent_comp', 'senti_lex',\n",
      " 'senti_ws', 'sentiment140', 'sepedi_ner', 'sesotho_ner_corpus', 'setimes',\n",
      " 'setswana_ner_corpus', 'sharc', 'sharc_modified', 'sick', 'silicone',\n",
      " 'simple_questions_v2', 'siswati_ner_corpus', 'smartdata', 'sms_spam',\n",
      " 'snips_built_in_intents', 'snli', 'snow_simplified_japanese_corpus',\n",
      " 'so_stacksample', 'social_bias_frames', 'social_i_qa',\n",
      " 'sofc_materials_articles', 'sogou_news', 'spanish_billion_words', 'spc',\n",
      " 'species_800', 'spider', 'squad', 'squad_adversarial', 'squad_es', 'squad_it',\n",
      " 'squad_kor_v1', 'squad_kor_v2', 'squad_v1_pt', 'squad_v2', 'squadshifts',\n",
      " 'srwac', 'sst', 'stereoset', 'story_cloze', 'stsb_mt_sv', 'stsb_multi_mt',\n",
      " 'style_change_detection', 'subjqa', 'super_glue', 'superb', 'swag', 'swahili',\n",
      " 'swahili_news', 'swda', 'swedish_medical_ner', 'swedish_ner_corpus',\n",
      " 'swedish_reviews', 'swiss_judgment_prediction', 'tab_fact',\n",
      " 'tamilmixsentiment', 'tanzil', 'tapaco', 'tashkeela', 'taskmaster1',\n",
      " 'taskmaster2', 'taskmaster3', 'tatoeba', 'ted_hrlr', 'ted_iwlst2013',\n",
      " 'ted_multi', 'ted_talks_iwslt', 'telugu_books', 'telugu_news',\n",
      " 'tep_en_fa_para', 'thai_toxicity_tweet', 'thainer', 'thaiqa_squad', 'thaisum',\n",
      " 'the_pile', 'the_pile_books3', 'the_pile_openwebtext2',\n",
      " 'the_pile_stack_exchange', 'tilde_model', 'time_dial',\n",
      " 'times_of_india_news_headlines', 'timit_asr', 'tiny_shakespeare', 'tlc',\n",
      " 'tmu_gfm_dataset', 'totto', 'trec', 'trivia_qa', 'tsac', 'ttc4900', 'tunizi',\n",
      " 'tuple_ie', 'turk', 'turkish_movie_sentiment', 'turkish_ner',\n",
      " 'turkish_product_reviews', 'turkish_shrinked_ner', 'turku_ner_corpus',\n",
      " 'tweet_eval', 'tweet_qa', 'tweets_ar_en_parallel',\n",
      " 'tweets_hate_speech_detection', 'twi_text_c3', 'twi_wordsim353', 'tydiqa',\n",
      " 'ubuntu_dialogs_corpus', 'udhr', 'um005', 'un_ga', 'un_multi', 'un_pc',\n",
      " 'universal_dependencies', 'universal_morphologies', 'urdu_fake_news',\n",
      " 'urdu_sentiment_corpus', 'vivos', 'web_nlg', 'web_of_science', 'web_questions',\n",
      " 'weibo_ner', 'wi_locness', 'wiki40b', 'wiki_asp', 'wiki_atomic_edits',\n",
      " 'wiki_auto', 'wiki_bio', 'wiki_dpr', 'wiki_hop', 'wiki_lingua', 'wiki_movies',\n",
      " 'wiki_qa', 'wiki_qa_ar', 'wiki_snippets', 'wiki_source', 'wiki_split',\n",
      " 'wiki_summary', 'wikiann', 'wikicorpus', 'wikihow', 'wikipedia', 'wikisql',\n",
      " 'wikitext', 'wikitext_tl39', 'wili_2018', 'wino_bias', 'winograd_wsc',\n",
      " 'winogrande', 'wiqa', 'wisesight1000', 'wisesight_sentiment', 'wmt14', 'wmt15',\n",
      " 'wmt16', 'wmt17', 'wmt18', 'wmt19', 'wmt20_mlqe_task1', 'wmt20_mlqe_task2',\n",
      " 'wmt20_mlqe_task3', 'wmt_t2t', 'wnut_17', 'wongnai_reviews', 'woz_dialogue',\n",
      " 'wrbsc', 'x_stance', 'xcopa', 'xcsr', 'xed_en_fi', 'xglue', 'xnli',\n",
      " 'xor_tydi_qa', 'xquad', 'xquad_r', 'xsum', 'xsum_factuality', 'xtreme',\n",
      " 'yahoo_answers_qa', 'yahoo_answers_topics', 'yelp_polarity',\n",
      " 'yelp_review_full', 'yoruba_bbc_topics', 'yoruba_gv_ner', 'yoruba_text_c3',\n",
      " 'yoruba_wordsim353', 'youtube_caption_corrections', 'zest',\n",
      " 'JesseParvess/Book_Snippets_ASR']\n",
      "🤩 Currently 33 metrics are available on the hub:\n",
      "['accuracy', 'bertscore', 'bleu', 'bleurt', 'cer', 'chrf', 'code_eval', 'comet',\n",
      " 'competition_math', 'coval', 'cuad', 'f1', 'gleu', 'glue', 'google_bleu',\n",
      " 'indic_glue', 'matthews_correlation', 'meteor', 'pearsonr', 'precision',\n",
      " 'recall', 'rouge', 'sacrebleu', 'sari', 'seqeval', 'spearmanr', 'squad',\n",
      " 'squad_v2', 'super_glue', 'ter', 'wer', 'wiki_split', 'xnli']\n"
     ]
    }
   ],
   "source": [
    "# Currently available datasets and metrics\n",
    "datasets = list_datasets()\n",
    "metrics = list_metrics()\n",
    "\n",
    "print(f\"🤩 Currently {len(datasets)} datasets are available on the hub:\")\n",
    "pprint(datasets, compact=True)\n",
    "print(f\"🤩 Currently {len(metrics)} metrics are available on the hub:\")\n",
    "pprint(metrics, compact=True)"
   ]
  },
  {
   "cell_type": "code",
   "execution_count": 4,
   "metadata": {
    "colab": {
     "base_uri": "https://localhost:8080/",
     "height": 544
    },
    "id": "7T5AG3BxvSUr",
    "outputId": "35665e60-2959-41b8-d511-9da3f64178b1"
   },
   "outputs": [
    {
     "name": "stdout",
     "output_type": "stream",
     "text": [
      "{'author': None,\n",
      " 'card_data': {'annotations_creators': ['crowdsourced'],\n",
      "               'language_creators': ['crowdsourced', 'found'],\n",
      "               'languages': ['en'],\n",
      "               'licenses': ['cc-by-4.0'],\n",
      "               'multilinguality': ['monolingual'],\n",
      "               'paperswithcode_id': 'squad',\n",
      "               'pretty_name': 'SQuAD',\n",
      "               'size_categories': ['10K<n<100K'],\n",
      "               'source_datasets': ['extended|wikipedia'],\n",
      "               'task_categories': ['question-answering'],\n",
      "               'task_ids': ['extractive-qa']},\n",
      " 'citation': '@article{2016arXiv160605250R,\\n'\n",
      "             '       author = {{Rajpurkar}, Pranav and {Zhang}, Jian and '\n",
      "             '{Lopyrev},\\n'\n",
      "             '                 Konstantin and {Liang}, Percy},\\n'\n",
      "             '        title = \"{SQuAD: 100,000+ Questions for Machine '\n",
      "             'Comprehension of Text}\",\\n'\n",
      "             '      journal = {arXiv e-prints},\\n'\n",
      "             '         year = 2016,\\n'\n",
      "             '          eid = {arXiv:1606.05250},\\n'\n",
      "             '        pages = {arXiv:1606.05250},\\n'\n",
      "             'archivePrefix = {arXiv},\\n'\n",
      "             '       eprint = {1606.05250},\\n'\n",
      "             '}',\n",
      " 'description': 'Stanford Question Answering Dataset (SQuAD) is a reading '\n",
      "                'comprehension dataset, consisting of questions posed by '\n",
      "                'crowdworkers on a set of Wikipedia articles, where the answer '\n",
      "                'to every question is a segment of text, or span, from the '\n",
      "                'corresponding reading passage, or the question might be '\n",
      "                'unanswerable.',\n",
      " 'downloads': 118150,\n",
      " 'id': 'squad',\n",
      " 'lastModified': '2021-07-19T07:08:05.268Z',\n",
      " 'likes': 14,\n",
      " 'paperswithcode_id': 'squad',\n",
      " 'private': False,\n",
      " 'siblings': None,\n",
      " 'tags': ['pretty_name:SQuAD',\n",
      "          'annotations_creators:crowdsourced',\n",
      "          'language_creators:crowdsourced',\n",
      "          'language_creators:found',\n",
      "          'languages:en',\n",
      "          'licenses:cc-by-4.0',\n",
      "          'multilinguality:monolingual',\n",
      "          'size_categories:10K<n<100K',\n",
      "          'source_datasets:extended|wikipedia',\n",
      "          'task_categories:question-answering',\n",
      "          'task_ids:extractive-qa']}\n"
     ]
    }
   ],
   "source": [
    "# You can access various attributes of the datasets before downloading them\n",
    "squad_dataset = list_datasets(with_details=True)[datasets.index('squad')]\n",
    "\n",
    "pprint(squad_dataset.__dict__)  # It's a simple python dataclass"
   ]
  },
  {
   "cell_type": "markdown",
   "metadata": {
    "id": "9uqSkkSovSUt"
   },
   "source": [
    "## An example with SQuAD"
   ]
  },
  {
   "cell_type": "code",
   "execution_count": 5,
   "metadata": {
    "colab": {
     "base_uri": "https://localhost:8080/",
     "height": 267,
     "referenced_widgets": [
      "595ade6ae07a4a7a952b5d2dc8949204",
      "6eab113d05e64e7e8dceae45ee0a3bc3",
      "4530fc3d31ba4feaa61dfe1dbac87b3c",
      "dd1b1bf311c340f393d6400c5925dffb",
      "6c5c7def1b1144668c6956551faa1941",
      "53aaaa91d76346b3a2d1020c5f6cf84e",
      "b5b59da922dd45cfa245ffb09899eb1a",
      "45681ef1b5a84165aa216f48c4873cbb",
      "76dead3c2c364213b0e0363fdef5cdcc",
      "c20179e39c46450984d47e0dd194228e",
      "52f1d871456a4461937e4067688065ee",
      "641418be13af474e82ea008e54262513",
      "83ee754b4ee54790838327636615e3fa",
      "9175d1b7d7a6432ba5602f4c712a2b20",
      "26cb4eca418946c484df632242464749",
      "e1522a45424e45c0b06128fc8a0138a9",
      "bb2180ed0b7641889c0647c58da75307",
      "40427aa5aa2d46f79a3ba1b838632125",
      "a7ca77b8de204beea429711b0ce4c5a3",
      "a5a887929f444b6d8e8afc0e27d59e86",
      "fe27722e0a614d4590598f4815b17188",
      "db5f7d3f01bd4f8da6b69b435e0c48ef",
      "a522ec5b819949d2ad479000b4a83762",
      "4bcb701ee45e47d2a7774d0f278e13ea",
      "a4a207497478418e80fc40839e664d82",
      "27be38dee58647e18a200e901504f93c",
      "e5f89475c74446fb9e3aa5eca6a60a6b",
      "db3613f920f64c64af07ca2d5a6d820d",
      "85132276675340b0b94fa09b958957fe",
      "d36ba7ada1fa46c492dd364886ee9d08",
      "259b256a410e4727b9153d3f8ecfabdc",
      "6d520d2a14e84304a126671baf9d37a5",
      "d1cc766d56a24a01aa3deeac91ce6d0e",
      "ff267b0bad854b6b9efc489855251db2",
      "8f91bd0201994d309f42fc75f2215d9d",
      "6f54a6cb167149b495d8f26594f2ec1a",
      "866381cf88054cbfbd65a945296bce6f",
      "ef7f95dd4f2b4e908e9557232a2def24",
      "54b0842b50b04171ba5d720addfcf0bb",
      "62c3660b39e240b0b1699aebc9979d4f",
      "026917f385374fada46a87105a4b38d2",
      "807701a9f18c4a91b775451d65817e0c",
      "7bfd6156b20248d184fc9fa3258319e7",
      "882d19bb42644fc0805ed0fef762ea0b",
      "0d457dc560ae43b98e03ab5d566a89ff",
      "bf0744b58344429c95edab0a1f52b232",
      "006e4a326af543a7800d8383aa636efb",
      "496f5b0327c047dda2e27938933d282f"
     ]
    },
    "id": "aOXl6afcvSUu",
    "outputId": "301f5808-448f-45ac-a5f2-0b93698683d1"
   },
   "outputs": [
    {
     "name": "stderr",
     "output_type": "stream",
     "text": [
      "Reusing dataset squad (/home/matt/.cache/huggingface/datasets/squad/plain_text/1.0.0/d6ec3ceb99ca480ce37cdd35555d6cb2511d223b9150cce08a837ef62ffea453)\n"
     ]
    }
   ],
   "source": [
    "# Downloading and loading a dataset\n",
    "dataset = load_dataset('squad', split='validation[:10%]')"
   ]
  },
  {
   "cell_type": "markdown",
   "metadata": {
    "id": "rQ0G-eK3vSUw"
   },
   "source": [
    "This call to `datasets.load_dataset()` does the following steps under the hood:\n",
    "\n",
    "1. Download and import in the library the **SQuAD python processing script** from HuggingFace AWS bucket if it's not already stored in the library. You can find the SQuAD processing script [here](https://github.com/huggingface/datasets/tree/master/datasets/squad/squad.py) for instance.\n",
    "\n",
    "   Processing scripts are small python scripts which define the info (citation, description) and format of the dataset and contain the URL to the original SQuAD JSON files and the code to load examples from the original SQuAD JSON files.\n",
    "\n",
    "\n",
    "2. Run the SQuAD python processing script which will:\n",
    "    - **Download the SQuAD dataset** from the original URL (see the script) if it's not already downloaded and cached.\n",
    "    - **Process and cache** all SQuAD in a structured Arrow table for each standard splits stored on the drive.\n",
    "\n",
    "      Arrow table are arbitrarily long tables, typed with types that can be mapped to numpy/pandas/python standard types and can store nested objects. They can be directly access from drive, loaded in RAM or even streamed over the web.\n",
    "    \n",
    "\n",
    "3. Return a **dataset built from the splits** asked by the user (default: all); in the above example we create a dataset with the first 10% of the validation split."
   ]
  },
  {
   "cell_type": "code",
   "execution_count": 6,
   "metadata": {
    "colab": {
     "base_uri": "https://localhost:8080/",
     "height": 734
    },
    "id": "fercoFwLvSUx",
    "outputId": "b5fbf431-b40d-47b1-a609-58f308d81033"
   },
   "outputs": [
    {
     "name": "stdout",
     "output_type": "stream",
     "text": [
      "{'builder_name': 'squad',\n",
      " 'citation': '@article{2016arXiv160605250R,\\n'\n",
      "             '       author = {{Rajpurkar}, Pranav and {Zhang}, Jian and '\n",
      "             '{Lopyrev},\\n'\n",
      "             '                 Konstantin and {Liang}, Percy},\\n'\n",
      "             '        title = \"{SQuAD: 100,000+ Questions for Machine '\n",
      "             'Comprehension of Text}\",\\n'\n",
      "             '      journal = {arXiv e-prints},\\n'\n",
      "             '         year = 2016,\\n'\n",
      "             '          eid = {arXiv:1606.05250},\\n'\n",
      "             '        pages = {arXiv:1606.05250},\\n'\n",
      "             'archivePrefix = {arXiv},\\n'\n",
      "             '       eprint = {1606.05250},\\n'\n",
      "             '}\\n',\n",
      " 'config_name': 'plain_text',\n",
      " 'dataset_size': 89819400,\n",
      " 'description': 'Stanford Question Answering Dataset (SQuAD) is a reading '\n",
      "                'comprehension dataset, consisting of questions posed by '\n",
      "                'crowdworkers on a set of Wikipedia articles, where the answer '\n",
      "                'to every question is a segment of text, or span, from the '\n",
      "                'corresponding reading passage, or the question might be '\n",
      "                'unanswerable.\\n',\n",
      " 'download_checksums': {'https://rajpurkar.github.io/SQuAD-explorer/dataset/dev-v1.1.json': {'checksum': '95aa6a52d5d6a735563366753ca50492a658031da74f301ac5238b03966972c9',\n",
      "                                                                                             'num_bytes': 4854279},\n",
      "                        'https://rajpurkar.github.io/SQuAD-explorer/dataset/train-v1.1.json': {'checksum': '3527663986b8295af4f7fcdff1ba1ff3f72d07d61a20f487cb238a6ef92fd955',\n",
      "                                                                                               'num_bytes': 30288272}},\n",
      " 'download_size': 35142551,\n",
      " 'features': {'answers': Sequence(feature={'text': Value(dtype='string', id=None), 'answer_start': Value(dtype='int32', id=None)}, length=-1, id=None),\n",
      "              'context': Value(dtype='string', id=None),\n",
      "              'id': Value(dtype='string', id=None),\n",
      "              'question': Value(dtype='string', id=None),\n",
      "              'title': Value(dtype='string', id=None)},\n",
      " 'homepage': 'https://rajpurkar.github.io/SQuAD-explorer/',\n",
      " 'license': '',\n",
      " 'post_processed': None,\n",
      " 'post_processing_size': None,\n",
      " 'size_in_bytes': 124961951,\n",
      " 'splits': {'train': SplitInfo(name='train', num_bytes=79346360, num_examples=87599, dataset_name='squad'),\n",
      "            'validation': SplitInfo(name='validation', num_bytes=10473040, num_examples=10570, dataset_name='squad')},\n",
      " 'supervised_keys': None,\n",
      " 'task_templates': [QuestionAnsweringExtractive(task='question-answering-extractive', question_column='question', context_column='context', answers_column='answers')],\n",
      " 'version': 1.0.0}\n"
     ]
    }
   ],
   "source": [
    "# Informations on the dataset (description, citation, size, splits, format...)\n",
    "# are provided in `dataset.info` (a simple python dataclass) and also as direct attributes in the dataset object\n",
    "pprint(dataset.info.__dict__)"
   ]
  },
  {
   "cell_type": "markdown",
   "metadata": {
    "id": "GE0E87zsvSUz"
   },
   "source": [
    "## Inspecting and using the dataset: elements, slices and columns"
   ]
  },
  {
   "cell_type": "markdown",
   "metadata": {
    "id": "DKf4YFnevSU0"
   },
   "source": [
    "The returned `Dataset` object is a memory mapped dataset that behave similarly to a normal map-style dataset. It is backed by an Apache Arrow table which allows many interesting features."
   ]
  },
  {
   "cell_type": "code",
   "execution_count": 7,
   "metadata": {
    "colab": {
     "base_uri": "https://localhost:8080/",
     "height": 54
    },
    "id": "tP1xPqSyvSU0",
    "outputId": "1f921b91-3deb-4dbd-b19e-dbddfd29e095"
   },
   "outputs": [
    {
     "name": "stdout",
     "output_type": "stream",
     "text": [
      "Dataset({\n",
      "    features: ['id', 'title', 'context', 'question', 'answers'],\n",
      "    num_rows: 1057\n",
      "})\n"
     ]
    }
   ],
   "source": [
    "print(dataset)"
   ]
  },
  {
   "cell_type": "markdown",
   "metadata": {
    "id": "aiO3rC8yvSU2"
   },
   "source": [
    "You can query it's length and get items or slices like you would do normally with a python mapping."
   ]
  },
  {
   "cell_type": "code",
   "execution_count": 8,
   "metadata": {
    "colab": {
     "base_uri": "https://localhost:8080/",
     "height": 374
    },
    "id": "xxLcdj2yvSU3",
    "outputId": "5eb1eb3b-0f77-4935-c5f7-5f34747d0af7"
   },
   "outputs": [
    {
     "name": "stdout",
     "output_type": "stream",
     "text": [
      "👉 Dataset len(dataset): 1057\n",
      "\n",
      "👉 First item 'dataset[0]':\n",
      "{'answers': {'answer_start': [177, 177, 177],\n",
      "             'text': ['Denver Broncos', 'Denver Broncos', 'Denver Broncos']},\n",
      " 'context': 'Super Bowl 50 was an American football game to determine the '\n",
      "            'champion of the National Football League (NFL) for the 2015 '\n",
      "            'season. The American Football Conference (AFC) champion Denver '\n",
      "            'Broncos defeated the National Football Conference (NFC) champion '\n",
      "            'Carolina Panthers 24–10 to earn their third Super Bowl title. The '\n",
      "            \"game was played on February 7, 2016, at Levi's Stadium in the San \"\n",
      "            'Francisco Bay Area at Santa Clara, California. As this was the '\n",
      "            '50th Super Bowl, the league emphasized the \"golden anniversary\" '\n",
      "            'with various gold-themed initiatives, as well as temporarily '\n",
      "            'suspending the tradition of naming each Super Bowl game with '\n",
      "            'Roman numerals (under which the game would have been known as '\n",
      "            '\"Super Bowl L\"), so that the logo could prominently feature the '\n",
      "            'Arabic numerals 50.',\n",
      " 'id': '56be4db0acb8001400a502ec',\n",
      " 'question': 'Which NFL team represented the AFC at Super Bowl 50?',\n",
      " 'title': 'Super_Bowl_50'}\n"
     ]
    }
   ],
   "source": [
    "print(f\"👉 Dataset len(dataset): {len(dataset)}\")\n",
    "print(\"\\n👉 First item 'dataset[0]':\")\n",
    "pprint(dataset[0])"
   ]
  },
  {
   "cell_type": "code",
   "execution_count": 9,
   "metadata": {
    "colab": {
     "base_uri": "https://localhost:8080/",
     "height": 748
    },
    "id": "zk1WQ_cczP5w",
    "outputId": "3fe3d8c7-c97f-4c71-a15a-42825f86dfa4"
   },
   "outputs": [
    {
     "name": "stdout",
     "output_type": "stream",
     "text": [
      "\n",
      "👉Slice of the two items 'dataset[10:12]':\n",
      "{'answers': [{'answer_start': [334, 334, 334],\n",
      "              'text': ['February 7, 2016', 'February 7', 'February 7, 2016']},\n",
      "             {'answer_start': [177, 177, 177],\n",
      "              'text': ['Denver Broncos', 'Denver Broncos', 'Denver Broncos']}],\n",
      " 'context': ['Super Bowl 50 was an American football game to determine the '\n",
      "             'champion of the National Football League (NFL) for the 2015 '\n",
      "             'season. The American Football Conference (AFC) champion Denver '\n",
      "             'Broncos defeated the National Football Conference (NFC) champion '\n",
      "             'Carolina Panthers 24–10 to earn their third Super Bowl title. '\n",
      "             \"The game was played on February 7, 2016, at Levi's Stadium in \"\n",
      "             'the San Francisco Bay Area at Santa Clara, California. As this '\n",
      "             'was the 50th Super Bowl, the league emphasized the \"golden '\n",
      "             'anniversary\" with various gold-themed initiatives, as well as '\n",
      "             'temporarily suspending the tradition of naming each Super Bowl '\n",
      "             'game with Roman numerals (under which the game would have been '\n",
      "             'known as \"Super Bowl L\"), so that the logo could prominently '\n",
      "             'feature the Arabic numerals 50.',\n",
      "             'Super Bowl 50 was an American football game to determine the '\n",
      "             'champion of the National Football League (NFL) for the 2015 '\n",
      "             'season. The American Football Conference (AFC) champion Denver '\n",
      "             'Broncos defeated the National Football Conference (NFC) champion '\n",
      "             'Carolina Panthers 24–10 to earn their third Super Bowl title. '\n",
      "             \"The game was played on February 7, 2016, at Levi's Stadium in \"\n",
      "             'the San Francisco Bay Area at Santa Clara, California. As this '\n",
      "             'was the 50th Super Bowl, the league emphasized the \"golden '\n",
      "             'anniversary\" with various gold-themed initiatives, as well as '\n",
      "             'temporarily suspending the tradition of naming each Super Bowl '\n",
      "             'game with Roman numerals (under which the game would have been '\n",
      "             'known as \"Super Bowl L\"), so that the logo could prominently '\n",
      "             'feature the Arabic numerals 50.'],\n",
      " 'id': ['56bea9923aeaaa14008c91bb', '56beace93aeaaa14008c91df'],\n",
      " 'question': ['What day was the Super Bowl played on?',\n",
      "              'Who won Super Bowl 50?'],\n",
      " 'title': ['Super_Bowl_50', 'Super_Bowl_50']}\n"
     ]
    }
   ],
   "source": [
    "# Or get slices with several examples:\n",
    "print(\"\\n👉Slice of the two items 'dataset[10:12]':\")\n",
    "pprint(dataset[10:12])"
   ]
  },
  {
   "cell_type": "code",
   "execution_count": 10,
   "metadata": {
    "colab": {
     "base_uri": "https://localhost:8080/",
     "height": 54
    },
    "id": "QXj2Qr5KvSU5",
    "outputId": "9232ac73-1fe5-4bd2-de60-5716ef8f4201"
   },
   "outputs": [
    {
     "name": "stdout",
     "output_type": "stream",
     "text": [
      "['Which NFL team represented the AFC at Super Bowl 50?', 'Which NFL team represented the NFC at Super Bowl 50?', 'Where did Super Bowl 50 take place?', 'Which NFL team won Super Bowl 50?', 'What color was used to emphasize the 50th anniversary of the Super Bowl?', 'What was the theme of Super Bowl 50?', 'What day was the game played on?', 'What is the AFC short for?', 'What was the theme of Super Bowl 50?', 'What does AFC stand for?']\n"
     ]
    }
   ],
   "source": [
    "# You can get a full column of the dataset by indexing with its name as a string:\n",
    "print(dataset['question'][:10])"
   ]
  },
  {
   "cell_type": "markdown",
   "metadata": {
    "id": "6Au7rqPMvSU7"
   },
   "source": [
    "The `__getitem__` method will return different format depending on the type of query:\n",
    "\n",
    "- Items like `dataset[0]` are returned as dict of elements.\n",
    "- Slices like `dataset[10:20]` are returned as dict of lists of elements.\n",
    "- Columns like `dataset['question']` are returned as a list of elements.\n",
    "\n",
    "This may seems surprising at first but in our experiments it's actually a lot easier to use for data processing than returning the same format for each of these views on the dataset."
   ]
  },
  {
   "cell_type": "markdown",
   "metadata": {
    "id": "6DB_y79cvSU8"
   },
   "source": [
    "In particular, you can easily iterate along columns in slices, and also naturally permute consecutive indexings with identical results as showed here by permuting column indexing with elements and slices:"
   ]
  },
  {
   "cell_type": "code",
   "execution_count": 11,
   "metadata": {
    "colab": {
     "base_uri": "https://localhost:8080/",
     "height": 51
    },
    "id": "wjGocqArvSU9",
    "outputId": "22389a1d-2e3a-4d32-e125-8aed384df07d"
   },
   "outputs": [
    {
     "name": "stdout",
     "output_type": "stream",
     "text": [
      "True\n",
      "True\n"
     ]
    }
   ],
   "source": [
    "print(dataset[0]['question'] == dataset['question'][0])\n",
    "print(dataset[10:20]['context'] == dataset['context'][10:20])"
   ]
  },
  {
   "cell_type": "markdown",
   "metadata": {
    "id": "b1-Kj1xQvSU_"
   },
   "source": [
    "### Dataset are internally typed and structured\n",
    "\n",
    "The dataset is backed by one (or several) Apache Arrow tables which are typed and allows for fast retrieval and access as well as arbitrary-size memory mapping.\n",
    "\n",
    "This means respectively that the format for the dataset is clearly defined and that you can load datasets of arbitrary size without worrying about RAM memory limitation (basically the dataset take no space in RAM, it's directly read from drive when needed with fast IO access)."
   ]
  },
  {
   "cell_type": "code",
   "execution_count": 12,
   "metadata": {
    "colab": {
     "base_uri": "https://localhost:8080/",
     "height": 153
    },
    "id": "rAnp_RyPvSVA",
    "outputId": "1ee0ace7-db77-4a9a-f6e4-c84cdb3f0bba"
   },
   "outputs": [
    {
     "name": "stdout",
     "output_type": "stream",
     "text": [
      "Column names:\n",
      "['id', 'title', 'context', 'question', 'answers']\n",
      "Features:\n",
      "{'answers': Sequence(feature={'text': Value(dtype='string', id=None), 'answer_start': Value(dtype='int32', id=None)}, length=-1, id=None),\n",
      " 'context': Value(dtype='string', id=None),\n",
      " 'id': Value(dtype='string', id=None),\n",
      " 'question': Value(dtype='string', id=None),\n",
      " 'title': Value(dtype='string', id=None)}\n"
     ]
    }
   ],
   "source": [
    "# You can inspect the dataset column names and types \n",
    "print(\"Column names:\")\n",
    "pprint(dataset.column_names)\n",
    "print(\"Features:\")\n",
    "pprint(dataset.features)"
   ]
  },
  {
   "cell_type": "markdown",
   "metadata": {
    "id": "au4v3mOQvSVC"
   },
   "source": [
    "### Additional misc properties"
   ]
  },
  {
   "cell_type": "code",
   "execution_count": 13,
   "metadata": {
    "colab": {
     "base_uri": "https://localhost:8080/",
     "height": 68
    },
    "id": "efFhDWhlvSVC",
    "outputId": "f5bd2739-e52f-4e50-b3fe-afbd3f1f2427"
   },
   "outputs": [
    {
     "name": "stdout",
     "output_type": "stream",
     "text": [
      "The number of rows 1057 also available as len(dataset) 1057\n",
      "The number of columns 5\n",
      "The shape (rows, columns) (1057, 5)\n"
     ]
    }
   ],
   "source": [
    "# Datasets also have shapes informations\n",
    "print(\"The number of rows\", dataset.num_rows, \"also available as len(dataset)\", len(dataset))\n",
    "print(\"The number of columns\", dataset.num_columns)\n",
    "print(\"The shape (rows, columns)\", dataset.shape)"
   ]
  },
  {
   "cell_type": "markdown",
   "metadata": {
    "id": "1Ox7ppKDvSVN"
   },
   "source": [
    "## Modifying the dataset with `dataset.map`\n",
    "\n",
    "Now that we know how to inspect our dataset we also want to update it. For that there is a powerful method `.map()` which is inspired by `tf.data` map method and that you can use to apply a function to each examples, independently or in batch.\n",
    "\n",
    "`.map()` takes a callable accepting a dict as argument (same dict as the one returned by `dataset[i]`) and iterate over the dataset by calling the function on each example."
   ]
  },
  {
   "cell_type": "code",
   "execution_count": 14,
   "metadata": {
    "colab": {
     "base_uri": "https://localhost:8080/",
     "height": 154,
     "referenced_widgets": [
      "08236188125a4c2e931feb58ebe648c0",
      "58f37f73168648a08edc0ae615260c24",
      "1da82f72f3fc46358fe3e4268e42d137",
      "b051786ab97145cbb88627588bbec7d2",
      "97948303212c4a1982a6dda9dfd4cc90",
      "f252b203b8d349edb87b0a81209746b2",
      "37b19294c7464eb4bd886d966e148219",
      "1aa28417f911424eb9ac87413e4572ee"
     ]
    },
    "id": "Yz2-27HevSVN",
    "outputId": "183eafc7-fc4f-41ee-c342-7ff13ce09706"
   },
   "outputs": [
    {
     "data": {
      "application/vnd.jupyter.widget-view+json": {
       "model_id": "48de183fbd6142199ac171ed1023a280",
       "version_major": 2,
       "version_minor": 0
      },
      "text/plain": [
       "  0%|          | 0/1057 [00:00<?, ?ex/s]"
      ]
     },
     "metadata": {},
     "output_type": "display_data"
    },
    {
     "name": "stdout",
     "output_type": "stream",
     "text": [
      "775,775,775,775,775,775,775,775,775,775,775,775,775,775,775,775,775,775,775,775,775,775,775,775,775,775,775,775,775,775,637,637,637,637,637,637,637,637,637,637,637,637,637,637,637,637,637,637,637,637,637,637,637,637,637,347,347,347,347,347,347,347,347,347,347,347,347,347,347,347,347,347,347,347,347,347,347,347,347,347,394,394,394,394,394,394,394,394,394,394,394,394,394,394,394,394,394,394,394,394,394,394,394,394,394,394,179,179,179,179,179,179,179,179,179,179,179,168,168,168,168,168,168,168,168,168,168,168,168,168,168,168,168,168,638,638,638,638,638,638,638,638,638,638,638,638,638,638,638,638,638,638,638,638,638,326,326,326,326,326,326,326,326,326,326,326,326,326,326,326,326,326,326,326,326,326,326,326,704,704,704,704,704,704,704,704,704,704,704,704,704,704,704,704,704,704,917,917,917,917,917,917,917,917,917,917,917,917,917,917,917,917,917,917,917,917,1271,1271,1271,1271,1271,1271,1271,1271,1271,1271,1271,1271,1271,1271,1271,1271,1271,1271,1271,1271,1166,1166,1166,1166,1166,1166,1166,1166,1166,1166,1166,1166,1166,1166,2060,2060,2060,2060,2060,2060,2060,2060,2060,2060,2060,2060,2060,2060,2060,2060,2060,2060,2060,2060,929,929,929,929,929,929,929,929,929,929,929,929,929,929,929,929,929,929,929,704,704,704,704,704,704,704,704,704,704,704,704,704,704,353,353,353,353,353,353,353,353,353,353,353,353,353,353,353,464,464,464,464,464,464,464,464,464,464,464,464,464,464,464,464,306,306,306,306,306,306,306,306,306,306,306,306,372,372,372,372,372,372,372,372,372,372,372,372,372,372,372,372,372,496,496,496,496,496,496,496,496,496,496,496,496,496,496,496,260,260,260,260,260,260,260,260,260,874,874,874,874,874,874,874,874,874,874,874,874,874,874,1025,1025,1025,1025,1025,1025,1025,1025,1025,1025,1025,1025,1025,1025,1025,176,176,176,176,176,176,176,176,176,176,176,176,176,176,176,176,782,782,782,782,782,782,782,782,782,782,782,782,782,782,782,782,536,536,536,536,536,536,536,536,536,666,666,666,666,666,666,666,666,666,666,666,666,666,666,666,666,666,495,495,495,495,495,495,495,495,495,495,495,385,385,385,385,385,385,385,385,385,385,385,385,385,385,385,385,385,385,385,441,441,441,441,441,441,441,441,441,441,441,357,357,357,357,357,357,357,357,357,296,296,296,296,296,296,296,296,296,296,644,644,644,644,644,644,644,644,644,644,644,644,644,644,644,644,644,804,804,804,804,804,804,804,804,804,804,804,397,397,397,397,397,397,397,397,397,397,397,397,397,397,360,360,360,360,360,360,360,973,973,973,973,973,973,973,973,973,973,973,973,973,973,263,263,263,263,263,263,263,263,263,263,263,568,568,568,568,568,568,568,568,568,568,568,264,264,264,264,264,264,264,264,264,264,264,264,264,264,264,892,892,892,892,892,892,892,892,892,892,892,206,206,206,206,206,489,489,489,489,489,489,489,489,489,489,489,489,489,181,181,181,181,181,181,181,181,181,181,181,181,531,531,531,531,531,531,531,531,531,531,531,531,664,664,664,664,664,664,664,664,664,664,664,664,664,664,672,672,672,672,672,672,672,672,672,672,672,672,672,672,858,858,858,858,858,858,858,858,858,858,858,858,634,634,634,634,634,634,634,634,634,634,634,634,634,634,891,891,891,891,891,891,891,891,891,891,891,891,891,488,488,488,488,488,488,488,488,488,488,488,488,942,942,942,942,942,942,942,942,942,942,942,942,942,942,942,1162,1162,1162,1162,1162,1162,1162,1162,1162,1162,1162,1162,1162,1162,1162,1353,1353,1353,1353,1353,1353,1353,1353,1353,1353,1353,1353,1353,1353,522,522,522,522,522,1643,1643,1643,1643,1643,628,628,628,628,628,758,758,758,758,758,883,883,883,883,883,559,559,559,559,559,603,603,603,603,631,631,631,631,631,626,626,626,626,626,541,541,541,541,541,795,795,795,795,795,591,591,591,591,591,568,568,568,568,568,536,536,536,536,536,575,575,575,575,575,571,571,571,571,571,641,641,641,641,641,665,665,665,665,665,1088,1088,1088,1088,1088,1619,1619,1619,1619,1619,939,939,939,939,939,865,865,865,865,865,711,711,711,711,711,831,831,831,831,831,501,501,501,501,501,676,676,676,676,676,854,854,854,854,854,784,784,784,784,784,641,641,641,641,641,544,544,544,544,544,918,918,918,918,918,763,763,763,763,763,906,906,906,906,906,632,632,632,632,632,869,869,869,869,869,1044,1044,1044,1044,1044,760,760,760,760,760,715,715,715,715,715,838,838,838,838,838,881,881,881,881,881,940,940,940,940,940,618,618,618,618,618,1205,1205,1205,534,534,534,534,534,757,757,757,757,757,1239,1239,1239,1239,1239,609,609,609,609,609,798,798,798,798,798,613,613,613,613,613,613,613,613,613,613,"
     ]
    },
    {
     "data": {
      "text/plain": [
       "Dataset({\n",
       "    features: ['id', 'title', 'context', 'question', 'answers'],\n",
       "    num_rows: 1057\n",
       "})"
      ]
     },
     "execution_count": 14,
     "metadata": {},
     "output_type": "execute_result"
    }
   ],
   "source": [
    "# Let's print the length of each `context` string in our subset of the dataset\n",
    "# (10% of the validation i.e. 1057 examples)\n",
    "\n",
    "dataset.map(lambda example: print(len(example['context']), end=','))"
   ]
  },
  {
   "cell_type": "markdown",
   "metadata": {
    "id": "Ta3celHnvSVP"
   },
   "source": [
    "This is basically the same as doing\n",
    "\n",
    "```python\n",
    "for example in dataset:\n",
    "    function(example)\n",
    "```"
   ]
  },
  {
   "cell_type": "markdown",
   "metadata": {
    "id": "Z4Fjr0DJawuS"
   },
   "source": [
    "The above examples was a bit verbose. We can control the logging level of 🤗 Datasets with it's logging module:\n"
   ]
  },
  {
   "cell_type": "code",
   "execution_count": 15,
   "metadata": {
    "colab": {
     "base_uri": "https://localhost:8080/",
     "height": 54
    },
    "id": "qAgptXFYaquI",
    "outputId": "f4c780cf-3a15-4043-9c51-2af530bcc0c2"
   },
   "outputs": [
    {
     "data": {
      "application/vnd.jupyter.widget-view+json": {
       "model_id": "7fd4ce4e2b05405188f508dcf00b42b4",
       "version_major": 2,
       "version_minor": 0
      },
      "text/plain": [
       "  0%|          | 0/1057 [00:00<?, ?ex/s]"
      ]
     },
     "metadata": {},
     "output_type": "display_data"
    },
    {
     "name": "stdout",
     "output_type": "stream",
     "text": [
      "775,775,775,775,775,775,775,775,775,775,775,775,775,775,775,775,775,775,775,775,775,775,775,775,775,775,775,775,775,775,637,637,637,637,637,637,637,637,637,637,637,637,637,637,637,637,637,637,637,637,637,637,637,637,637,347,347,347,347,347,347,347,347,347,347,347,347,347,347,347,347,347,347,347,347,347,347,347,347,347,394,394,394,394,394,394,394,394,394,394,394,394,394,394,394,394,394,394,394,394,394,394,394,394,394,394,179,179,179,179,179,179,179,179,179,179,179,168,168,168,168,168,168,168,168,168,168,168,168,168,168,168,168,168,638,638,638,638,638,638,638,638,638,638,638,638,638,638,638,638,638,638,638,638,638,326,326,326,326,326,326,326,326,326,326,326,326,326,326,326,326,326,326,326,326,326,326,326,704,704,704,704,704,704,704,704,704,704,704,704,704,704,704,704,704,704,917,917,917,917,917,917,917,917,917,917,917,917,917,917,917,917,917,917,917,917,1271,1271,1271,1271,1271,1271,1271,1271,1271,1271,1271,1271,1271,1271,1271,1271,1271,1271,1271,1271,1166,1166,1166,1166,1166,1166,1166,1166,1166,1166,1166,1166,1166,1166,2060,2060,2060,2060,2060,2060,2060,2060,2060,2060,2060,2060,2060,2060,2060,2060,2060,2060,2060,2060,929,929,929,929,929,929,929,929,929,929,929,929,929,929,929,929,929,929,929,704,704,704,704,704,704,704,704,704,704,704,704,704,704,353,353,353,353,353,353,353,353,353,353,353,353,353,353,353,464,464,464,464,464,464,464,464,464,464,464,464,464,464,464,464,306,306,306,306,306,306,306,306,306,306,306,306,372,372,372,372,372,372,372,372,372,372,372,372,372,372,372,372,372,496,496,496,496,496,496,496,496,496,496,496,496,496,496,496,260,260,260,260,260,260,260,260,260,874,874,874,874,874,874,874,874,874,874,874,874,874,874,1025,1025,1025,1025,1025,1025,1025,1025,1025,1025,1025,1025,1025,1025,1025,176,176,176,176,176,176,176,176,176,176,176,176,176,176,176,176,782,782,782,782,782,782,782,782,782,782,782,782,782,782,782,782,536,536,536,536,536,536,536,536,536,666,666,666,666,666,666,666,666,666,666,666,666,666,666,666,666,666,495,495,495,495,495,495,495,495,495,495,495,385,385,385,385,385,385,385,385,385,385,385,385,385,385,385,385,385,385,385,441,441,441,441,441,441,441,441,441,441,441,357,357,357,357,357,357,357,357,357,296,296,296,296,296,296,296,296,296,296,644,644,644,644,644,644,644,644,644,644,644,644,644,644,644,644,644,804,804,804,804,804,804,804,804,804,804,804,397,397,397,397,397,397,397,397,397,397,397,397,397,397,360,360,360,360,360,360,360,973,973,973,973,973,973,973,973,973,973,973,973,973,973,263,263,263,263,263,263,263,263,263,263,263,568,568,568,568,568,568,568,568,568,568,568,264,264,264,264,264,264,264,264,264,264,264,264,264,264,264,892,892,892,892,892,892,892,892,892,892,892,206,206,206,206,206,489,489,489,489,489,489,489,489,489,489,489,489,489,181,181,181,181,181,181,181,181,181,181,181,181,531,531,531,531,531,531,531,531,531,531,531,531,664,664,664,664,664,664,664,664,664,664,664,664,664,664,672,672,672,672,672,672,672,672,672,672,672,672,672,672,858,858,858,858,858,858,858,858,858,858,858,858,634,634,634,634,634,634,634,634,634,634,634,634,634,634,891,891,891,891,891,891,891,891,891,891,891,891,891,488,488,488,488,488,488,488,488,488,488,488,488,942,942,942,942,942,942,942,942,942,942,942,942,942,942,942,1162,1162,1162,1162,1162,1162,1162,1162,1162,1162,1162,1162,1162,1162,1162,1353,1353,1353,1353,1353,1353,1353,1353,1353,1353,1353,1353,1353,1353,522,522,522,522,522,1643,1643,1643,1643,1643,628,628,628,628,628,758,758,758,758,758,883,883,883,883,883,559,559,559,559,559,603,603,603,603,631,631,631,631,631,626,626,626,626,626,541,541,541,541,541,795,795,795,795,795,591,591,591,591,591,568,568,568,568,568,536,536,536,536,536,575,575,575,575,575,571,571,571,571,571,641,641,641,641,641,665,665,665,665,665,1088,1088,1088,1088,1088,1619,1619,1619,1619,1619,939,939,939,939,939,865,865,865,865,865,711,711,711,711,711,831,831,831,831,831,501,501,501,501,501,676,676,676,676,676,854,854,854,854,854,784,784,784,784,784,641,641,641,641,641,544,544,544,544,544,918,918,918,918,918,763,763,763,763,763,906,906,906,906,906,632,632,632,632,632,869,869,869,869,869,1044,1044,1044,1044,1044,760,760,760,760,760,715,715,715,715,715,838,838,838,838,838,881,881,881,881,881,940,940,940,940,940,618,618,618,618,618,1205,1205,1205,534,534,534,534,534,757,757,757,757,757,1239,1239,1239,1239,1239,609,609,609,609,609,798,798,798,798,798,613,613,613,613,613,613,613,613,613,613,"
     ]
    },
    {
     "data": {
      "text/plain": [
       "Dataset({\n",
       "    features: ['id', 'title', 'context', 'question', 'answers'],\n",
       "    num_rows: 1057\n",
       "})"
      ]
     },
     "execution_count": 15,
     "metadata": {},
     "output_type": "execute_result"
    }
   ],
   "source": [
    "from datasets import logging\n",
    "logging.set_verbosity_warning()\n",
    "\n",
    "dataset.map(lambda example: print(len(example['context']), end=','))"
   ]
  },
  {
   "cell_type": "code",
   "execution_count": 16,
   "metadata": {
    "id": "KfED6CEHa8J_"
   },
   "outputs": [],
   "source": [
    "# Let's keep it verbose for our tutorial though\n",
    "from datasets import logging\n",
    "logging.set_verbosity_info()"
   ]
  },
  {
   "cell_type": "markdown",
   "metadata": {
    "id": "i_Ouw5gDvSVP"
   },
   "source": [
    "The above example had no effect on the dataset because the method we supplied to `.map()` didn't return a `dict` or a `abc.Mapping` that could be used to update the examples in the dataset.\n",
    "\n",
    "In such a case, `.map()` will return the same dataset (`self`).\n",
    "\n",
    "Now let's see how we can use a method that actually modify the dataset."
   ]
  },
  {
   "cell_type": "markdown",
   "metadata": {
    "id": "cEnCi9DFvSVQ"
   },
   "source": [
    "### Modifying the dataset example by example"
   ]
  },
  {
   "cell_type": "markdown",
   "metadata": {
    "id": "kA37VgZhvSVQ"
   },
   "source": [
    "The main interest of `.map()` is to update and modify the content of the table and leverage smart caching and fast backend.\n",
    "\n",
    "To use `.map()` to update elements in the table you need to provide a function with the following signature: `function(example: dict) -> dict`."
   ]
  },
  {
   "cell_type": "code",
   "execution_count": 17,
   "metadata": {
    "colab": {
     "base_uri": "https://localhost:8080/",
     "height": 105
    },
    "id": "vUr65K-4vSVQ",
    "outputId": "91d316b1-9fcc-44a7-b2f1-4af3b0c5c530"
   },
   "outputs": [
    {
     "name": "stderr",
     "output_type": "stream",
     "text": [
      "Loading cached processed dataset at /home/matt/.cache/huggingface/datasets/squad/plain_text/1.0.0/d6ec3ceb99ca480ce37cdd35555d6cb2511d223b9150cce08a837ef62ffea453/cache-72e90a73a7dc3e3d.arrow\n"
     ]
    },
    {
     "name": "stdout",
     "output_type": "stream",
     "text": [
      "['My cute title: Super_Bowl_50', 'My cute title: Warsaw']\n"
     ]
    }
   ],
   "source": [
    "# Let's add a prefix 'My cute title: ' to each of our titles\n",
    "\n",
    "def add_prefix_to_title(example):\n",
    "    example['title'] = 'My cute title: ' + example['title']\n",
    "    return example\n",
    "\n",
    "prefixed_dataset = dataset.map(add_prefix_to_title)\n",
    "\n",
    "print(prefixed_dataset.unique('title'))  # `.unique()` is a super fast way to print the unique elemnts in a column (see the doc for all the methods)"
   ]
  },
  {
   "cell_type": "markdown",
   "metadata": {
    "id": "FcZ_amDAvSVS"
   },
   "source": [
    "This call to `.map()` compute and return the updated table. It will also store the updated table in a cache file indexed by the current state and the mapped function.\n",
    "\n",
    "A subsequent call to `.map()` (even in another python session) will reuse the cached file instead of recomputing the operation.\n",
    "\n",
    "You can test this by running again the previous cell, you will see that the result are directly loaded from the cache and not re-computed again.\n",
    "\n",
    "The updated dataset returned by `.map()` is (again) directly memory mapped from drive and not allocated in RAM."
   ]
  },
  {
   "cell_type": "markdown",
   "metadata": {
    "id": "Skbf8LUEvSVT"
   },
   "source": [
    "The function you provide to `.map()` should accept an input with the format of an item of the dataset: `function(dataset[0])` and return a python dict.\n",
    "\n",
    "The columns and type of the outputs can be different than the input dict. In this case the new keys will be added as additional columns in the dataset.\n",
    "\n",
    "Bascially each dataset example dict is updated with the dictionary returned by the function like this: `example.update(function(example))`."
   ]
  },
  {
   "cell_type": "code",
   "execution_count": 18,
   "metadata": {
    "colab": {
     "base_uri": "https://localhost:8080/",
     "height": 105
    },
    "id": "d5De0CfTvSVT",
    "outputId": "7ae32097-2117-4ebe-cd93-19eaad139579"
   },
   "outputs": [
    {
     "name": "stderr",
     "output_type": "stream",
     "text": [
      "Loading cached processed dataset at /home/matt/.cache/huggingface/datasets/squad/plain_text/1.0.0/d6ec3ceb99ca480ce37cdd35555d6cb2511d223b9150cce08a837ef62ffea453/cache-6813231776bda0b2.arrow\n"
     ]
    },
    {
     "name": "stdout",
     "output_type": "stream",
     "text": [
      "['My cutest title: Super_Bowl_50', 'My cutest title: Warsaw']\n"
     ]
    }
   ],
   "source": [
    "# Since the input example dict is updated with our function output dict,\n",
    "# we can actually just return the updated 'title' field\n",
    "titled_dataset = dataset.map(lambda example: {'title': 'My cutest title: ' + example['title']})\n",
    "\n",
    "print(titled_dataset.unique('title'))"
   ]
  },
  {
   "cell_type": "markdown",
   "metadata": {
    "id": "Q5vny56-vSVV"
   },
   "source": [
    "#### Removing columns\n",
    "You can also remove columns when running map with the `remove_columns=List[str]` argument."
   ]
  },
  {
   "cell_type": "code",
   "execution_count": 19,
   "metadata": {
    "colab": {
     "base_uri": "https://localhost:8080/",
     "height": 122
    },
    "id": "-sPWnsz-vSVW",
    "outputId": "3cac70f9-394f-4ef7-ffe3-e0d37d627d23"
   },
   "outputs": [
    {
     "name": "stderr",
     "output_type": "stream",
     "text": [
      "Loading cached processed dataset at /home/matt/.cache/huggingface/datasets/squad/plain_text/1.0.0/d6ec3ceb99ca480ce37cdd35555d6cb2511d223b9150cce08a837ef62ffea453/cache-d6f983505fe2a1be.arrow\n"
     ]
    },
    {
     "name": "stdout",
     "output_type": "stream",
     "text": [
      "['id', 'context', 'question', 'answers', 'new_title']\n",
      "['Wouhahh: Super_Bowl_50', 'Wouhahh: Warsaw']\n"
     ]
    }
   ],
   "source": [
    "# This will remove the 'title' column while doing the update (after having send it the the mapped function so you can use it in your function!)\n",
    "less_columns_dataset = dataset.map(lambda example: {'new_title': 'Wouhahh: ' + example['title']}, remove_columns=['title'])\n",
    "\n",
    "print(less_columns_dataset.column_names)\n",
    "print(less_columns_dataset.unique('new_title'))"
   ]
  },
  {
   "cell_type": "markdown",
   "metadata": {
    "id": "G459HzD-vSVY"
   },
   "source": [
    "#### Using examples indices\n",
    "With `with_indices=True`, dataset indices (from `0` to `len(dataset)`) will be supplied to the function which must thus have the following signature: `function(example: dict, indice: int) -> dict`"
   ]
  },
  {
   "cell_type": "code",
   "execution_count": 20,
   "metadata": {
    "colab": {
     "base_uri": "https://localhost:8080/",
     "height": 173
    },
    "id": "_kFL37R2vSVY",
    "outputId": "d4f83cac-6e96-48c3-ba6b-6ffdd900712f"
   },
   "outputs": [
    {
     "name": "stderr",
     "output_type": "stream",
     "text": [
      "Loading cached processed dataset at /home/matt/.cache/huggingface/datasets/squad/plain_text/1.0.0/d6ec3ceb99ca480ce37cdd35555d6cb2511d223b9150cce08a837ef62ffea453/cache-c55b8df11c51438c.arrow\n"
     ]
    },
    {
     "name": "stdout",
     "output_type": "stream",
     "text": [
      "['0: Which NFL team represented the AFC at Super Bowl 50?',\n",
      " '1: Which NFL team represented the NFC at Super Bowl 50?',\n",
      " '2: Where did Super Bowl 50 take place?',\n",
      " '3: Which NFL team won Super Bowl 50?',\n",
      " '4: What color was used to emphasize the 50th anniversary of the Super Bowl?']\n"
     ]
    }
   ],
   "source": [
    "# This will add the index in the dataset to the 'question' field\n",
    "with_indices_dataset = dataset.map(lambda example, idx: {'question': f'{idx}: ' + example['question']},\n",
    "                                   with_indices=True)\n",
    "\n",
    "pprint(with_indices_dataset['question'][:5])"
   ]
  },
  {
   "cell_type": "markdown",
   "metadata": {
    "id": "xckhVEWFvSVb"
   },
   "source": [
    "### Modifying the dataset with batched updates"
   ]
  },
  {
   "cell_type": "markdown",
   "metadata": {
    "id": "dzmicbSnvSVb"
   },
   "source": [
    "`.map()` can also work with batch of examples (slices of the dataset).\n",
    "\n",
    "This is particularly interesting if you have a function that can handle batch of inputs like the tokenizers of HuggingFace `tokenizers`.\n",
    "\n",
    "To work on batched inputs set `batched=True` when calling `.map()` and supply a function with the following signature: `function(examples: Dict[List]) -> Dict[List]` or, if you use indices, `function(examples: Dict[List], indices: List[int]) -> Dict[List]`).\n",
    "\n",
    "Bascially, your function should accept an input with the format of a slice of the dataset: `function(dataset[:10])`."
   ]
  },
  {
   "cell_type": "code",
   "execution_count": 21,
   "metadata": {
    "colab": {
     "base_uri": "https://localhost:8080/",
     "height": 360
    },
    "id": "pxHbgSTL0itj",
    "outputId": "441ba953-8e69-4f74-d054-bb07804efecb"
   },
   "outputs": [
    {
     "name": "stdout",
     "output_type": "stream",
     "text": [
      "Requirement already satisfied: transformers in /home/matt/miniconda3/envs/tensorflow26/lib/python3.9/site-packages (4.13.0.dev0)\n",
      "Requirement already satisfied: pyyaml>=5.1 in /home/matt/miniconda3/envs/tensorflow26/lib/python3.9/site-packages (from transformers) (5.4.1)\n",
      "Requirement already satisfied: numpy>=1.17 in /home/matt/miniconda3/envs/tensorflow26/lib/python3.9/site-packages (from transformers) (1.19.5)\n",
      "Requirement already satisfied: tqdm>=4.27 in /home/matt/miniconda3/envs/tensorflow26/lib/python3.9/site-packages (from transformers) (4.62.2)\n",
      "Requirement already satisfied: tokenizers<0.11,>=0.10.1 in /home/matt/miniconda3/envs/tensorflow26/lib/python3.9/site-packages (from transformers) (0.10.3)\n",
      "Requirement already satisfied: huggingface-hub<1.0,>=0.1.0 in /home/matt/miniconda3/envs/tensorflow26/lib/python3.9/site-packages (from transformers) (0.1.0)\n",
      "Requirement already satisfied: packaging>=20.0 in /home/matt/miniconda3/envs/tensorflow26/lib/python3.9/site-packages (from transformers) (21.0)\n",
      "Requirement already satisfied: regex!=2019.12.17 in /home/matt/miniconda3/envs/tensorflow26/lib/python3.9/site-packages (from transformers) (2021.8.28)\n",
      "Requirement already satisfied: filelock in /home/matt/miniconda3/envs/tensorflow26/lib/python3.9/site-packages (from transformers) (3.0.12)\n",
      "Requirement already satisfied: requests in /home/matt/miniconda3/envs/tensorflow26/lib/python3.9/site-packages (from transformers) (2.26.0)\n",
      "Requirement already satisfied: sacremoses in /home/matt/miniconda3/envs/tensorflow26/lib/python3.9/site-packages (from transformers) (0.0.45)\n",
      "Requirement already satisfied: typing-extensions in /home/matt/miniconda3/envs/tensorflow26/lib/python3.9/site-packages (from huggingface-hub<1.0,>=0.1.0->transformers) (3.7.4.3)\n",
      "Requirement already satisfied: pyparsing>=2.0.2 in /home/matt/miniconda3/envs/tensorflow26/lib/python3.9/site-packages (from packaging>=20.0->transformers) (2.4.7)\n",
      "Requirement already satisfied: idna<4,>=2.5 in /home/matt/miniconda3/envs/tensorflow26/lib/python3.9/site-packages (from requests->transformers) (3.2)\n",
      "Requirement already satisfied: urllib3<1.27,>=1.21.1 in /home/matt/miniconda3/envs/tensorflow26/lib/python3.9/site-packages (from requests->transformers) (1.26.6)\n",
      "Requirement already satisfied: certifi>=2017.4.17 in /home/matt/miniconda3/envs/tensorflow26/lib/python3.9/site-packages (from requests->transformers) (2021.5.30)\n",
      "Requirement already satisfied: charset-normalizer~=2.0.0 in /home/matt/miniconda3/envs/tensorflow26/lib/python3.9/site-packages (from requests->transformers) (2.0.4)\n",
      "Requirement already satisfied: click in /home/matt/miniconda3/envs/tensorflow26/lib/python3.9/site-packages (from sacremoses->transformers) (7.1.2)\n",
      "Requirement already satisfied: six in /home/matt/miniconda3/envs/tensorflow26/lib/python3.9/site-packages (from sacremoses->transformers) (1.15.0)\n",
      "Requirement already satisfied: joblib in /home/matt/miniconda3/envs/tensorflow26/lib/python3.9/site-packages (from sacremoses->transformers) (1.0.1)\n"
     ]
    }
   ],
   "source": [
    "!pip install transformers"
   ]
  },
  {
   "cell_type": "code",
   "execution_count": 22,
   "metadata": {
    "id": "T7gpEg0yvSVc"
   },
   "outputs": [],
   "source": [
    "# Let's import a fast tokenizer that can work on batched inputs\n",
    "# (the 'Fast' tokenizers in HuggingFace)\n",
    "from transformers import BertTokenizerFast, logging as transformers_logging\n",
    "\n",
    "transformers_logging.set_verbosity_warning()\n",
    "\n",
    "tokenizer = BertTokenizerFast.from_pretrained('bert-base-cased')"
   ]
  },
  {
   "cell_type": "code",
   "execution_count": 23,
   "metadata": {
    "colab": {
     "base_uri": "https://localhost:8080/",
     "height": 972
    },
    "id": "fAmLTPC9vSVe",
    "outputId": "0182e1b5-aa19-4739-b6ba-dc60e151998e"
   },
   "outputs": [
    {
     "name": "stderr",
     "output_type": "stream",
     "text": [
      "Loading cached processed dataset at /home/matt/.cache/huggingface/datasets/squad/plain_text/1.0.0/d6ec3ceb99ca480ce37cdd35555d6cb2511d223b9150cce08a837ef62ffea453/cache-fbad8b84c8e6f075.arrow\n"
     ]
    },
    {
     "name": "stdout",
     "output_type": "stream",
     "text": [
      "encoded_dataset[0]\n",
      "{'answers': {'answer_start': [177, 177, 177],\n",
      "             'text': ['Denver Broncos', 'Denver Broncos', 'Denver Broncos']},\n",
      " 'attention_mask': [1, 1, 1, 1, 1, 1, 1, 1, 1, 1, 1, 1, 1, 1, 1, 1, 1, 1, 1, 1,\n",
      "                    1, 1, 1, 1, 1, 1, 1, 1, 1, 1, 1, 1, 1, 1, 1, 1, 1, 1, 1, 1,\n",
      "                    1, 1, 1, 1, 1, 1, 1, 1, 1, 1, 1, 1, 1, 1, 1, 1, 1, 1, 1, 1,\n",
      "                    1, 1, 1, 1, 1, 1, 1, 1, 1, 1, 1, 1, 1, 1, 1, 1, 1, 1, 1, 1,\n",
      "                    1, 1, 1, 1, 1, 1, 1, 1, 1, 1, 1, 1, 1, 1, 1, 1, 1, 1, 1, 1,\n",
      "                    1, 1, 1, 1, 1, 1, 1, 1, 1, 1, 1, 1, 1, 1, 1, 1, 1, 1, 1, 1,\n",
      "                    1, 1, 1, 1, 1, 1, 1, 1, 1, 1, 1, 1, 1, 1, 1, 1, 1, 1, 1, 1,\n",
      "                    1, 1, 1, 1, 1, 1, 1, 1, 1, 1, 1, 1, 1, 1, 1, 1, 1, 1, 1,\n",
      "                    1],\n",
      " 'context': 'Super Bowl 50 was an American football game to determine the '\n",
      "            'champion of the National Football League (NFL) for the 2015 '\n",
      "            'season. The American Football Conference (AFC) champion Denver '\n",
      "            'Broncos defeated the National Football Conference (NFC) champion '\n",
      "            'Carolina Panthers 24–10 to earn their third Super Bowl title. The '\n",
      "            \"game was played on February 7, 2016, at Levi's Stadium in the San \"\n",
      "            'Francisco Bay Area at Santa Clara, California. As this was the '\n",
      "            '50th Super Bowl, the league emphasized the \"golden anniversary\" '\n",
      "            'with various gold-themed initiatives, as well as temporarily '\n",
      "            'suspending the tradition of naming each Super Bowl game with '\n",
      "            'Roman numerals (under which the game would have been known as '\n",
      "            '\"Super Bowl L\"), so that the logo could prominently feature the '\n",
      "            'Arabic numerals 50.',\n",
      " 'id': '56be4db0acb8001400a502ec',\n",
      " 'input_ids': [101, 3198, 5308, 1851, 1108, 1126, 1237, 1709, 1342, 1106, 4959,\n",
      "               1103, 3628, 1104, 1103, 1305, 2289, 1453, 113, 4279, 114, 1111,\n",
      "               1103, 1410, 1265, 119, 1109, 1237, 2289, 3047, 113, 10402, 114,\n",
      "               3628, 7068, 14722, 2378, 1103, 1305, 2289, 3047, 113, 24743, 114,\n",
      "               3628, 2938, 13598, 1572, 782, 1275, 1106, 7379, 1147, 1503, 3198,\n",
      "               5308, 1641, 119, 1109, 1342, 1108, 1307, 1113, 1428, 128, 117,\n",
      "               1446, 117, 1120, 12388, 112, 188, 3339, 1107, 1103, 1727, 2948,\n",
      "               2410, 3894, 1120, 3364, 10200, 117, 1756, 119, 1249, 1142, 1108,\n",
      "               1103, 13163, 3198, 5308, 117, 1103, 2074, 13463, 1103, 107, 5404,\n",
      "               5453, 107, 1114, 1672, 2284, 118, 12005, 11751, 117, 1112, 1218,\n",
      "               1112, 7818, 28117, 20080, 16264, 1103, 3904, 1104, 10505, 1296,\n",
      "               3198, 5308, 1342, 1114, 2264, 183, 15447, 16179, 113, 1223, 1134,\n",
      "               1103, 1342, 1156, 1138, 1151, 1227, 1112, 107, 3198, 5308, 149,\n",
      "               107, 114, 117, 1177, 1115, 1103, 7998, 1180, 15199, 2672, 1103,\n",
      "               4944, 183, 15447, 16179, 1851, 119, 102],\n",
      " 'question': 'Which NFL team represented the AFC at Super Bowl 50?',\n",
      " 'title': 'Super_Bowl_50',\n",
      " 'token_type_ids': [0, 0, 0, 0, 0, 0, 0, 0, 0, 0, 0, 0, 0, 0, 0, 0, 0, 0, 0, 0,\n",
      "                    0, 0, 0, 0, 0, 0, 0, 0, 0, 0, 0, 0, 0, 0, 0, 0, 0, 0, 0, 0,\n",
      "                    0, 0, 0, 0, 0, 0, 0, 0, 0, 0, 0, 0, 0, 0, 0, 0, 0, 0, 0, 0,\n",
      "                    0, 0, 0, 0, 0, 0, 0, 0, 0, 0, 0, 0, 0, 0, 0, 0, 0, 0, 0, 0,\n",
      "                    0, 0, 0, 0, 0, 0, 0, 0, 0, 0, 0, 0, 0, 0, 0, 0, 0, 0, 0, 0,\n",
      "                    0, 0, 0, 0, 0, 0, 0, 0, 0, 0, 0, 0, 0, 0, 0, 0, 0, 0, 0, 0,\n",
      "                    0, 0, 0, 0, 0, 0, 0, 0, 0, 0, 0, 0, 0, 0, 0, 0, 0, 0, 0, 0,\n",
      "                    0, 0, 0, 0, 0, 0, 0, 0, 0, 0, 0, 0, 0, 0, 0, 0, 0, 0, 0,\n",
      "                    0]}\n"
     ]
    }
   ],
   "source": [
    "# Now let's batch tokenize our dataset 'context'\n",
    "encoded_dataset = dataset.map(lambda example: tokenizer(example['context']), batched=True)\n",
    "\n",
    "print(\"encoded_dataset[0]\")\n",
    "pprint(encoded_dataset[0], compact=True)"
   ]
  },
  {
   "cell_type": "code",
   "execution_count": 24,
   "metadata": {
    "colab": {
     "base_uri": "https://localhost:8080/",
     "height": 34
    },
    "id": "kNaJdKskvSVf",
    "outputId": "b7899e53-1bd9-4ea2-bf8d-60c127b3c6e2"
   },
   "outputs": [
    {
     "name": "stdout",
     "output_type": "stream",
     "text": [
      "['id', 'title', 'context', 'question', 'answers']\n"
     ]
    }
   ],
   "source": [
    "# we have added additional columns\n",
    "pprint(dataset.column_names)"
   ]
  },
  {
   "cell_type": "code",
   "execution_count": 25,
   "metadata": {
    "colab": {
     "base_uri": "https://localhost:8080/",
     "height": 154,
     "referenced_widgets": [
      "ae210ea515f94c6ab34c1113e823b92d",
      "86c8850654d54b47a2771cbb1804f5a1",
      "435d36683bc04e06a971b76129a88ed1",
      "78ae08f5803f4cb29f7f63c2843e9db0",
      "703443b26d7d40aea83417de59b64a79",
      "cf940cf9ea3043b5abeb4c851ad23b77",
      "e319f183228b4f0dba1140d9cc1573ec",
      "a3d89c58eda640a6a8289ba0c5d549e2"
     ]
    },
    "id": "m3To8ztMvSVj",
    "outputId": "69eca4fb-d5ae-46c1-e586-29d75830f174"
   },
   "outputs": [
    {
     "name": "stderr",
     "output_type": "stream",
     "text": [
      "Loading cached processed dataset at /home/matt/.cache/huggingface/datasets/squad/plain_text/1.0.0/d6ec3ceb99ca480ce37cdd35555d6cb2511d223b9150cce08a837ef62ffea453/cache-ccab9c1e90ab2b10.arrow\n"
     ]
    }
   ],
   "source": [
    "# Let show a more complex processing with the full preparation of the SQuAD dataset\n",
    "# for training a model from Transformers\n",
    "def convert_to_features(batch):\n",
    "    # Tokenize contexts and questions (as pairs of inputs)\n",
    "    input_pairs = list(zip())\n",
    "    encodings = tokenizer(batch['context'], batch['question'], truncation=True)\n",
    "\n",
    "    # Compute start and end tokens for labels\n",
    "    start_positions, end_positions = [], []\n",
    "    for i, answer in enumerate(batch['answers']):\n",
    "        first_char = answer['answer_start'][0]\n",
    "        last_char = first_char + len(answer['text'][0]) - 1\n",
    "        start_positions.append(encodings.char_to_token(i, first_char))\n",
    "        end_positions.append(encodings.char_to_token(i, last_char))\n",
    "\n",
    "    encodings.update({'start_positions': start_positions, 'end_positions': end_positions})\n",
    "    return encodings\n",
    "\n",
    "encoded_dataset = dataset.map(convert_to_features, batched=True)"
   ]
  },
  {
   "cell_type": "code",
   "execution_count": 26,
   "metadata": {
    "colab": {
     "base_uri": "https://localhost:8080/",
     "height": 71
    },
    "id": "KBnmSa46vSVl",
    "outputId": "efca25d9-581e-46a2-f9e7-53aaf018ea7f"
   },
   "outputs": [
    {
     "name": "stdout",
     "output_type": "stream",
     "text": [
      "column_names ['answers', 'attention_mask', 'context', 'end_positions', 'id', 'input_ids', 'question', 'start_positions', 'title', 'token_type_ids']\n",
      "start_positions [34, 45, 80, 34, 98]\n"
     ]
    }
   ],
   "source": [
    "# Now our dataset comprise the labels for the start and end position\n",
    "# as well as the offsets for converting back tokens\n",
    "# in span of the original string for evaluation\n",
    "print(\"column_names\", encoded_dataset.column_names)\n",
    "print(\"start_positions\", encoded_dataset[:5]['start_positions'])"
   ]
  },
  {
   "cell_type": "markdown",
   "metadata": {
    "id": "NzOXxNzQvSVo"
   },
   "source": [
    "## formatting outputs for PyTorch, Tensorflow, Numpy, Pandas\n",
    "\n",
    "Now that we have tokenized our inputs, we probably want to use this dataset in a `torch.Dataloader` or a `tf.data.Dataset`. There are various ways to approach this.\n",
    "\n",
    "Using the `set_format()` method, we can:\n",
    "\n",
    "- format the indexing (`__getitem__`) to return numpy/pytorch/tensorflow tensors, instead of python objects, and\n",
    "- format the indexing (`__getitem__`) to return only the subset of the columns that we need for our model inputs.\n",
    "\n",
    "  We don't want the columns `id` or `title` as inputs to train our model, but we could still want to keep them in the dataset, for instance for the evaluation of the model.\n",
    "    \n",
    "This is handled by the `.set_format(type: Union[None, str], columns: Union[None, str, List[str]])` where:\n",
    "\n",
    "- `type` define the return type for our dataset `__getitem__` method and is one of `[None, 'numpy', 'pandas', 'torch', 'tensorflow']` (`None` means return python objects), and\n",
    "- `columns` define the columns returned by `__getitem__` and takes the name of a column in the dataset or a list of columns to return (`None` means return all columns)."
   ]
  },
  {
   "cell_type": "code",
   "execution_count": 27,
   "metadata": {
    "colab": {
     "base_uri": "https://localhost:8080/",
     "height": 666
    },
    "id": "aU2h_qQDvSVo",
    "outputId": "15f14cbb-558b-4701-b6f8-0999d3570920"
   },
   "outputs": [
    {
     "name": "stderr",
     "output_type": "stream",
     "text": [
      "2021-12-08 17:46:09.732495: I tensorflow/stream_executor/cuda/cuda_gpu_executor.cc:937] successful NUMA node read from SysFS had negative value (-1), but there must be at least one NUMA node, so returning NUMA node zero\n"
     ]
    },
    {
     "name": "stdout",
     "output_type": "stream",
     "text": [
      "{'attention_mask': <tf.Tensor: shape=(172,), dtype=int64, numpy=\n",
      "array([1, 1, 1, 1, 1, 1, 1, 1, 1, 1, 1, 1, 1, 1, 1, 1, 1, 1, 1, 1, 1, 1,\n",
      "       1, 1, 1, 1, 1, 1, 1, 1, 1, 1, 1, 1, 1, 1, 1, 1, 1, 1, 1, 1, 1, 1,\n",
      "       1, 1, 1, 1, 1, 1, 1, 1, 1, 1, 1, 1, 1, 1, 1, 1, 1, 1, 1, 1, 1, 1,\n",
      "       1, 1, 1, 1, 1, 1, 1, 1, 1, 1, 1, 1, 1, 1, 1, 1, 1, 1, 1, 1, 1, 1,\n",
      "       1, 1, 1, 1, 1, 1, 1, 1, 1, 1, 1, 1, 1, 1, 1, 1, 1, 1, 1, 1, 1, 1,\n",
      "       1, 1, 1, 1, 1, 1, 1, 1, 1, 1, 1, 1, 1, 1, 1, 1, 1, 1, 1, 1, 1, 1,\n",
      "       1, 1, 1, 1, 1, 1, 1, 1, 1, 1, 1, 1, 1, 1, 1, 1, 1, 1, 1, 1, 1, 1,\n",
      "       1, 1, 1, 1, 1, 1, 1, 1, 1, 1, 1, 1, 1, 1, 1, 1, 1, 1])>,\n",
      " 'end_positions': <tf.Tensor: shape=(), dtype=int64, numpy=46>,\n",
      " 'input_ids': <tf.Tensor: shape=(172,), dtype=int64, numpy=\n",
      "array([  101,  3198,  5308,  1851,  1108,  1126,  1237,  1709,  1342,\n",
      "        1106,  4959,  1103,  3628,  1104,  1103,  1305,  2289,  1453,\n",
      "         113,  4279,   114,  1111,  1103,  1410,  1265,   119,  1109,\n",
      "        1237,  2289,  3047,   113, 10402,   114,  3628,  7068, 14722,\n",
      "        2378,  1103,  1305,  2289,  3047,   113, 24743,   114,  3628,\n",
      "        2938, 13598,  1572,   782,  1275,  1106,  7379,  1147,  1503,\n",
      "        3198,  5308,  1641,   119,  1109,  1342,  1108,  1307,  1113,\n",
      "        1428,   128,   117,  1446,   117,  1120, 12388,   112,   188,\n",
      "        3339,  1107,  1103,  1727,  2948,  2410,  3894,  1120,  3364,\n",
      "       10200,   117,  1756,   119,  1249,  1142,  1108,  1103, 13163,\n",
      "        3198,  5308,   117,  1103,  2074, 13463,  1103,   107,  5404,\n",
      "        5453,   107,  1114,  1672,  2284,   118, 12005, 11751,   117,\n",
      "        1112,  1218,  1112,  7818, 28117, 20080, 16264,  1103,  3904,\n",
      "        1104, 10505,  1296,  3198,  5308,  1342,  1114,  2264,   183,\n",
      "       15447, 16179,   113,  1223,  1134,  1103,  1342,  1156,  1138,\n",
      "        1151,  1227,  1112,   107,  3198,  5308,   149,   107,   114,\n",
      "         117,  1177,  1115,  1103,  7998,  1180, 15199,  2672,  1103,\n",
      "        4944,   183, 15447, 16179,  1851,   119,   102,  5979,  4279,\n",
      "        1264,  2533,  1103, 24743,  1120,  3198,  5308,  1851,   136,\n",
      "         102])>,\n",
      " 'start_positions': <tf.Tensor: shape=(), dtype=int64, numpy=45>,\n",
      " 'token_type_ids': <tf.Tensor: shape=(172,), dtype=int64, numpy=\n",
      "array([0, 0, 0, 0, 0, 0, 0, 0, 0, 0, 0, 0, 0, 0, 0, 0, 0, 0, 0, 0, 0, 0,\n",
      "       0, 0, 0, 0, 0, 0, 0, 0, 0, 0, 0, 0, 0, 0, 0, 0, 0, 0, 0, 0, 0, 0,\n",
      "       0, 0, 0, 0, 0, 0, 0, 0, 0, 0, 0, 0, 0, 0, 0, 0, 0, 0, 0, 0, 0, 0,\n",
      "       0, 0, 0, 0, 0, 0, 0, 0, 0, 0, 0, 0, 0, 0, 0, 0, 0, 0, 0, 0, 0, 0,\n",
      "       0, 0, 0, 0, 0, 0, 0, 0, 0, 0, 0, 0, 0, 0, 0, 0, 0, 0, 0, 0, 0, 0,\n",
      "       0, 0, 0, 0, 0, 0, 0, 0, 0, 0, 0, 0, 0, 0, 0, 0, 0, 0, 0, 0, 0, 0,\n",
      "       0, 0, 0, 0, 0, 0, 0, 0, 0, 0, 0, 0, 0, 0, 0, 0, 0, 0, 0, 0, 0, 0,\n",
      "       0, 0, 0, 0, 0, 0, 1, 1, 1, 1, 1, 1, 1, 1, 1, 1, 1, 1])>}\n"
     ]
    },
    {
     "name": "stderr",
     "output_type": "stream",
     "text": [
      "2021-12-08 17:46:09.738904: I tensorflow/stream_executor/cuda/cuda_gpu_executor.cc:937] successful NUMA node read from SysFS had negative value (-1), but there must be at least one NUMA node, so returning NUMA node zero\n",
      "2021-12-08 17:46:09.740187: I tensorflow/stream_executor/cuda/cuda_gpu_executor.cc:937] successful NUMA node read from SysFS had negative value (-1), but there must be at least one NUMA node, so returning NUMA node zero\n",
      "2021-12-08 17:46:09.742088: I tensorflow/core/platform/cpu_feature_guard.cc:142] This TensorFlow binary is optimized with oneAPI Deep Neural Network Library (oneDNN) to use the following CPU instructions in performance-critical operations:  AVX2 FMA\n",
      "To enable them in other operations, rebuild TensorFlow with the appropriate compiler flags.\n",
      "2021-12-08 17:46:09.744503: I tensorflow/stream_executor/cuda/cuda_gpu_executor.cc:937] successful NUMA node read from SysFS had negative value (-1), but there must be at least one NUMA node, so returning NUMA node zero\n",
      "2021-12-08 17:46:09.745374: I tensorflow/stream_executor/cuda/cuda_gpu_executor.cc:937] successful NUMA node read from SysFS had negative value (-1), but there must be at least one NUMA node, so returning NUMA node zero\n",
      "2021-12-08 17:46:09.746146: I tensorflow/stream_executor/cuda/cuda_gpu_executor.cc:937] successful NUMA node read from SysFS had negative value (-1), but there must be at least one NUMA node, so returning NUMA node zero\n",
      "2021-12-08 17:46:10.064518: I tensorflow/stream_executor/cuda/cuda_gpu_executor.cc:937] successful NUMA node read from SysFS had negative value (-1), but there must be at least one NUMA node, so returning NUMA node zero\n",
      "2021-12-08 17:46:10.065191: I tensorflow/stream_executor/cuda/cuda_gpu_executor.cc:937] successful NUMA node read from SysFS had negative value (-1), but there must be at least one NUMA node, so returning NUMA node zero\n",
      "2021-12-08 17:46:10.065822: I tensorflow/stream_executor/cuda/cuda_gpu_executor.cc:937] successful NUMA node read from SysFS had negative value (-1), but there must be at least one NUMA node, so returning NUMA node zero\n",
      "2021-12-08 17:46:10.066444: I tensorflow/core/common_runtime/gpu/gpu_device.cc:1510] Created device /job:localhost/replica:0/task:0/device:GPU:0 with 21635 MB memory:  -> device: 0, name: GeForce RTX 3090, pci bus id: 0000:21:00.0, compute capability: 8.6\n"
     ]
    }
   ],
   "source": [
    "columns_to_return = ['input_ids', 'token_type_ids', 'attention_mask', 'start_positions', 'end_positions']\n",
    "\n",
    "# Uncomment whichever one is appropriate for you\n",
    "# encoded_dataset.set_format(type='torch', columns=columns_to_return)\n",
    "encoded_dataset.set_format(type='tensorflow', columns=columns_to_return)\n",
    "\n",
    "# Our dataset indexing output is now ready for being used in a pytorch dataloader\n",
    "pprint(encoded_dataset[1], compact=True)"
   ]
  },
  {
   "cell_type": "code",
   "execution_count": 28,
   "metadata": {
    "colab": {
     "base_uri": "https://localhost:8080/",
     "height": 34
    },
    "id": "Wj1ukGIuvSVq",
    "outputId": "aa7f4643-54c2-45ef-b33e-4881bc68a57d"
   },
   "outputs": [
    {
     "name": "stdout",
     "output_type": "stream",
     "text": [
      "['answers', 'attention_mask', 'context', 'end_positions', 'id', 'input_ids', 'question', 'start_positions', 'title', 'token_type_ids']\n"
     ]
    }
   ],
   "source": [
    "# Note that the columns are not removed from the dataset, just not returned when calling __getitem__\n",
    "# Similarly the inner type of the dataset is not changed to torch.Tensor, the conversion and filtering is done on-the-fly when querying the dataset\n",
    "print(encoded_dataset.column_names)"
   ]
  },
  {
   "cell_type": "code",
   "execution_count": 29,
   "metadata": {
    "colab": {
     "base_uri": "https://localhost:8080/",
     "height": 969
    },
    "id": "pWmmUdatasetsvSVs",
    "outputId": "6e12d88f-8d39-414d-e340-fbecd65275b4"
   },
   "outputs": [
    {
     "name": "stdout",
     "output_type": "stream",
     "text": [
      "{'answers': {'answer_start': [249, 249, 249],\n",
      "             'text': ['Carolina Panthers', 'Carolina Panthers',\n",
      "                      'Carolina Panthers']},\n",
      " 'attention_mask': [1, 1, 1, 1, 1, 1, 1, 1, 1, 1, 1, 1, 1, 1, 1, 1, 1, 1, 1, 1,\n",
      "                    1, 1, 1, 1, 1, 1, 1, 1, 1, 1, 1, 1, 1, 1, 1, 1, 1, 1, 1, 1,\n",
      "                    1, 1, 1, 1, 1, 1, 1, 1, 1, 1, 1, 1, 1, 1, 1, 1, 1, 1, 1, 1,\n",
      "                    1, 1, 1, 1, 1, 1, 1, 1, 1, 1, 1, 1, 1, 1, 1, 1, 1, 1, 1, 1,\n",
      "                    1, 1, 1, 1, 1, 1, 1, 1, 1, 1, 1, 1, 1, 1, 1, 1, 1, 1, 1, 1,\n",
      "                    1, 1, 1, 1, 1, 1, 1, 1, 1, 1, 1, 1, 1, 1, 1, 1, 1, 1, 1, 1,\n",
      "                    1, 1, 1, 1, 1, 1, 1, 1, 1, 1, 1, 1, 1, 1, 1, 1, 1, 1, 1, 1,\n",
      "                    1, 1, 1, 1, 1, 1, 1, 1, 1, 1, 1, 1, 1, 1, 1, 1, 1, 1, 1, 1,\n",
      "                    1, 1, 1, 1, 1, 1, 1, 1, 1, 1, 1, 1],\n",
      " 'context': 'Super Bowl 50 was an American football game to determine the '\n",
      "            'champion of the National Football League (NFL) for the 2015 '\n",
      "            'season. The American Football Conference (AFC) champion Denver '\n",
      "            'Broncos defeated the National Football Conference (NFC) champion '\n",
      "            'Carolina Panthers 24–10 to earn their third Super Bowl title. The '\n",
      "            \"game was played on February 7, 2016, at Levi's Stadium in the San \"\n",
      "            'Francisco Bay Area at Santa Clara, California. As this was the '\n",
      "            '50th Super Bowl, the league emphasized the \"golden anniversary\" '\n",
      "            'with various gold-themed initiatives, as well as temporarily '\n",
      "            'suspending the tradition of naming each Super Bowl game with '\n",
      "            'Roman numerals (under which the game would have been known as '\n",
      "            '\"Super Bowl L\"), so that the logo could prominently feature the '\n",
      "            'Arabic numerals 50.',\n",
      " 'end_positions': 46,\n",
      " 'id': '56be4db0acb8001400a502ed',\n",
      " 'input_ids': [101, 3198, 5308, 1851, 1108, 1126, 1237, 1709, 1342, 1106, 4959,\n",
      "               1103, 3628, 1104, 1103, 1305, 2289, 1453, 113, 4279, 114, 1111,\n",
      "               1103, 1410, 1265, 119, 1109, 1237, 2289, 3047, 113, 10402, 114,\n",
      "               3628, 7068, 14722, 2378, 1103, 1305, 2289, 3047, 113, 24743, 114,\n",
      "               3628, 2938, 13598, 1572, 782, 1275, 1106, 7379, 1147, 1503, 3198,\n",
      "               5308, 1641, 119, 1109, 1342, 1108, 1307, 1113, 1428, 128, 117,\n",
      "               1446, 117, 1120, 12388, 112, 188, 3339, 1107, 1103, 1727, 2948,\n",
      "               2410, 3894, 1120, 3364, 10200, 117, 1756, 119, 1249, 1142, 1108,\n",
      "               1103, 13163, 3198, 5308, 117, 1103, 2074, 13463, 1103, 107, 5404,\n",
      "               5453, 107, 1114, 1672, 2284, 118, 12005, 11751, 117, 1112, 1218,\n",
      "               1112, 7818, 28117, 20080, 16264, 1103, 3904, 1104, 10505, 1296,\n",
      "               3198, 5308, 1342, 1114, 2264, 183, 15447, 16179, 113, 1223, 1134,\n",
      "               1103, 1342, 1156, 1138, 1151, 1227, 1112, 107, 3198, 5308, 149,\n",
      "               107, 114, 117, 1177, 1115, 1103, 7998, 1180, 15199, 2672, 1103,\n",
      "               4944, 183, 15447, 16179, 1851, 119, 102, 5979, 4279, 1264, 2533,\n",
      "               1103, 24743, 1120, 3198, 5308, 1851, 136, 102],\n",
      " 'question': 'Which NFL team represented the NFC at Super Bowl 50?',\n",
      " 'start_positions': 45,\n",
      " 'title': 'Super_Bowl_50',\n",
      " 'token_type_ids': [0, 0, 0, 0, 0, 0, 0, 0, 0, 0, 0, 0, 0, 0, 0, 0, 0, 0, 0, 0,\n",
      "                    0, 0, 0, 0, 0, 0, 0, 0, 0, 0, 0, 0, 0, 0, 0, 0, 0, 0, 0, 0,\n",
      "                    0, 0, 0, 0, 0, 0, 0, 0, 0, 0, 0, 0, 0, 0, 0, 0, 0, 0, 0, 0,\n",
      "                    0, 0, 0, 0, 0, 0, 0, 0, 0, 0, 0, 0, 0, 0, 0, 0, 0, 0, 0, 0,\n",
      "                    0, 0, 0, 0, 0, 0, 0, 0, 0, 0, 0, 0, 0, 0, 0, 0, 0, 0, 0, 0,\n",
      "                    0, 0, 0, 0, 0, 0, 0, 0, 0, 0, 0, 0, 0, 0, 0, 0, 0, 0, 0, 0,\n",
      "                    0, 0, 0, 0, 0, 0, 0, 0, 0, 0, 0, 0, 0, 0, 0, 0, 0, 0, 0, 0,\n",
      "                    0, 0, 0, 0, 0, 0, 0, 0, 0, 0, 0, 0, 0, 0, 0, 0, 0, 0, 0, 0,\n",
      "                    1, 1, 1, 1, 1, 1, 1, 1, 1, 1, 1, 1]}\n"
     ]
    }
   ],
   "source": [
    "# We can remove the formatting with `.reset_format()`\n",
    "# or, identically, a call to `.set_format()` with no arguments\n",
    "encoded_dataset.reset_format()\n",
    "\n",
    "pprint(encoded_dataset[1], compact=True)"
   ]
  },
  {
   "cell_type": "code",
   "execution_count": 30,
   "metadata": {
    "colab": {
     "base_uri": "https://localhost:8080/",
     "height": 238
    },
    "id": "VyUOA07svSVu",
    "outputId": "d3c2a6c9-a1ec-41c2-d438-66b68c5f7416"
   },
   "outputs": [
    {
     "name": "stdout",
     "output_type": "stream",
     "text": [
      "{'columns': ['answers',\n",
      "             'attention_mask',\n",
      "             'context',\n",
      "             'end_positions',\n",
      "             'id',\n",
      "             'input_ids',\n",
      "             'question',\n",
      "             'start_positions',\n",
      "             'title',\n",
      "             'token_type_ids'],\n",
      " 'format_kwargs': {},\n",
      " 'output_all_columns': False,\n",
      " 'type': None}\n"
     ]
    }
   ],
   "source": [
    "# The current format can be checked with `.format`,\n",
    "# which is a dict of the type and formatting\n",
    "pprint(encoded_dataset.format)"
   ]
  },
  {
   "cell_type": "markdown",
   "metadata": {},
   "source": [
    "There is also a convenience method, `to_tf_dataset()`, for the creation of `tf.data.Dataset` objects directly from a HuggingFace `Dataset`. An example will be shown below - when using this method, it is sufficient to pass the `columns` argument and your `DataCollator` - make sure you set the `return_tensors` argument of your `DataCollator` to `tf` or `np`, though, because TensorFlow won't be happy if you start passing it PyTorch Tensors!"
   ]
  },
  {
   "cell_type": "markdown",
   "metadata": {
    "id": "xyi2eMeSvSVv"
   },
   "source": [
    "# Wrapping this all up\n",
    "\n",
    "Let's wrap this all up with the full code to load and prepare SQuAD for training a PyTorch or TensorFlow model from HuggingFace `transformers` library.\n",
    "\n"
   ]
  },
  {
   "cell_type": "code",
   "execution_count": 31,
   "metadata": {
    "colab": {
     "base_uri": "https://localhost:8080/",
     "height": 360
    },
    "id": "l0j8BPLi6Qlv",
    "outputId": "de8ed5f7-069b-4c99-8b62-8fa32d755192"
   },
   "outputs": [
    {
     "name": "stdout",
     "output_type": "stream",
     "text": [
      "Requirement already satisfied: transformers in /home/matt/miniconda3/envs/tensorflow26/lib/python3.9/site-packages (4.13.0.dev0)\n",
      "Requirement already satisfied: requests in /home/matt/miniconda3/envs/tensorflow26/lib/python3.9/site-packages (from transformers) (2.26.0)\n",
      "Requirement already satisfied: sacremoses in /home/matt/miniconda3/envs/tensorflow26/lib/python3.9/site-packages (from transformers) (0.0.45)\n",
      "Requirement already satisfied: regex!=2019.12.17 in /home/matt/miniconda3/envs/tensorflow26/lib/python3.9/site-packages (from transformers) (2021.8.28)\n",
      "Requirement already satisfied: tqdm>=4.27 in /home/matt/miniconda3/envs/tensorflow26/lib/python3.9/site-packages (from transformers) (4.62.2)\n",
      "Requirement already satisfied: numpy>=1.17 in /home/matt/miniconda3/envs/tensorflow26/lib/python3.9/site-packages (from transformers) (1.19.5)\n",
      "Requirement already satisfied: tokenizers<0.11,>=0.10.1 in /home/matt/miniconda3/envs/tensorflow26/lib/python3.9/site-packages (from transformers) (0.10.3)\n",
      "Requirement already satisfied: huggingface-hub<1.0,>=0.1.0 in /home/matt/miniconda3/envs/tensorflow26/lib/python3.9/site-packages (from transformers) (0.1.0)\n",
      "Requirement already satisfied: pyyaml>=5.1 in /home/matt/miniconda3/envs/tensorflow26/lib/python3.9/site-packages (from transformers) (5.4.1)\n",
      "Requirement already satisfied: filelock in /home/matt/miniconda3/envs/tensorflow26/lib/python3.9/site-packages (from transformers) (3.0.12)\n",
      "Requirement already satisfied: packaging>=20.0 in /home/matt/miniconda3/envs/tensorflow26/lib/python3.9/site-packages (from transformers) (21.0)\n",
      "Requirement already satisfied: typing-extensions in /home/matt/miniconda3/envs/tensorflow26/lib/python3.9/site-packages (from huggingface-hub<1.0,>=0.1.0->transformers) (3.7.4.3)\n",
      "Requirement already satisfied: pyparsing>=2.0.2 in /home/matt/miniconda3/envs/tensorflow26/lib/python3.9/site-packages (from packaging>=20.0->transformers) (2.4.7)\n",
      "Requirement already satisfied: idna<4,>=2.5 in /home/matt/miniconda3/envs/tensorflow26/lib/python3.9/site-packages (from requests->transformers) (3.2)\n",
      "Requirement already satisfied: certifi>=2017.4.17 in /home/matt/miniconda3/envs/tensorflow26/lib/python3.9/site-packages (from requests->transformers) (2021.5.30)\n",
      "Requirement already satisfied: charset-normalizer~=2.0.0 in /home/matt/miniconda3/envs/tensorflow26/lib/python3.9/site-packages (from requests->transformers) (2.0.4)\n",
      "Requirement already satisfied: urllib3<1.27,>=1.21.1 in /home/matt/miniconda3/envs/tensorflow26/lib/python3.9/site-packages (from requests->transformers) (1.26.6)\n",
      "Requirement already satisfied: six in /home/matt/miniconda3/envs/tensorflow26/lib/python3.9/site-packages (from sacremoses->transformers) (1.15.0)\n",
      "Requirement already satisfied: click in /home/matt/miniconda3/envs/tensorflow26/lib/python3.9/site-packages (from sacremoses->transformers) (7.1.2)\n",
      "Requirement already satisfied: joblib in /home/matt/miniconda3/envs/tensorflow26/lib/python3.9/site-packages (from sacremoses->transformers) (1.0.1)\n"
     ]
    }
   ],
   "source": [
    "!pip install transformers"
   ]
  },
  {
   "cell_type": "code",
   "execution_count": 32,
   "metadata": {
    "colab": {
     "base_uri": "https://localhost:8080/",
     "height": 526,
     "referenced_widgets": [
      "71d89e94d82f4335b7ca7aaf4dba83ed",
      "f38913964ddb4e3eb6fc0cf087ab0f52",
      "4f03c8400d014b3bbb5e8dd4f63c5441",
      "23f45949b7f949859ecabab44b591553",
      "3ae2be9ec40f424a8b1f5a8139f6de04",
      "cb778df78c63405db22ede23c63f001a",
      "d46f8f656ea34972a4dd9b7554d62315",
      "a57ecf5ee6e043458af851dfd2e0b50d",
      "90004c044a5c4fbb884f881d8bc1d54b",
      "30e2b72ce2304332a202d92d606671f6",
      "810d81cd651d41f298ff4815fcf9f34a",
      "86fa8d2a2b204d8586cc8ab5ad2a1b7a",
      "6db8399610464d6e93ce82ad8bb7bfc4",
      "f684dcff9d4c4c10b6bb623c02465b14",
      "043e8d6ca6574bd4abcfdd7145162ceb",
      "ec53215a263e413eab01f74b66b9bff6"
     ]
    },
    "id": "QvExTIZWvSVw",
    "outputId": "cb34dcd4-9ddc-4195-9b9d-5442659f9798"
   },
   "outputs": [
    {
     "name": "stderr",
     "output_type": "stream",
     "text": [
      "Reusing dataset squad (/home/matt/.cache/huggingface/datasets/squad/plain_text/1.0.0/d6ec3ceb99ca480ce37cdd35555d6cb2511d223b9150cce08a837ef62ffea453)\n"
     ]
    },
    {
     "data": {
      "application/vnd.jupyter.widget-view+json": {
       "model_id": "8eee44497ee74b3ab9f77bcd34223041",
       "version_major": 2,
       "version_minor": 0
      },
      "text/plain": [
       "  0%|          | 0/2 [00:00<?, ?it/s]"
      ]
     },
     "metadata": {},
     "output_type": "display_data"
    },
    {
     "name": "stderr",
     "output_type": "stream",
     "text": [
      "Loading cached processed dataset at /home/matt/.cache/huggingface/datasets/squad/plain_text/1.0.0/d6ec3ceb99ca480ce37cdd35555d6cb2511d223b9150cce08a837ef62ffea453/cache-ff4313fac8b2cb00.arrow\n"
     ]
    },
    {
     "data": {
      "application/vnd.jupyter.widget-view+json": {
       "model_id": "b2ff583c09014713991af4526a08ddc5",
       "version_major": 2,
       "version_minor": 0
      },
      "text/plain": [
       "  0%|          | 0/11 [00:00<?, ?ba/s]"
      ]
     },
     "metadata": {},
     "output_type": "display_data"
    }
   ],
   "source": [
    "import torch \n",
    "from datasets import load_dataset\n",
    "from transformers import BertTokenizerFast\n",
    "\n",
    "# Load our training dataset and tokenizer\n",
    "dataset = load_dataset('squad')\n",
    "tokenizer = BertTokenizerFast.from_pretrained('bert-base-cased')\n",
    "\n",
    "def get_correct_alignement(context, answer):\n",
    "    \"\"\" Some original examples in SQuAD have indices wrong by 1 or 2 character. We test and fix this here. \"\"\"\n",
    "    gold_text = answer['text'][0]\n",
    "    start_idx = answer['answer_start'][0]\n",
    "    end_idx = start_idx + len(gold_text)\n",
    "    if context[start_idx:end_idx] == gold_text:\n",
    "        return start_idx, end_idx       # When the gold label position is good\n",
    "    elif context[start_idx-1:end_idx-1] == gold_text:\n",
    "        return start_idx-1, end_idx-1   # When the gold label is off by one character\n",
    "    elif context[start_idx-2:end_idx-2] == gold_text:\n",
    "        return start_idx-2, end_idx-2   # When the gold label is off by two character\n",
    "    else:\n",
    "        raise ValueError()\n",
    "\n",
    "# Tokenize our training dataset\n",
    "def convert_to_features(example_batch):\n",
    "    # Tokenize contexts and questions (as pairs of inputs)\n",
    "    encodings = tokenizer(example_batch['context'], example_batch['question'], truncation=True)\n",
    "\n",
    "    # Compute start and end tokens for labels using Transformers's fast tokenizers alignement methods.\n",
    "    start_positions, end_positions = [], []\n",
    "    for i, (context, answer) in enumerate(zip(example_batch['context'], example_batch['answers'])):\n",
    "        start_idx, end_idx = get_correct_alignement(context, answer)\n",
    "        start_positions.append(encodings.char_to_token(i, start_idx))\n",
    "        end_positions.append(encodings.char_to_token(i, end_idx-1))\n",
    "    encodings.update({'start_positions': start_positions, 'end_positions': end_positions})\n",
    "    return encodings\n",
    "\n",
    "encoded_dataset = dataset.map(convert_to_features, batched=True)\n"
   ]
  },
  {
   "cell_type": "markdown",
   "metadata": {},
   "source": [
    "That's the end of the shared preprocessing! Next, for Torch, we set our dataset format and create a `dataloader`. If you're using TensorFlow, skip to the next block."
   ]
  },
  {
   "cell_type": "code",
   "execution_count": 33,
   "metadata": {},
   "outputs": [],
   "source": [
    "# Format our dataset to outputs torch.Tensor to train a pytorch model\n",
    "columns = ['input_ids', 'token_type_ids', 'attention_mask', 'start_positions', 'end_positions']\n",
    "encoded_dataset.set_format(type='torch', columns=columns)\n",
    "\n",
    "# Instantiate a PyTorch Dataloader around our dataset\n",
    "# Let's do dynamic batching (pad on the fly with our own collate_fn)\n",
    "def collate_fn(examples):\n",
    "    return tokenizer.pad(examples, return_tensors='pt')\n",
    "dataloader = torch.utils.data.DataLoader(encoded_dataset['train'], collate_fn=collate_fn, batch_size=8)"
   ]
  },
  {
   "cell_type": "markdown",
   "metadata": {},
   "source": [
    "For TensorFlow, we use the `to_tf_dataset()` method to get a `tf.data.Dataset`."
   ]
  },
  {
   "cell_type": "code",
   "execution_count": 34,
   "metadata": {},
   "outputs": [],
   "source": [
    "columns = ['input_ids', 'token_type_ids', 'attention_mask', 'start_positions', 'end_positions']\n",
    "\n",
    "# Let's do dynamic batching (pad on the fly with our own collate_fn)\n",
    "def collate_fn(examples):\n",
    "    return tokenizer.pad(examples, return_tensors='np')\n",
    "\n",
    "# to_tf_dataset() returns a tf.data.Dataset that we can pass straight to model.fit().\n",
    "# Note the use of dummy_labels - this isn't always necessary, but can stop TF getting confused when you don't pass any labels.\n",
    "encoded_tf_dataset = encoded_dataset['train'].to_tf_dataset(\n",
    "    columns=columns,\n",
    "    collate_fn=collate_fn,\n",
    "    batch_size=8,\n",
    "    shuffle=True,\n",
    "    dummy_labels=True\n",
    ")"
   ]
  },
  {
   "cell_type": "markdown",
   "metadata": {},
   "source": [
    "Next, we initialize our model. The next two blocks show model creation and training in Torch. For TensorFlow, skip ahead!"
   ]
  },
  {
   "cell_type": "code",
   "execution_count": null,
   "metadata": {
    "colab": {
     "base_uri": "https://localhost:8080/",
     "height": 122
    },
    "id": "4mHnwMx2vSVx",
    "outputId": "1c0942f3-68df-490b-d37a-8f63d2aae717"
   },
   "outputs": [],
   "source": [
    "# Let's load a pretrained Bert model and a simple optimizer\n",
    "from transformers import AutoModelForQuestionAnswering\n",
    "\n",
    "model = AutoModelForQuestionAnswering.from_pretrained('distilbert-base-cased', return_dict=True)\n",
    "optimizer = torch.optim.Adam(model.parameters(), lr=1e-5)"
   ]
  },
  {
   "cell_type": "code",
   "execution_count": null,
   "metadata": {
    "colab": {
     "base_uri": "https://localhost:8080/",
     "height": 426
    },
    "id": "biqDH9vpvSVz",
    "outputId": "1a55ede4-bde6-4bd7-e945-7e4b54352f68"
   },
   "outputs": [],
   "source": [
    "# Now let's train our model\n",
    "device = 'cuda' if torch.cuda.is_available() else 'cpu'\n",
    "\n",
    "model.train().to(device)\n",
    "for i, batch in enumerate(dataloader):\n",
    "    batch.to(device)\n",
    "    outputs = model(**batch)\n",
    "    loss = outputs.loss\n",
    "    loss.backward()\n",
    "    optimizer.step()\n",
    "    model.zero_grad()\n",
    "    print(f'Step {i} - loss: {loss:.3}')\n",
    "    if i > 5:\n",
    "        break"
   ]
  },
  {
   "cell_type": "markdown",
   "metadata": {},
   "source": [
    "Next, we'll initialize and train our TensorFlow model. Note the lack of a loss argument when we `compile()` our model here! All Transformers models support computing loss internally. When no loss argument is provided, the model will use its internal loss - this is especially helpful for cases like QA models, when the loss can be quite complex."
   ]
  },
  {
   "cell_type": "code",
   "execution_count": 35,
   "metadata": {},
   "outputs": [
    {
     "name": "stderr",
     "output_type": "stream",
     "text": [
      "2021-12-08 17:46:45.968015: W tensorflow/python/util/util.cc:348] Sets are not currently considered sequences, but this may change in the future, so consider avoiding using them.\n",
      "2021-12-08 17:46:46.397677: I tensorflow/stream_executor/cuda/cuda_blas.cc:1760] TensorFloat-32 will be used for the matrix multiplication. This will only be logged once.\n",
      "Some layers from the model checkpoint at distilbert-base-cased were not used when initializing TFDistilBertForQuestionAnswering: ['vocab_projector', 'vocab_transform', 'vocab_layer_norm', 'activation_13']\n",
      "- This IS expected if you are initializing TFDistilBertForQuestionAnswering from the checkpoint of a model trained on another task or with another architecture (e.g. initializing a BertForSequenceClassification model from a BertForPreTraining model).\n",
      "- This IS NOT expected if you are initializing TFDistilBertForQuestionAnswering from the checkpoint of a model that you expect to be exactly identical (initializing a BertForSequenceClassification model from a BertForSequenceClassification model).\n",
      "Some layers of TFDistilBertForQuestionAnswering were not initialized from the model checkpoint at distilbert-base-cased and are newly initialized: ['dropout_19', 'qa_outputs']\n",
      "You should probably TRAIN this model on a down-stream task to be able to use it for predictions and inference.\n",
      "No loss specified in compile() - the model's internal loss computation will be used as the loss. Don't panic - this is a common way to train TensorFlow models in Transformers! Please ensure your labels are passed as the 'labels' key of the input dict so that they are accessible to the model during the forward pass. To disable this behaviour, please pass a loss argument, or explicitly pass loss=None if you do not want your model to compute a loss.\n"
     ]
    }
   ],
   "source": [
    "# Let's load a pretrained Bert model and a simple optimizer\n",
    "from transformers import TFAutoModelForQuestionAnswering\n",
    "import tensorflow as tf\n",
    "\n",
    "model = TFAutoModelForQuestionAnswering.from_pretrained('distilbert-base-cased')\n",
    "# No loss argument!\n",
    "model.compile(optimizer=tf.keras.optimizers.Adam(1e-5))"
   ]
  },
  {
   "cell_type": "markdown",
   "metadata": {},
   "source": [
    "Now that all the preprocessing is done, training is an extremely comforting single line of Keras. We stop training early with the `steps_per_epoch` argument - you should probably leave that one out of your actual production code!"
   ]
  },
  {
   "cell_type": "code",
   "execution_count": 36,
   "metadata": {},
   "outputs": [
    {
     "name": "stderr",
     "output_type": "stream",
     "text": [
      "2021-12-08 17:46:46.640604: I tensorflow/compiler/mlir/mlir_graph_optimization_pass.cc:185] None of the MLIR Optimization Passes are enabled (registered 2)\n"
     ]
    },
    {
     "name": "stdout",
     "output_type": "stream",
     "text": [
      "3/3 [==============================] - 5s 85ms/step - loss: 5.5924\n"
     ]
    },
    {
     "data": {
      "text/plain": [
       "<keras.callbacks.History at 0x7fac161d8a90>"
      ]
     },
     "execution_count": 36,
     "metadata": {},
     "output_type": "execute_result"
    }
   ],
   "source": [
    "model.fit(encoded_tf_dataset, epochs=1, steps_per_epoch=3)"
   ]
  },
  {
   "cell_type": "markdown",
   "metadata": {
    "id": "eREDXWP6vSV8"
   },
   "source": [
    "# Metrics API\n",
    "\n",
    "`datasets` also provides easy access and sharing of metrics.\n",
    "\n",
    "This aspect of the library is still experimental and the API may still evolve more than the datasets API.\n",
    "\n",
    "Like datasets, metrics are added as small scripts wrapping common metrics in a common API.\n",
    "\n",
    "There are several reason you may want to use metrics with `datasets` and in particular:\n",
    "\n",
    "- metrics for specific datasets like GLUE or SQuAD are provided out-of-the-box in a simple, convenient and consistant way integrated with the dataset,\n",
    "- metrics in `datasets` leverage the powerful backend to provide smart features out-of-the-box like support for distributed evaluation in PyTorch"
   ]
  },
  {
   "cell_type": "markdown",
   "metadata": {
    "id": "uUoGMMVKvSV8"
   },
   "source": [
    "## Using metrics\n",
    "\n",
    "Using metrics is pretty simple, they have two main methods: `.compute(predictions, references)` to directly compute the metric and `.add(prediction, reference)` or `.add_batch(predictions, references)` to only store some results if you want to do the evaluation in one go at the end.\n",
    "\n",
    "Here is a quick gist of a standard use of metrics (the simplest usage):\n",
    "```python\n",
    "from datasets import load_metric\n",
    "sacrebleu_metric = load_metric('sacrebleu')\n",
    "\n",
    "# If you only have a single iteration, you can easily compute the score like this\n",
    "predictions = model(inputs)\n",
    "score = sacrebleu_metric.compute(predictions, references)\n",
    "\n",
    "# If you have a loop, you can \"add\" your predictions and references at each iteration instead of having to save them yourself (the metric object store them efficiently for you). For TensorFlow models, you should be looping over your `tf.data.Dataset`, of course, not your `dataloader`!\n",
    "for batch in dataloader:\n",
    "    model_input, targets = batch\n",
    "    predictions = model(model_inputs)\n",
    "    sacrebleu_metric.add_batch(predictions, targets)\n",
    "score = sacrebleu_metric.compute()  # Compute the score from all the stored predictions/references\n",
    "```\n",
    "\n",
    "Here is a quick gist of a use in a distributed torch setup (should work for any python multi-process setup actually). It's pretty much identical to the second example above:\n",
    "```python\n",
    "from datasets import load_metric\n",
    "# You need to give the total number of parallel python processes (num_process) and the id of each process (process_id)\n",
    "bleu_metric = datasets.load_metric('sacrebleu', process_id=torch.distributed.get_rank(),b num_process=torch.distributed.get_world_size())\n",
    "\n",
    "for batch in dataloader:\n",
    "    model_input, targets = batch\n",
    "    predictions = model(model_inputs)\n",
    "    sacrebleu_metric.add_batch(predictions, targets)\n",
    "score = sacrebleu_metric.compute()  # Compute the score on the first node by default (can be set to compute on each node as well)\n",
    "```"
   ]
  },
  {
   "cell_type": "markdown",
   "metadata": {
    "id": "ySL-vDadvSV8"
   },
   "source": [
    "Example with a NER metric: `seqeval`"
   ]
  },
  {
   "cell_type": "code",
   "execution_count": null,
   "metadata": {
    "id": "f4uZym7MvSV9"
   },
   "outputs": [],
   "source": [
    "!pip install seqeval\n",
    "ner_metric = load_metric('seqeval')\n",
    "references = [['O', 'O', 'O', 'B-MISC', 'I-MISC', 'I-MISC', 'O'], ['B-PER', 'I-PER', 'O']]\n",
    "predictions =  [['O', 'O', 'B-MISC', 'I-MISC', 'I-MISC', 'I-MISC', 'O'], ['B-PER', 'I-PER', 'O']]\n",
    "ner_metric.compute(predictions=predictions, references=references)"
   ]
  },
  {
   "cell_type": "markdown",
   "metadata": {
    "id": "ctY6AIAilLdH"
   },
   "source": [
    "# Adding a new dataset or a new metric\n",
    "\n",
    "They are two ways to add new datasets and metrics in `datasets`:\n",
    "\n",
    "- datasets can be added with a Pull-Request adding a script in the `datasets` folder of the [`datasets` repository](https://github.com/huggingface/datasets)\n",
    "\n",
    "=> once the PR is merged, the dataset can be instantiate by it's folder name e.g. `datasets.load_dataset('squad')`. If you want HuggingFace to host the data as well you will need to ask the HuggingFace team to upload the data.\n",
    "\n",
    "- datasets can also be added with a direct upload using `datasets` CLI as a user or organization (like for models in `transformers`). In this case the dataset will be accessible under the gien user/organization name, e.g. `datasets.load_dataset('thomwolf/squad')`. In this case you can upload the data yourself at the same time and in the same folder.\n",
    "\n",
    "See more information in [the dataset sharing section of the documentation](https://huggingface.co/docs/datasets/share_dataset.html)."
   ]
  },
  {
   "cell_type": "code",
   "execution_count": null,
   "metadata": {
    "id": "ypLjbtGrljk8"
   },
   "outputs": [],
   "source": []
  }
 ],
 "metadata": {
  "colab": {
   "include_colab_link": true,
   "name": "HuggingFace datasets library - Overview",
   "provenance": [],
   "toc_visible": true
  },
  "file_extension": ".py",
  "kernelspec": {
   "display_name": "Python 3 (ipykernel)",
   "language": "python",
   "name": "python3"
  },
  "language_info": {
   "codemirror_mode": {
    "name": "ipython",
    "version": 3
   },
   "file_extension": ".py",
   "mimetype": "text/x-python",
   "name": "python",
   "nbconvert_exporter": "python",
   "pygments_lexer": "ipython3",
   "version": "3.9.6"
  },
  "mimetype": "text/x-python",
  "name": "python",
  "npconvert_exporter": "python",
  "pygments_lexer": "ipython3",
  "version": 3,
  "widgets": {
   "application/vnd.jupyter.widget-state+json": {
    "006e4a326af543a7800d8383aa636efb": {
     "model_module": "@jupyter-widgets/controls",
     "model_name": "DescriptionStyleModel",
     "state": {
      "_model_module": "@jupyter-widgets/controls",
      "_model_module_version": "1.5.0",
      "_model_name": "DescriptionStyleModel",
      "_view_count": null,
      "_view_module": "@jupyter-widgets/base",
      "_view_module_version": "1.2.0",
      "_view_name": "StyleView",
      "description_width": ""
     }
    },
    "026917f385374fada46a87105a4b38d2": {
     "model_module": "@jupyter-widgets/controls",
     "model_name": "HBoxModel",
     "state": {
      "_dom_classes": [],
      "_model_module": "@jupyter-widgets/controls",
      "_model_module_version": "1.5.0",
      "_model_name": "HBoxModel",
      "_view_count": null,
      "_view_module": "@jupyter-widgets/controls",
      "_view_module_version": "1.5.0",
      "_view_name": "HBoxView",
      "box_style": "",
      "children": [
       "IPY_MODEL_7bfd6156b20248d184fc9fa3258319e7",
       "IPY_MODEL_882d19bb42644fc0805ed0fef762ea0b"
      ],
      "layout": "IPY_MODEL_807701a9f18c4a91b775451d65817e0c"
     }
    },
    "043e8d6ca6574bd4abcfdd7145162ceb": {
     "model_module": "@jupyter-widgets/controls",
     "model_name": "DescriptionStyleModel",
     "state": {
      "_model_module": "@jupyter-widgets/controls",
      "_model_module_version": "1.5.0",
      "_model_name": "DescriptionStyleModel",
      "_view_count": null,
      "_view_module": "@jupyter-widgets/base",
      "_view_module_version": "1.2.0",
      "_view_name": "StyleView",
      "description_width": ""
     }
    },
    "08236188125a4c2e931feb58ebe648c0": {
     "model_module": "@jupyter-widgets/controls",
     "model_name": "HBoxModel",
     "state": {
      "_dom_classes": [],
      "_model_module": "@jupyter-widgets/controls",
      "_model_module_version": "1.5.0",
      "_model_name": "HBoxModel",
      "_view_count": null,
      "_view_module": "@jupyter-widgets/controls",
      "_view_module_version": "1.5.0",
      "_view_name": "HBoxView",
      "box_style": "",
      "children": [
       "IPY_MODEL_1da82f72f3fc46358fe3e4268e42d137",
       "IPY_MODEL_b051786ab97145cbb88627588bbec7d2"
      ],
      "layout": "IPY_MODEL_58f37f73168648a08edc0ae615260c24"
     }
    },
    "0d457dc560ae43b98e03ab5d566a89ff": {
     "model_module": "@jupyter-widgets/controls",
     "model_name": "ProgressStyleModel",
     "state": {
      "_model_module": "@jupyter-widgets/controls",
      "_model_module_version": "1.5.0",
      "_model_name": "ProgressStyleModel",
      "_view_count": null,
      "_view_module": "@jupyter-widgets/base",
      "_view_module_version": "1.2.0",
      "_view_name": "StyleView",
      "bar_color": null,
      "description_width": "initial"
     }
    },
    "1aa28417f911424eb9ac87413e4572ee": {
     "model_module": "@jupyter-widgets/base",
     "model_name": "LayoutModel",
     "state": {
      "_model_module": "@jupyter-widgets/base",
      "_model_module_version": "1.2.0",
      "_model_name": "LayoutModel",
      "_view_count": null,
      "_view_module": "@jupyter-widgets/base",
      "_view_module_version": "1.2.0",
      "_view_name": "LayoutView",
      "align_content": null,
      "align_items": null,
      "align_self": null,
      "border": null,
      "bottom": null,
      "display": null,
      "flex": null,
      "flex_flow": null,
      "grid_area": null,
      "grid_auto_columns": null,
      "grid_auto_flow": null,
      "grid_auto_rows": null,
      "grid_column": null,
      "grid_gap": null,
      "grid_row": null,
      "grid_template_areas": null,
      "grid_template_columns": null,
      "grid_template_rows": null,
      "height": null,
      "justify_content": null,
      "justify_items": null,
      "left": null,
      "margin": null,
      "max_height": null,
      "max_width": null,
      "min_height": null,
      "min_width": null,
      "object_fit": null,
      "object_position": null,
      "order": null,
      "overflow": null,
      "overflow_x": null,
      "overflow_y": null,
      "padding": null,
      "right": null,
      "top": null,
      "visibility": null,
      "width": null
     }
    },
    "1da82f72f3fc46358fe3e4268e42d137": {
     "model_module": "@jupyter-widgets/controls",
     "model_name": "FloatProgressModel",
     "state": {
      "_dom_classes": [],
      "_model_module": "@jupyter-widgets/controls",
      "_model_module_version": "1.5.0",
      "_model_name": "FloatProgressModel",
      "_view_count": null,
      "_view_module": "@jupyter-widgets/controls",
      "_view_module_version": "1.5.0",
      "_view_name": "ProgressView",
      "bar_style": "success",
      "description": "100%",
      "description_tooltip": null,
      "layout": "IPY_MODEL_f252b203b8d349edb87b0a81209746b2",
      "max": 1057,
      "min": 0,
      "orientation": "horizontal",
      "style": "IPY_MODEL_97948303212c4a1982a6dda9dfd4cc90",
      "value": 1057
     }
    },
    "23f45949b7f949859ecabab44b591553": {
     "model_module": "@jupyter-widgets/controls",
     "model_name": "HTMLModel",
     "state": {
      "_dom_classes": [],
      "_model_module": "@jupyter-widgets/controls",
      "_model_module_version": "1.5.0",
      "_model_name": "HTMLModel",
      "_view_count": null,
      "_view_module": "@jupyter-widgets/controls",
      "_view_module_version": "1.5.0",
      "_view_name": "HTMLView",
      "description": "",
      "description_tooltip": null,
      "layout": "IPY_MODEL_a57ecf5ee6e043458af851dfd2e0b50d",
      "placeholder": "​",
      "style": "IPY_MODEL_d46f8f656ea34972a4dd9b7554d62315",
      "value": " 88/88 [00:29&lt;00:00,  2.97ba/s]"
     }
    },
    "259b256a410e4727b9153d3f8ecfabdc": {
     "model_module": "@jupyter-widgets/controls",
     "model_name": "DescriptionStyleModel",
     "state": {
      "_model_module": "@jupyter-widgets/controls",
      "_model_module_version": "1.5.0",
      "_model_name": "DescriptionStyleModel",
      "_view_count": null,
      "_view_module": "@jupyter-widgets/base",
      "_view_module_version": "1.2.0",
      "_view_name": "StyleView",
      "description_width": ""
     }
    },
    "26cb4eca418946c484df632242464749": {
     "model_module": "@jupyter-widgets/controls",
     "model_name": "DescriptionStyleModel",
     "state": {
      "_model_module": "@jupyter-widgets/controls",
      "_model_module_version": "1.5.0",
      "_model_name": "DescriptionStyleModel",
      "_view_count": null,
      "_view_module": "@jupyter-widgets/base",
      "_view_module_version": "1.2.0",
      "_view_name": "StyleView",
      "description_width": ""
     }
    },
    "27be38dee58647e18a200e901504f93c": {
     "model_module": "@jupyter-widgets/base",
     "model_name": "LayoutModel",
     "state": {
      "_model_module": "@jupyter-widgets/base",
      "_model_module_version": "1.2.0",
      "_model_name": "LayoutModel",
      "_view_count": null,
      "_view_module": "@jupyter-widgets/base",
      "_view_module_version": "1.2.0",
      "_view_name": "LayoutView",
      "align_content": null,
      "align_items": null,
      "align_self": null,
      "border": null,
      "bottom": null,
      "display": null,
      "flex": null,
      "flex_flow": null,
      "grid_area": null,
      "grid_auto_columns": null,
      "grid_auto_flow": null,
      "grid_auto_rows": null,
      "grid_column": null,
      "grid_gap": null,
      "grid_row": null,
      "grid_template_areas": null,
      "grid_template_columns": null,
      "grid_template_rows": null,
      "height": null,
      "justify_content": null,
      "justify_items": null,
      "left": null,
      "margin": null,
      "max_height": null,
      "max_width": null,
      "min_height": null,
      "min_width": null,
      "object_fit": null,
      "object_position": null,
      "order": null,
      "overflow": null,
      "overflow_x": null,
      "overflow_y": null,
      "padding": null,
      "right": null,
      "top": null,
      "visibility": null,
      "width": null
     }
    },
    "30e2b72ce2304332a202d92d606671f6": {
     "model_module": "@jupyter-widgets/base",
     "model_name": "LayoutModel",
     "state": {
      "_model_module": "@jupyter-widgets/base",
      "_model_module_version": "1.2.0",
      "_model_name": "LayoutModel",
      "_view_count": null,
      "_view_module": "@jupyter-widgets/base",
      "_view_module_version": "1.2.0",
      "_view_name": "LayoutView",
      "align_content": null,
      "align_items": null,
      "align_self": null,
      "border": null,
      "bottom": null,
      "display": null,
      "flex": null,
      "flex_flow": null,
      "grid_area": null,
      "grid_auto_columns": null,
      "grid_auto_flow": null,
      "grid_auto_rows": null,
      "grid_column": null,
      "grid_gap": null,
      "grid_row": null,
      "grid_template_areas": null,
      "grid_template_columns": null,
      "grid_template_rows": null,
      "height": null,
      "justify_content": null,
      "justify_items": null,
      "left": null,
      "margin": null,
      "max_height": null,
      "max_width": null,
      "min_height": null,
      "min_width": null,
      "object_fit": null,
      "object_position": null,
      "order": null,
      "overflow": null,
      "overflow_x": null,
      "overflow_y": null,
      "padding": null,
      "right": null,
      "top": null,
      "visibility": null,
      "width": null
     }
    },
    "37b19294c7464eb4bd886d966e148219": {
     "model_module": "@jupyter-widgets/controls",
     "model_name": "DescriptionStyleModel",
     "state": {
      "_model_module": "@jupyter-widgets/controls",
      "_model_module_version": "1.5.0",
      "_model_name": "DescriptionStyleModel",
      "_view_count": null,
      "_view_module": "@jupyter-widgets/base",
      "_view_module_version": "1.2.0",
      "_view_name": "StyleView",
      "description_width": ""
     }
    },
    "3ae2be9ec40f424a8b1f5a8139f6de04": {
     "model_module": "@jupyter-widgets/controls",
     "model_name": "ProgressStyleModel",
     "state": {
      "_model_module": "@jupyter-widgets/controls",
      "_model_module_version": "1.5.0",
      "_model_name": "ProgressStyleModel",
      "_view_count": null,
      "_view_module": "@jupyter-widgets/base",
      "_view_module_version": "1.2.0",
      "_view_name": "StyleView",
      "bar_color": null,
      "description_width": "initial"
     }
    },
    "40427aa5aa2d46f79a3ba1b838632125": {
     "model_module": "@jupyter-widgets/base",
     "model_name": "LayoutModel",
     "state": {
      "_model_module": "@jupyter-widgets/base",
      "_model_module_version": "1.2.0",
      "_model_name": "LayoutModel",
      "_view_count": null,
      "_view_module": "@jupyter-widgets/base",
      "_view_module_version": "1.2.0",
      "_view_name": "LayoutView",
      "align_content": null,
      "align_items": null,
      "align_self": null,
      "border": null,
      "bottom": null,
      "display": null,
      "flex": null,
      "flex_flow": null,
      "grid_area": null,
      "grid_auto_columns": null,
      "grid_auto_flow": null,
      "grid_auto_rows": null,
      "grid_column": null,
      "grid_gap": null,
      "grid_row": null,
      "grid_template_areas": null,
      "grid_template_columns": null,
      "grid_template_rows": null,
      "height": null,
      "justify_content": null,
      "justify_items": null,
      "left": null,
      "margin": null,
      "max_height": null,
      "max_width": null,
      "min_height": null,
      "min_width": null,
      "object_fit": null,
      "object_position": null,
      "order": null,
      "overflow": null,
      "overflow_x": null,
      "overflow_y": null,
      "padding": null,
      "right": null,
      "top": null,
      "visibility": null,
      "width": null
     }
    },
    "435d36683bc04e06a971b76129a88ed1": {
     "model_module": "@jupyter-widgets/controls",
     "model_name": "FloatProgressModel",
     "state": {
      "_dom_classes": [],
      "_model_module": "@jupyter-widgets/controls",
      "_model_module_version": "1.5.0",
      "_model_name": "FloatProgressModel",
      "_view_count": null,
      "_view_module": "@jupyter-widgets/controls",
      "_view_module_version": "1.5.0",
      "_view_name": "ProgressView",
      "bar_style": "success",
      "description": "100%",
      "description_tooltip": null,
      "layout": "IPY_MODEL_cf940cf9ea3043b5abeb4c851ad23b77",
      "max": 2,
      "min": 0,
      "orientation": "horizontal",
      "style": "IPY_MODEL_703443b26d7d40aea83417de59b64a79",
      "value": 2
     }
    },
    "4530fc3d31ba4feaa61dfe1dbac87b3c": {
     "model_module": "@jupyter-widgets/controls",
     "model_name": "FloatProgressModel",
     "state": {
      "_dom_classes": [],
      "_model_module": "@jupyter-widgets/controls",
      "_model_module_version": "1.5.0",
      "_model_name": "FloatProgressModel",
      "_view_count": null,
      "_view_module": "@jupyter-widgets/controls",
      "_view_module_version": "1.5.0",
      "_view_name": "ProgressView",
      "bar_style": "success",
      "description": "Downloading: ",
      "description_tooltip": null,
      "layout": "IPY_MODEL_53aaaa91d76346b3a2d1020c5f6cf84e",
      "max": 1895,
      "min": 0,
      "orientation": "horizontal",
      "style": "IPY_MODEL_6c5c7def1b1144668c6956551faa1941",
      "value": 1895
     }
    },
    "45681ef1b5a84165aa216f48c4873cbb": {
     "model_module": "@jupyter-widgets/base",
     "model_name": "LayoutModel",
     "state": {
      "_model_module": "@jupyter-widgets/base",
      "_model_module_version": "1.2.0",
      "_model_name": "LayoutModel",
      "_view_count": null,
      "_view_module": "@jupyter-widgets/base",
      "_view_module_version": "1.2.0",
      "_view_name": "LayoutView",
      "align_content": null,
      "align_items": null,
      "align_self": null,
      "border": null,
      "bottom": null,
      "display": null,
      "flex": null,
      "flex_flow": null,
      "grid_area": null,
      "grid_auto_columns": null,
      "grid_auto_flow": null,
      "grid_auto_rows": null,
      "grid_column": null,
      "grid_gap": null,
      "grid_row": null,
      "grid_template_areas": null,
      "grid_template_columns": null,
      "grid_template_rows": null,
      "height": null,
      "justify_content": null,
      "justify_items": null,
      "left": null,
      "margin": null,
      "max_height": null,
      "max_width": null,
      "min_height": null,
      "min_width": null,
      "object_fit": null,
      "object_position": null,
      "order": null,
      "overflow": null,
      "overflow_x": null,
      "overflow_y": null,
      "padding": null,
      "right": null,
      "top": null,
      "visibility": null,
      "width": null
     }
    },
    "496f5b0327c047dda2e27938933d282f": {
     "model_module": "@jupyter-widgets/base",
     "model_name": "LayoutModel",
     "state": {
      "_model_module": "@jupyter-widgets/base",
      "_model_module_version": "1.2.0",
      "_model_name": "LayoutModel",
      "_view_count": null,
      "_view_module": "@jupyter-widgets/base",
      "_view_module_version": "1.2.0",
      "_view_name": "LayoutView",
      "align_content": null,
      "align_items": null,
      "align_self": null,
      "border": null,
      "bottom": null,
      "display": null,
      "flex": null,
      "flex_flow": null,
      "grid_area": null,
      "grid_auto_columns": null,
      "grid_auto_flow": null,
      "grid_auto_rows": null,
      "grid_column": null,
      "grid_gap": null,
      "grid_row": null,
      "grid_template_areas": null,
      "grid_template_columns": null,
      "grid_template_rows": null,
      "height": null,
      "justify_content": null,
      "justify_items": null,
      "left": null,
      "margin": null,
      "max_height": null,
      "max_width": null,
      "min_height": null,
      "min_width": null,
      "object_fit": null,
      "object_position": null,
      "order": null,
      "overflow": null,
      "overflow_x": null,
      "overflow_y": null,
      "padding": null,
      "right": null,
      "top": null,
      "visibility": null,
      "width": null
     }
    },
    "4bcb701ee45e47d2a7774d0f278e13ea": {
     "model_module": "@jupyter-widgets/base",
     "model_name": "LayoutModel",
     "state": {
      "_model_module": "@jupyter-widgets/base",
      "_model_module_version": "1.2.0",
      "_model_name": "LayoutModel",
      "_view_count": null,
      "_view_module": "@jupyter-widgets/base",
      "_view_module_version": "1.2.0",
      "_view_name": "LayoutView",
      "align_content": null,
      "align_items": null,
      "align_self": null,
      "border": null,
      "bottom": null,
      "display": null,
      "flex": null,
      "flex_flow": null,
      "grid_area": null,
      "grid_auto_columns": null,
      "grid_auto_flow": null,
      "grid_auto_rows": null,
      "grid_column": null,
      "grid_gap": null,
      "grid_row": null,
      "grid_template_areas": null,
      "grid_template_columns": null,
      "grid_template_rows": null,
      "height": null,
      "justify_content": null,
      "justify_items": null,
      "left": null,
      "margin": null,
      "max_height": null,
      "max_width": null,
      "min_height": null,
      "min_width": null,
      "object_fit": null,
      "object_position": null,
      "order": null,
      "overflow": null,
      "overflow_x": null,
      "overflow_y": null,
      "padding": null,
      "right": null,
      "top": null,
      "visibility": null,
      "width": null
     }
    },
    "4f03c8400d014b3bbb5e8dd4f63c5441": {
     "model_module": "@jupyter-widgets/controls",
     "model_name": "FloatProgressModel",
     "state": {
      "_dom_classes": [],
      "_model_module": "@jupyter-widgets/controls",
      "_model_module_version": "1.5.0",
      "_model_name": "FloatProgressModel",
      "_view_count": null,
      "_view_module": "@jupyter-widgets/controls",
      "_view_module_version": "1.5.0",
      "_view_name": "ProgressView",
      "bar_style": "success",
      "description": "100%",
      "description_tooltip": null,
      "layout": "IPY_MODEL_cb778df78c63405db22ede23c63f001a",
      "max": 88,
      "min": 0,
      "orientation": "horizontal",
      "style": "IPY_MODEL_3ae2be9ec40f424a8b1f5a8139f6de04",
      "value": 88
     }
    },
    "52f1d871456a4461937e4067688065ee": {
     "model_module": "@jupyter-widgets/controls",
     "model_name": "FloatProgressModel",
     "state": {
      "_dom_classes": [],
      "_model_module": "@jupyter-widgets/controls",
      "_model_module_version": "1.5.0",
      "_model_name": "FloatProgressModel",
      "_view_count": null,
      "_view_module": "@jupyter-widgets/controls",
      "_view_module_version": "1.5.0",
      "_view_name": "ProgressView",
      "bar_style": "success",
      "description": "Downloading: ",
      "description_tooltip": null,
      "layout": "IPY_MODEL_9175d1b7d7a6432ba5602f4c712a2b20",
      "max": 955,
      "min": 0,
      "orientation": "horizontal",
      "style": "IPY_MODEL_83ee754b4ee54790838327636615e3fa",
      "value": 955
     }
    },
    "53aaaa91d76346b3a2d1020c5f6cf84e": {
     "model_module": "@jupyter-widgets/base",
     "model_name": "LayoutModel",
     "state": {
      "_model_module": "@jupyter-widgets/base",
      "_model_module_version": "1.2.0",
      "_model_name": "LayoutModel",
      "_view_count": null,
      "_view_module": "@jupyter-widgets/base",
      "_view_module_version": "1.2.0",
      "_view_name": "LayoutView",
      "align_content": null,
      "align_items": null,
      "align_self": null,
      "border": null,
      "bottom": null,
      "display": null,
      "flex": null,
      "flex_flow": null,
      "grid_area": null,
      "grid_auto_columns": null,
      "grid_auto_flow": null,
      "grid_auto_rows": null,
      "grid_column": null,
      "grid_gap": null,
      "grid_row": null,
      "grid_template_areas": null,
      "grid_template_columns": null,
      "grid_template_rows": null,
      "height": null,
      "justify_content": null,
      "justify_items": null,
      "left": null,
      "margin": null,
      "max_height": null,
      "max_width": null,
      "min_height": null,
      "min_width": null,
      "object_fit": null,
      "object_position": null,
      "order": null,
      "overflow": null,
      "overflow_x": null,
      "overflow_y": null,
      "padding": null,
      "right": null,
      "top": null,
      "visibility": null,
      "width": null
     }
    },
    "54b0842b50b04171ba5d720addfcf0bb": {
     "model_module": "@jupyter-widgets/controls",
     "model_name": "DescriptionStyleModel",
     "state": {
      "_model_module": "@jupyter-widgets/controls",
      "_model_module_version": "1.5.0",
      "_model_name": "DescriptionStyleModel",
      "_view_count": null,
      "_view_module": "@jupyter-widgets/base",
      "_view_module_version": "1.2.0",
      "_view_name": "StyleView",
      "description_width": ""
     }
    },
    "58f37f73168648a08edc0ae615260c24": {
     "model_module": "@jupyter-widgets/base",
     "model_name": "LayoutModel",
     "state": {
      "_model_module": "@jupyter-widgets/base",
      "_model_module_version": "1.2.0",
      "_model_name": "LayoutModel",
      "_view_count": null,
      "_view_module": "@jupyter-widgets/base",
      "_view_module_version": "1.2.0",
      "_view_name": "LayoutView",
      "align_content": null,
      "align_items": null,
      "align_self": null,
      "border": null,
      "bottom": null,
      "display": null,
      "flex": null,
      "flex_flow": null,
      "grid_area": null,
      "grid_auto_columns": null,
      "grid_auto_flow": null,
      "grid_auto_rows": null,
      "grid_column": null,
      "grid_gap": null,
      "grid_row": null,
      "grid_template_areas": null,
      "grid_template_columns": null,
      "grid_template_rows": null,
      "height": null,
      "justify_content": null,
      "justify_items": null,
      "left": null,
      "margin": null,
      "max_height": null,
      "max_width": null,
      "min_height": null,
      "min_width": null,
      "object_fit": null,
      "object_position": null,
      "order": null,
      "overflow": null,
      "overflow_x": null,
      "overflow_y": null,
      "padding": null,
      "right": null,
      "top": null,
      "visibility": null,
      "width": null
     }
    },
    "595ade6ae07a4a7a952b5d2dc8949204": {
     "model_module": "@jupyter-widgets/controls",
     "model_name": "HBoxModel",
     "state": {
      "_dom_classes": [],
      "_model_module": "@jupyter-widgets/controls",
      "_model_module_version": "1.5.0",
      "_model_name": "HBoxModel",
      "_view_count": null,
      "_view_module": "@jupyter-widgets/controls",
      "_view_module_version": "1.5.0",
      "_view_name": "HBoxView",
      "box_style": "",
      "children": [
       "IPY_MODEL_4530fc3d31ba4feaa61dfe1dbac87b3c",
       "IPY_MODEL_dd1b1bf311c340f393d6400c5925dffb"
      ],
      "layout": "IPY_MODEL_6eab113d05e64e7e8dceae45ee0a3bc3"
     }
    },
    "62c3660b39e240b0b1699aebc9979d4f": {
     "model_module": "@jupyter-widgets/base",
     "model_name": "LayoutModel",
     "state": {
      "_model_module": "@jupyter-widgets/base",
      "_model_module_version": "1.2.0",
      "_model_name": "LayoutModel",
      "_view_count": null,
      "_view_module": "@jupyter-widgets/base",
      "_view_module_version": "1.2.0",
      "_view_name": "LayoutView",
      "align_content": null,
      "align_items": null,
      "align_self": null,
      "border": null,
      "bottom": null,
      "display": null,
      "flex": null,
      "flex_flow": null,
      "grid_area": null,
      "grid_auto_columns": null,
      "grid_auto_flow": null,
      "grid_auto_rows": null,
      "grid_column": null,
      "grid_gap": null,
      "grid_row": null,
      "grid_template_areas": null,
      "grid_template_columns": null,
      "grid_template_rows": null,
      "height": null,
      "justify_content": null,
      "justify_items": null,
      "left": null,
      "margin": null,
      "max_height": null,
      "max_width": null,
      "min_height": null,
      "min_width": null,
      "object_fit": null,
      "object_position": null,
      "order": null,
      "overflow": null,
      "overflow_x": null,
      "overflow_y": null,
      "padding": null,
      "right": null,
      "top": null,
      "visibility": null,
      "width": null
     }
    },
    "641418be13af474e82ea008e54262513": {
     "model_module": "@jupyter-widgets/controls",
     "model_name": "HTMLModel",
     "state": {
      "_dom_classes": [],
      "_model_module": "@jupyter-widgets/controls",
      "_model_module_version": "1.5.0",
      "_model_name": "HTMLModel",
      "_view_count": null,
      "_view_module": "@jupyter-widgets/controls",
      "_view_module_version": "1.5.0",
      "_view_name": "HTMLView",
      "description": "",
      "description_tooltip": null,
      "layout": "IPY_MODEL_e1522a45424e45c0b06128fc8a0138a9",
      "placeholder": "​",
      "style": "IPY_MODEL_26cb4eca418946c484df632242464749",
      "value": " 2.19k/? [00:00&lt;00:00, 32.5kB/s]"
     }
    },
    "6c5c7def1b1144668c6956551faa1941": {
     "model_module": "@jupyter-widgets/controls",
     "model_name": "ProgressStyleModel",
     "state": {
      "_model_module": "@jupyter-widgets/controls",
      "_model_module_version": "1.5.0",
      "_model_name": "ProgressStyleModel",
      "_view_count": null,
      "_view_module": "@jupyter-widgets/base",
      "_view_module_version": "1.2.0",
      "_view_name": "StyleView",
      "bar_color": null,
      "description_width": "initial"
     }
    },
    "6d520d2a14e84304a126671baf9d37a5": {
     "model_module": "@jupyter-widgets/base",
     "model_name": "LayoutModel",
     "state": {
      "_model_module": "@jupyter-widgets/base",
      "_model_module_version": "1.2.0",
      "_model_name": "LayoutModel",
      "_view_count": null,
      "_view_module": "@jupyter-widgets/base",
      "_view_module_version": "1.2.0",
      "_view_name": "LayoutView",
      "align_content": null,
      "align_items": null,
      "align_self": null,
      "border": null,
      "bottom": null,
      "display": null,
      "flex": null,
      "flex_flow": null,
      "grid_area": null,
      "grid_auto_columns": null,
      "grid_auto_flow": null,
      "grid_auto_rows": null,
      "grid_column": null,
      "grid_gap": null,
      "grid_row": null,
      "grid_template_areas": null,
      "grid_template_columns": null,
      "grid_template_rows": null,
      "height": null,
      "justify_content": null,
      "justify_items": null,
      "left": null,
      "margin": null,
      "max_height": null,
      "max_width": null,
      "min_height": null,
      "min_width": null,
      "object_fit": null,
      "object_position": null,
      "order": null,
      "overflow": null,
      "overflow_x": null,
      "overflow_y": null,
      "padding": null,
      "right": null,
      "top": null,
      "visibility": null,
      "width": null
     }
    },
    "6db8399610464d6e93ce82ad8bb7bfc4": {
     "model_module": "@jupyter-widgets/controls",
     "model_name": "ProgressStyleModel",
     "state": {
      "_model_module": "@jupyter-widgets/controls",
      "_model_module_version": "1.5.0",
      "_model_name": "ProgressStyleModel",
      "_view_count": null,
      "_view_module": "@jupyter-widgets/base",
      "_view_module_version": "1.2.0",
      "_view_name": "StyleView",
      "bar_color": null,
      "description_width": "initial"
     }
    },
    "6eab113d05e64e7e8dceae45ee0a3bc3": {
     "model_module": "@jupyter-widgets/base",
     "model_name": "LayoutModel",
     "state": {
      "_model_module": "@jupyter-widgets/base",
      "_model_module_version": "1.2.0",
      "_model_name": "LayoutModel",
      "_view_count": null,
      "_view_module": "@jupyter-widgets/base",
      "_view_module_version": "1.2.0",
      "_view_name": "LayoutView",
      "align_content": null,
      "align_items": null,
      "align_self": null,
      "border": null,
      "bottom": null,
      "display": null,
      "flex": null,
      "flex_flow": null,
      "grid_area": null,
      "grid_auto_columns": null,
      "grid_auto_flow": null,
      "grid_auto_rows": null,
      "grid_column": null,
      "grid_gap": null,
      "grid_row": null,
      "grid_template_areas": null,
      "grid_template_columns": null,
      "grid_template_rows": null,
      "height": null,
      "justify_content": null,
      "justify_items": null,
      "left": null,
      "margin": null,
      "max_height": null,
      "max_width": null,
      "min_height": null,
      "min_width": null,
      "object_fit": null,
      "object_position": null,
      "order": null,
      "overflow": null,
      "overflow_x": null,
      "overflow_y": null,
      "padding": null,
      "right": null,
      "top": null,
      "visibility": null,
      "width": null
     }
    },
    "6f54a6cb167149b495d8f26594f2ec1a": {
     "model_module": "@jupyter-widgets/controls",
     "model_name": "HTMLModel",
     "state": {
      "_dom_classes": [],
      "_model_module": "@jupyter-widgets/controls",
      "_model_module_version": "1.5.0",
      "_model_name": "HTMLModel",
      "_view_count": null,
      "_view_module": "@jupyter-widgets/controls",
      "_view_module_version": "1.5.0",
      "_view_name": "HTMLView",
      "description": "",
      "description_tooltip": null,
      "layout": "IPY_MODEL_62c3660b39e240b0b1699aebc9979d4f",
      "placeholder": "​",
      "style": "IPY_MODEL_54b0842b50b04171ba5d720addfcf0bb",
      "value": " 87599/0 [00:09&lt;00:00, 19483.85 examples/s]"
     }
    },
    "703443b26d7d40aea83417de59b64a79": {
     "model_module": "@jupyter-widgets/controls",
     "model_name": "ProgressStyleModel",
     "state": {
      "_model_module": "@jupyter-widgets/controls",
      "_model_module_version": "1.5.0",
      "_model_name": "ProgressStyleModel",
      "_view_count": null,
      "_view_module": "@jupyter-widgets/base",
      "_view_module_version": "1.2.0",
      "_view_name": "StyleView",
      "bar_color": null,
      "description_width": "initial"
     }
    },
    "71d89e94d82f4335b7ca7aaf4dba83ed": {
     "model_module": "@jupyter-widgets/controls",
     "model_name": "HBoxModel",
     "state": {
      "_dom_classes": [],
      "_model_module": "@jupyter-widgets/controls",
      "_model_module_version": "1.5.0",
      "_model_name": "HBoxModel",
      "_view_count": null,
      "_view_module": "@jupyter-widgets/controls",
      "_view_module_version": "1.5.0",
      "_view_name": "HBoxView",
      "box_style": "",
      "children": [
       "IPY_MODEL_4f03c8400d014b3bbb5e8dd4f63c5441",
       "IPY_MODEL_23f45949b7f949859ecabab44b591553"
      ],
      "layout": "IPY_MODEL_f38913964ddb4e3eb6fc0cf087ab0f52"
     }
    },
    "76dead3c2c364213b0e0363fdef5cdcc": {
     "model_module": "@jupyter-widgets/controls",
     "model_name": "HBoxModel",
     "state": {
      "_dom_classes": [],
      "_model_module": "@jupyter-widgets/controls",
      "_model_module_version": "1.5.0",
      "_model_name": "HBoxModel",
      "_view_count": null,
      "_view_module": "@jupyter-widgets/controls",
      "_view_module_version": "1.5.0",
      "_view_name": "HBoxView",
      "box_style": "",
      "children": [
       "IPY_MODEL_52f1d871456a4461937e4067688065ee",
       "IPY_MODEL_641418be13af474e82ea008e54262513"
      ],
      "layout": "IPY_MODEL_c20179e39c46450984d47e0dd194228e"
     }
    },
    "78ae08f5803f4cb29f7f63c2843e9db0": {
     "model_module": "@jupyter-widgets/controls",
     "model_name": "HTMLModel",
     "state": {
      "_dom_classes": [],
      "_model_module": "@jupyter-widgets/controls",
      "_model_module_version": "1.5.0",
      "_model_name": "HTMLModel",
      "_view_count": null,
      "_view_module": "@jupyter-widgets/controls",
      "_view_module_version": "1.5.0",
      "_view_name": "HTMLView",
      "description": "",
      "description_tooltip": null,
      "layout": "IPY_MODEL_a3d89c58eda640a6a8289ba0c5d549e2",
      "placeholder": "​",
      "style": "IPY_MODEL_e319f183228b4f0dba1140d9cc1573ec",
      "value": " 2/2 [03:25&lt;00:00, 102.76s/ba]"
     }
    },
    "7bfd6156b20248d184fc9fa3258319e7": {
     "model_module": "@jupyter-widgets/controls",
     "model_name": "FloatProgressModel",
     "state": {
      "_dom_classes": [],
      "_model_module": "@jupyter-widgets/controls",
      "_model_module_version": "1.5.0",
      "_model_name": "FloatProgressModel",
      "_view_count": null,
      "_view_module": "@jupyter-widgets/controls",
      "_view_module_version": "1.5.0",
      "_view_name": "ProgressView",
      "bar_style": "info",
      "description": "",
      "description_tooltip": null,
      "layout": "IPY_MODEL_bf0744b58344429c95edab0a1f52b232",
      "max": 1,
      "min": 0,
      "orientation": "horizontal",
      "style": "IPY_MODEL_0d457dc560ae43b98e03ab5d566a89ff",
      "value": 1
     }
    },
    "807701a9f18c4a91b775451d65817e0c": {
     "model_module": "@jupyter-widgets/base",
     "model_name": "LayoutModel",
     "state": {
      "_model_module": "@jupyter-widgets/base",
      "_model_module_version": "1.2.0",
      "_model_name": "LayoutModel",
      "_view_count": null,
      "_view_module": "@jupyter-widgets/base",
      "_view_module_version": "1.2.0",
      "_view_name": "LayoutView",
      "align_content": null,
      "align_items": null,
      "align_self": null,
      "border": null,
      "bottom": null,
      "display": null,
      "flex": null,
      "flex_flow": null,
      "grid_area": null,
      "grid_auto_columns": null,
      "grid_auto_flow": null,
      "grid_auto_rows": null,
      "grid_column": null,
      "grid_gap": null,
      "grid_row": null,
      "grid_template_areas": null,
      "grid_template_columns": null,
      "grid_template_rows": null,
      "height": null,
      "justify_content": null,
      "justify_items": null,
      "left": null,
      "margin": null,
      "max_height": null,
      "max_width": null,
      "min_height": null,
      "min_width": null,
      "object_fit": null,
      "object_position": null,
      "order": null,
      "overflow": null,
      "overflow_x": null,
      "overflow_y": null,
      "padding": null,
      "right": null,
      "top": null,
      "visibility": null,
      "width": null
     }
    },
    "810d81cd651d41f298ff4815fcf9f34a": {
     "model_module": "@jupyter-widgets/controls",
     "model_name": "FloatProgressModel",
     "state": {
      "_dom_classes": [],
      "_model_module": "@jupyter-widgets/controls",
      "_model_module_version": "1.5.0",
      "_model_name": "FloatProgressModel",
      "_view_count": null,
      "_view_module": "@jupyter-widgets/controls",
      "_view_module_version": "1.5.0",
      "_view_name": "ProgressView",
      "bar_style": "success",
      "description": "100%",
      "description_tooltip": null,
      "layout": "IPY_MODEL_f684dcff9d4c4c10b6bb623c02465b14",
      "max": 11,
      "min": 0,
      "orientation": "horizontal",
      "style": "IPY_MODEL_6db8399610464d6e93ce82ad8bb7bfc4",
      "value": 11
     }
    },
    "83ee754b4ee54790838327636615e3fa": {
     "model_module": "@jupyter-widgets/controls",
     "model_name": "ProgressStyleModel",
     "state": {
      "_model_module": "@jupyter-widgets/controls",
      "_model_module_version": "1.5.0",
      "_model_name": "ProgressStyleModel",
      "_view_count": null,
      "_view_module": "@jupyter-widgets/base",
      "_view_module_version": "1.2.0",
      "_view_name": "StyleView",
      "bar_color": null,
      "description_width": "initial"
     }
    },
    "85132276675340b0b94fa09b958957fe": {
     "model_module": "@jupyter-widgets/controls",
     "model_name": "ProgressStyleModel",
     "state": {
      "_model_module": "@jupyter-widgets/controls",
      "_model_module_version": "1.5.0",
      "_model_name": "ProgressStyleModel",
      "_view_count": null,
      "_view_module": "@jupyter-widgets/base",
      "_view_module_version": "1.2.0",
      "_view_name": "StyleView",
      "bar_color": null,
      "description_width": "initial"
     }
    },
    "866381cf88054cbfbd65a945296bce6f": {
     "model_module": "@jupyter-widgets/controls",
     "model_name": "ProgressStyleModel",
     "state": {
      "_model_module": "@jupyter-widgets/controls",
      "_model_module_version": "1.5.0",
      "_model_name": "ProgressStyleModel",
      "_view_count": null,
      "_view_module": "@jupyter-widgets/base",
      "_view_module_version": "1.2.0",
      "_view_name": "StyleView",
      "bar_color": null,
      "description_width": "initial"
     }
    },
    "86c8850654d54b47a2771cbb1804f5a1": {
     "model_module": "@jupyter-widgets/base",
     "model_name": "LayoutModel",
     "state": {
      "_model_module": "@jupyter-widgets/base",
      "_model_module_version": "1.2.0",
      "_model_name": "LayoutModel",
      "_view_count": null,
      "_view_module": "@jupyter-widgets/base",
      "_view_module_version": "1.2.0",
      "_view_name": "LayoutView",
      "align_content": null,
      "align_items": null,
      "align_self": null,
      "border": null,
      "bottom": null,
      "display": null,
      "flex": null,
      "flex_flow": null,
      "grid_area": null,
      "grid_auto_columns": null,
      "grid_auto_flow": null,
      "grid_auto_rows": null,
      "grid_column": null,
      "grid_gap": null,
      "grid_row": null,
      "grid_template_areas": null,
      "grid_template_columns": null,
      "grid_template_rows": null,
      "height": null,
      "justify_content": null,
      "justify_items": null,
      "left": null,
      "margin": null,
      "max_height": null,
      "max_width": null,
      "min_height": null,
      "min_width": null,
      "object_fit": null,
      "object_position": null,
      "order": null,
      "overflow": null,
      "overflow_x": null,
      "overflow_y": null,
      "padding": null,
      "right": null,
      "top": null,
      "visibility": null,
      "width": null
     }
    },
    "86fa8d2a2b204d8586cc8ab5ad2a1b7a": {
     "model_module": "@jupyter-widgets/controls",
     "model_name": "HTMLModel",
     "state": {
      "_dom_classes": [],
      "_model_module": "@jupyter-widgets/controls",
      "_model_module_version": "1.5.0",
      "_model_name": "HTMLModel",
      "_view_count": null,
      "_view_module": "@jupyter-widgets/controls",
      "_view_module_version": "1.5.0",
      "_view_name": "HTMLView",
      "description": "",
      "description_tooltip": null,
      "layout": "IPY_MODEL_ec53215a263e413eab01f74b66b9bff6",
      "placeholder": "​",
      "style": "IPY_MODEL_043e8d6ca6574bd4abcfdd7145162ceb",
      "value": " 11/11 [00:03&lt;00:00,  2.91ba/s]"
     }
    },
    "882d19bb42644fc0805ed0fef762ea0b": {
     "model_module": "@jupyter-widgets/controls",
     "model_name": "HTMLModel",
     "state": {
      "_dom_classes": [],
      "_model_module": "@jupyter-widgets/controls",
      "_model_module_version": "1.5.0",
      "_model_name": "HTMLModel",
      "_view_count": null,
      "_view_module": "@jupyter-widgets/controls",
      "_view_module_version": "1.5.0",
      "_view_name": "HTMLView",
      "description": "",
      "description_tooltip": null,
      "layout": "IPY_MODEL_496f5b0327c047dda2e27938933d282f",
      "placeholder": "​",
      "style": "IPY_MODEL_006e4a326af543a7800d8383aa636efb",
      "value": " 10570/0 [00:00&lt;00:00, 69.24 examples/s]"
     }
    },
    "8f91bd0201994d309f42fc75f2215d9d": {
     "model_module": "@jupyter-widgets/controls",
     "model_name": "FloatProgressModel",
     "state": {
      "_dom_classes": [],
      "_model_module": "@jupyter-widgets/controls",
      "_model_module_version": "1.5.0",
      "_model_name": "FloatProgressModel",
      "_view_count": null,
      "_view_module": "@jupyter-widgets/controls",
      "_view_module_version": "1.5.0",
      "_view_name": "ProgressView",
      "bar_style": "info",
      "description": "",
      "description_tooltip": null,
      "layout": "IPY_MODEL_ef7f95dd4f2b4e908e9557232a2def24",
      "max": 1,
      "min": 0,
      "orientation": "horizontal",
      "style": "IPY_MODEL_866381cf88054cbfbd65a945296bce6f",
      "value": 1
     }
    },
    "90004c044a5c4fbb884f881d8bc1d54b": {
     "model_module": "@jupyter-widgets/controls",
     "model_name": "HBoxModel",
     "state": {
      "_dom_classes": [],
      "_model_module": "@jupyter-widgets/controls",
      "_model_module_version": "1.5.0",
      "_model_name": "HBoxModel",
      "_view_count": null,
      "_view_module": "@jupyter-widgets/controls",
      "_view_module_version": "1.5.0",
      "_view_name": "HBoxView",
      "box_style": "",
      "children": [
       "IPY_MODEL_810d81cd651d41f298ff4815fcf9f34a",
       "IPY_MODEL_86fa8d2a2b204d8586cc8ab5ad2a1b7a"
      ],
      "layout": "IPY_MODEL_30e2b72ce2304332a202d92d606671f6"
     }
    },
    "9175d1b7d7a6432ba5602f4c712a2b20": {
     "model_module": "@jupyter-widgets/base",
     "model_name": "LayoutModel",
     "state": {
      "_model_module": "@jupyter-widgets/base",
      "_model_module_version": "1.2.0",
      "_model_name": "LayoutModel",
      "_view_count": null,
      "_view_module": "@jupyter-widgets/base",
      "_view_module_version": "1.2.0",
      "_view_name": "LayoutView",
      "align_content": null,
      "align_items": null,
      "align_self": null,
      "border": null,
      "bottom": null,
      "display": null,
      "flex": null,
      "flex_flow": null,
      "grid_area": null,
      "grid_auto_columns": null,
      "grid_auto_flow": null,
      "grid_auto_rows": null,
      "grid_column": null,
      "grid_gap": null,
      "grid_row": null,
      "grid_template_areas": null,
      "grid_template_columns": null,
      "grid_template_rows": null,
      "height": null,
      "justify_content": null,
      "justify_items": null,
      "left": null,
      "margin": null,
      "max_height": null,
      "max_width": null,
      "min_height": null,
      "min_width": null,
      "object_fit": null,
      "object_position": null,
      "order": null,
      "overflow": null,
      "overflow_x": null,
      "overflow_y": null,
      "padding": null,
      "right": null,
      "top": null,
      "visibility": null,
      "width": null
     }
    },
    "97948303212c4a1982a6dda9dfd4cc90": {
     "model_module": "@jupyter-widgets/controls",
     "model_name": "ProgressStyleModel",
     "state": {
      "_model_module": "@jupyter-widgets/controls",
      "_model_module_version": "1.5.0",
      "_model_name": "ProgressStyleModel",
      "_view_count": null,
      "_view_module": "@jupyter-widgets/base",
      "_view_module_version": "1.2.0",
      "_view_name": "StyleView",
      "bar_color": null,
      "description_width": "initial"
     }
    },
    "a3d89c58eda640a6a8289ba0c5d549e2": {
     "model_module": "@jupyter-widgets/base",
     "model_name": "LayoutModel",
     "state": {
      "_model_module": "@jupyter-widgets/base",
      "_model_module_version": "1.2.0",
      "_model_name": "LayoutModel",
      "_view_count": null,
      "_view_module": "@jupyter-widgets/base",
      "_view_module_version": "1.2.0",
      "_view_name": "LayoutView",
      "align_content": null,
      "align_items": null,
      "align_self": null,
      "border": null,
      "bottom": null,
      "display": null,
      "flex": null,
      "flex_flow": null,
      "grid_area": null,
      "grid_auto_columns": null,
      "grid_auto_flow": null,
      "grid_auto_rows": null,
      "grid_column": null,
      "grid_gap": null,
      "grid_row": null,
      "grid_template_areas": null,
      "grid_template_columns": null,
      "grid_template_rows": null,
      "height": null,
      "justify_content": null,
      "justify_items": null,
      "left": null,
      "margin": null,
      "max_height": null,
      "max_width": null,
      "min_height": null,
      "min_width": null,
      "object_fit": null,
      "object_position": null,
      "order": null,
      "overflow": null,
      "overflow_x": null,
      "overflow_y": null,
      "padding": null,
      "right": null,
      "top": null,
      "visibility": null,
      "width": null
     }
    },
    "a4a207497478418e80fc40839e664d82": {
     "model_module": "@jupyter-widgets/controls",
     "model_name": "HBoxModel",
     "state": {
      "_dom_classes": [],
      "_model_module": "@jupyter-widgets/controls",
      "_model_module_version": "1.5.0",
      "_model_name": "HBoxModel",
      "_view_count": null,
      "_view_module": "@jupyter-widgets/controls",
      "_view_module_version": "1.5.0",
      "_view_name": "HBoxView",
      "box_style": "",
      "children": [
       "IPY_MODEL_e5f89475c74446fb9e3aa5eca6a60a6b",
       "IPY_MODEL_db3613f920f64c64af07ca2d5a6d820d"
      ],
      "layout": "IPY_MODEL_27be38dee58647e18a200e901504f93c"
     }
    },
    "a522ec5b819949d2ad479000b4a83762": {
     "model_module": "@jupyter-widgets/controls",
     "model_name": "DescriptionStyleModel",
     "state": {
      "_model_module": "@jupyter-widgets/controls",
      "_model_module_version": "1.5.0",
      "_model_name": "DescriptionStyleModel",
      "_view_count": null,
      "_view_module": "@jupyter-widgets/base",
      "_view_module_version": "1.2.0",
      "_view_name": "StyleView",
      "description_width": ""
     }
    },
    "a57ecf5ee6e043458af851dfd2e0b50d": {
     "model_module": "@jupyter-widgets/base",
     "model_name": "LayoutModel",
     "state": {
      "_model_module": "@jupyter-widgets/base",
      "_model_module_version": "1.2.0",
      "_model_name": "LayoutModel",
      "_view_count": null,
      "_view_module": "@jupyter-widgets/base",
      "_view_module_version": "1.2.0",
      "_view_name": "LayoutView",
      "align_content": null,
      "align_items": null,
      "align_self": null,
      "border": null,
      "bottom": null,
      "display": null,
      "flex": null,
      "flex_flow": null,
      "grid_area": null,
      "grid_auto_columns": null,
      "grid_auto_flow": null,
      "grid_auto_rows": null,
      "grid_column": null,
      "grid_gap": null,
      "grid_row": null,
      "grid_template_areas": null,
      "grid_template_columns": null,
      "grid_template_rows": null,
      "height": null,
      "justify_content": null,
      "justify_items": null,
      "left": null,
      "margin": null,
      "max_height": null,
      "max_width": null,
      "min_height": null,
      "min_width": null,
      "object_fit": null,
      "object_position": null,
      "order": null,
      "overflow": null,
      "overflow_x": null,
      "overflow_y": null,
      "padding": null,
      "right": null,
      "top": null,
      "visibility": null,
      "width": null
     }
    },
    "a5a887929f444b6d8e8afc0e27d59e86": {
     "model_module": "@jupyter-widgets/controls",
     "model_name": "HTMLModel",
     "state": {
      "_dom_classes": [],
      "_model_module": "@jupyter-widgets/controls",
      "_model_module_version": "1.5.0",
      "_model_name": "HTMLModel",
      "_view_count": null,
      "_view_module": "@jupyter-widgets/controls",
      "_view_module_version": "1.5.0",
      "_view_name": "HTMLView",
      "description": "",
      "description_tooltip": null,
      "layout": "IPY_MODEL_4bcb701ee45e47d2a7774d0f278e13ea",
      "placeholder": "​",
      "style": "IPY_MODEL_a522ec5b819949d2ad479000b4a83762",
      "value": " 30.3M/? [00:00&lt;00:00, 41.1MB/s]"
     }
    },
    "a7ca77b8de204beea429711b0ce4c5a3": {
     "model_module": "@jupyter-widgets/controls",
     "model_name": "FloatProgressModel",
     "state": {
      "_dom_classes": [],
      "_model_module": "@jupyter-widgets/controls",
      "_model_module_version": "1.5.0",
      "_model_name": "FloatProgressModel",
      "_view_count": null,
      "_view_module": "@jupyter-widgets/controls",
      "_view_module_version": "1.5.0",
      "_view_name": "ProgressView",
      "bar_style": "success",
      "description": "Downloading: ",
      "description_tooltip": null,
      "layout": "IPY_MODEL_db5f7d3f01bd4f8da6b69b435e0c48ef",
      "max": 8116577,
      "min": 0,
      "orientation": "horizontal",
      "style": "IPY_MODEL_fe27722e0a614d4590598f4815b17188",
      "value": 8116577
     }
    },
    "ae210ea515f94c6ab34c1113e823b92d": {
     "model_module": "@jupyter-widgets/controls",
     "model_name": "HBoxModel",
     "state": {
      "_dom_classes": [],
      "_model_module": "@jupyter-widgets/controls",
      "_model_module_version": "1.5.0",
      "_model_name": "HBoxModel",
      "_view_count": null,
      "_view_module": "@jupyter-widgets/controls",
      "_view_module_version": "1.5.0",
      "_view_name": "HBoxView",
      "box_style": "",
      "children": [
       "IPY_MODEL_435d36683bc04e06a971b76129a88ed1",
       "IPY_MODEL_78ae08f5803f4cb29f7f63c2843e9db0"
      ],
      "layout": "IPY_MODEL_86c8850654d54b47a2771cbb1804f5a1"
     }
    },
    "b051786ab97145cbb88627588bbec7d2": {
     "model_module": "@jupyter-widgets/controls",
     "model_name": "HTMLModel",
     "state": {
      "_dom_classes": [],
      "_model_module": "@jupyter-widgets/controls",
      "_model_module_version": "1.5.0",
      "_model_name": "HTMLModel",
      "_view_count": null,
      "_view_module": "@jupyter-widgets/controls",
      "_view_module_version": "1.5.0",
      "_view_name": "HTMLView",
      "description": "",
      "description_tooltip": null,
      "layout": "IPY_MODEL_1aa28417f911424eb9ac87413e4572ee",
      "placeholder": "​",
      "style": "IPY_MODEL_37b19294c7464eb4bd886d966e148219",
      "value": " 1057/1057 [04:15&lt;00:00,  4.14ex/s]"
     }
    },
    "b5b59da922dd45cfa245ffb09899eb1a": {
     "model_module": "@jupyter-widgets/controls",
     "model_name": "DescriptionStyleModel",
     "state": {
      "_model_module": "@jupyter-widgets/controls",
      "_model_module_version": "1.5.0",
      "_model_name": "DescriptionStyleModel",
      "_view_count": null,
      "_view_module": "@jupyter-widgets/base",
      "_view_module_version": "1.2.0",
      "_view_name": "StyleView",
      "description_width": ""
     }
    },
    "bb2180ed0b7641889c0647c58da75307": {
     "model_module": "@jupyter-widgets/controls",
     "model_name": "HBoxModel",
     "state": {
      "_dom_classes": [],
      "_model_module": "@jupyter-widgets/controls",
      "_model_module_version": "1.5.0",
      "_model_name": "HBoxModel",
      "_view_count": null,
      "_view_module": "@jupyter-widgets/controls",
      "_view_module_version": "1.5.0",
      "_view_name": "HBoxView",
      "box_style": "",
      "children": [
       "IPY_MODEL_a7ca77b8de204beea429711b0ce4c5a3",
       "IPY_MODEL_a5a887929f444b6d8e8afc0e27d59e86"
      ],
      "layout": "IPY_MODEL_40427aa5aa2d46f79a3ba1b838632125"
     }
    },
    "bf0744b58344429c95edab0a1f52b232": {
     "model_module": "@jupyter-widgets/base",
     "model_name": "LayoutModel",
     "state": {
      "_model_module": "@jupyter-widgets/base",
      "_model_module_version": "1.2.0",
      "_model_name": "LayoutModel",
      "_view_count": null,
      "_view_module": "@jupyter-widgets/base",
      "_view_module_version": "1.2.0",
      "_view_name": "LayoutView",
      "align_content": null,
      "align_items": null,
      "align_self": null,
      "border": null,
      "bottom": null,
      "display": null,
      "flex": null,
      "flex_flow": null,
      "grid_area": null,
      "grid_auto_columns": null,
      "grid_auto_flow": null,
      "grid_auto_rows": null,
      "grid_column": null,
      "grid_gap": null,
      "grid_row": null,
      "grid_template_areas": null,
      "grid_template_columns": null,
      "grid_template_rows": null,
      "height": null,
      "justify_content": null,
      "justify_items": null,
      "left": null,
      "margin": null,
      "max_height": null,
      "max_width": null,
      "min_height": null,
      "min_width": null,
      "object_fit": null,
      "object_position": null,
      "order": null,
      "overflow": null,
      "overflow_x": null,
      "overflow_y": null,
      "padding": null,
      "right": null,
      "top": null,
      "visibility": null,
      "width": null
     }
    },
    "c20179e39c46450984d47e0dd194228e": {
     "model_module": "@jupyter-widgets/base",
     "model_name": "LayoutModel",
     "state": {
      "_model_module": "@jupyter-widgets/base",
      "_model_module_version": "1.2.0",
      "_model_name": "LayoutModel",
      "_view_count": null,
      "_view_module": "@jupyter-widgets/base",
      "_view_module_version": "1.2.0",
      "_view_name": "LayoutView",
      "align_content": null,
      "align_items": null,
      "align_self": null,
      "border": null,
      "bottom": null,
      "display": null,
      "flex": null,
      "flex_flow": null,
      "grid_area": null,
      "grid_auto_columns": null,
      "grid_auto_flow": null,
      "grid_auto_rows": null,
      "grid_column": null,
      "grid_gap": null,
      "grid_row": null,
      "grid_template_areas": null,
      "grid_template_columns": null,
      "grid_template_rows": null,
      "height": null,
      "justify_content": null,
      "justify_items": null,
      "left": null,
      "margin": null,
      "max_height": null,
      "max_width": null,
      "min_height": null,
      "min_width": null,
      "object_fit": null,
      "object_position": null,
      "order": null,
      "overflow": null,
      "overflow_x": null,
      "overflow_y": null,
      "padding": null,
      "right": null,
      "top": null,
      "visibility": null,
      "width": null
     }
    },
    "cb778df78c63405db22ede23c63f001a": {
     "model_module": "@jupyter-widgets/base",
     "model_name": "LayoutModel",
     "state": {
      "_model_module": "@jupyter-widgets/base",
      "_model_module_version": "1.2.0",
      "_model_name": "LayoutModel",
      "_view_count": null,
      "_view_module": "@jupyter-widgets/base",
      "_view_module_version": "1.2.0",
      "_view_name": "LayoutView",
      "align_content": null,
      "align_items": null,
      "align_self": null,
      "border": null,
      "bottom": null,
      "display": null,
      "flex": null,
      "flex_flow": null,
      "grid_area": null,
      "grid_auto_columns": null,
      "grid_auto_flow": null,
      "grid_auto_rows": null,
      "grid_column": null,
      "grid_gap": null,
      "grid_row": null,
      "grid_template_areas": null,
      "grid_template_columns": null,
      "grid_template_rows": null,
      "height": null,
      "justify_content": null,
      "justify_items": null,
      "left": null,
      "margin": null,
      "max_height": null,
      "max_width": null,
      "min_height": null,
      "min_width": null,
      "object_fit": null,
      "object_position": null,
      "order": null,
      "overflow": null,
      "overflow_x": null,
      "overflow_y": null,
      "padding": null,
      "right": null,
      "top": null,
      "visibility": null,
      "width": null
     }
    },
    "cf940cf9ea3043b5abeb4c851ad23b77": {
     "model_module": "@jupyter-widgets/base",
     "model_name": "LayoutModel",
     "state": {
      "_model_module": "@jupyter-widgets/base",
      "_model_module_version": "1.2.0",
      "_model_name": "LayoutModel",
      "_view_count": null,
      "_view_module": "@jupyter-widgets/base",
      "_view_module_version": "1.2.0",
      "_view_name": "LayoutView",
      "align_content": null,
      "align_items": null,
      "align_self": null,
      "border": null,
      "bottom": null,
      "display": null,
      "flex": null,
      "flex_flow": null,
      "grid_area": null,
      "grid_auto_columns": null,
      "grid_auto_flow": null,
      "grid_auto_rows": null,
      "grid_column": null,
      "grid_gap": null,
      "grid_row": null,
      "grid_template_areas": null,
      "grid_template_columns": null,
      "grid_template_rows": null,
      "height": null,
      "justify_content": null,
      "justify_items": null,
      "left": null,
      "margin": null,
      "max_height": null,
      "max_width": null,
      "min_height": null,
      "min_width": null,
      "object_fit": null,
      "object_position": null,
      "order": null,
      "overflow": null,
      "overflow_x": null,
      "overflow_y": null,
      "padding": null,
      "right": null,
      "top": null,
      "visibility": null,
      "width": null
     }
    },
    "d1cc766d56a24a01aa3deeac91ce6d0e": {
     "model_module": "@jupyter-widgets/controls",
     "model_name": "HBoxModel",
     "state": {
      "_dom_classes": [],
      "_model_module": "@jupyter-widgets/controls",
      "_model_module_version": "1.5.0",
      "_model_name": "HBoxModel",
      "_view_count": null,
      "_view_module": "@jupyter-widgets/controls",
      "_view_module_version": "1.5.0",
      "_view_name": "HBoxView",
      "box_style": "",
      "children": [
       "IPY_MODEL_8f91bd0201994d309f42fc75f2215d9d",
       "IPY_MODEL_6f54a6cb167149b495d8f26594f2ec1a"
      ],
      "layout": "IPY_MODEL_ff267b0bad854b6b9efc489855251db2"
     }
    },
    "d36ba7ada1fa46c492dd364886ee9d08": {
     "model_module": "@jupyter-widgets/base",
     "model_name": "LayoutModel",
     "state": {
      "_model_module": "@jupyter-widgets/base",
      "_model_module_version": "1.2.0",
      "_model_name": "LayoutModel",
      "_view_count": null,
      "_view_module": "@jupyter-widgets/base",
      "_view_module_version": "1.2.0",
      "_view_name": "LayoutView",
      "align_content": null,
      "align_items": null,
      "align_self": null,
      "border": null,
      "bottom": null,
      "display": null,
      "flex": null,
      "flex_flow": null,
      "grid_area": null,
      "grid_auto_columns": null,
      "grid_auto_flow": null,
      "grid_auto_rows": null,
      "grid_column": null,
      "grid_gap": null,
      "grid_row": null,
      "grid_template_areas": null,
      "grid_template_columns": null,
      "grid_template_rows": null,
      "height": null,
      "justify_content": null,
      "justify_items": null,
      "left": null,
      "margin": null,
      "max_height": null,
      "max_width": null,
      "min_height": null,
      "min_width": null,
      "object_fit": null,
      "object_position": null,
      "order": null,
      "overflow": null,
      "overflow_x": null,
      "overflow_y": null,
      "padding": null,
      "right": null,
      "top": null,
      "visibility": null,
      "width": null
     }
    },
    "d46f8f656ea34972a4dd9b7554d62315": {
     "model_module": "@jupyter-widgets/controls",
     "model_name": "DescriptionStyleModel",
     "state": {
      "_model_module": "@jupyter-widgets/controls",
      "_model_module_version": "1.5.0",
      "_model_name": "DescriptionStyleModel",
      "_view_count": null,
      "_view_module": "@jupyter-widgets/base",
      "_view_module_version": "1.2.0",
      "_view_name": "StyleView",
      "description_width": ""
     }
    },
    "db3613f920f64c64af07ca2d5a6d820d": {
     "model_module": "@jupyter-widgets/controls",
     "model_name": "HTMLModel",
     "state": {
      "_dom_classes": [],
      "_model_module": "@jupyter-widgets/controls",
      "_model_module_version": "1.5.0",
      "_model_name": "HTMLModel",
      "_view_count": null,
      "_view_module": "@jupyter-widgets/controls",
      "_view_module_version": "1.5.0",
      "_view_name": "HTMLView",
      "description": "",
      "description_tooltip": null,
      "layout": "IPY_MODEL_6d520d2a14e84304a126671baf9d37a5",
      "placeholder": "​",
      "style": "IPY_MODEL_259b256a410e4727b9153d3f8ecfabdc",
      "value": " 4.85M/? [00:00&lt;00:00, 14.0MB/s]"
     }
    },
    "db5f7d3f01bd4f8da6b69b435e0c48ef": {
     "model_module": "@jupyter-widgets/base",
     "model_name": "LayoutModel",
     "state": {
      "_model_module": "@jupyter-widgets/base",
      "_model_module_version": "1.2.0",
      "_model_name": "LayoutModel",
      "_view_count": null,
      "_view_module": "@jupyter-widgets/base",
      "_view_module_version": "1.2.0",
      "_view_name": "LayoutView",
      "align_content": null,
      "align_items": null,
      "align_self": null,
      "border": null,
      "bottom": null,
      "display": null,
      "flex": null,
      "flex_flow": null,
      "grid_area": null,
      "grid_auto_columns": null,
      "grid_auto_flow": null,
      "grid_auto_rows": null,
      "grid_column": null,
      "grid_gap": null,
      "grid_row": null,
      "grid_template_areas": null,
      "grid_template_columns": null,
      "grid_template_rows": null,
      "height": null,
      "justify_content": null,
      "justify_items": null,
      "left": null,
      "margin": null,
      "max_height": null,
      "max_width": null,
      "min_height": null,
      "min_width": null,
      "object_fit": null,
      "object_position": null,
      "order": null,
      "overflow": null,
      "overflow_x": null,
      "overflow_y": null,
      "padding": null,
      "right": null,
      "top": null,
      "visibility": null,
      "width": null
     }
    },
    "dd1b1bf311c340f393d6400c5925dffb": {
     "model_module": "@jupyter-widgets/controls",
     "model_name": "HTMLModel",
     "state": {
      "_dom_classes": [],
      "_model_module": "@jupyter-widgets/controls",
      "_model_module_version": "1.5.0",
      "_model_name": "HTMLModel",
      "_view_count": null,
      "_view_module": "@jupyter-widgets/controls",
      "_view_module_version": "1.5.0",
      "_view_name": "HTMLView",
      "description": "",
      "description_tooltip": null,
      "layout": "IPY_MODEL_45681ef1b5a84165aa216f48c4873cbb",
      "placeholder": "​",
      "style": "IPY_MODEL_b5b59da922dd45cfa245ffb09899eb1a",
      "value": " 5.06k/? [00:02&lt;00:00, 2.06kB/s]"
     }
    },
    "e1522a45424e45c0b06128fc8a0138a9": {
     "model_module": "@jupyter-widgets/base",
     "model_name": "LayoutModel",
     "state": {
      "_model_module": "@jupyter-widgets/base",
      "_model_module_version": "1.2.0",
      "_model_name": "LayoutModel",
      "_view_count": null,
      "_view_module": "@jupyter-widgets/base",
      "_view_module_version": "1.2.0",
      "_view_name": "LayoutView",
      "align_content": null,
      "align_items": null,
      "align_self": null,
      "border": null,
      "bottom": null,
      "display": null,
      "flex": null,
      "flex_flow": null,
      "grid_area": null,
      "grid_auto_columns": null,
      "grid_auto_flow": null,
      "grid_auto_rows": null,
      "grid_column": null,
      "grid_gap": null,
      "grid_row": null,
      "grid_template_areas": null,
      "grid_template_columns": null,
      "grid_template_rows": null,
      "height": null,
      "justify_content": null,
      "justify_items": null,
      "left": null,
      "margin": null,
      "max_height": null,
      "max_width": null,
      "min_height": null,
      "min_width": null,
      "object_fit": null,
      "object_position": null,
      "order": null,
      "overflow": null,
      "overflow_x": null,
      "overflow_y": null,
      "padding": null,
      "right": null,
      "top": null,
      "visibility": null,
      "width": null
     }
    },
    "e319f183228b4f0dba1140d9cc1573ec": {
     "model_module": "@jupyter-widgets/controls",
     "model_name": "DescriptionStyleModel",
     "state": {
      "_model_module": "@jupyter-widgets/controls",
      "_model_module_version": "1.5.0",
      "_model_name": "DescriptionStyleModel",
      "_view_count": null,
      "_view_module": "@jupyter-widgets/base",
      "_view_module_version": "1.2.0",
      "_view_name": "StyleView",
      "description_width": ""
     }
    },
    "e5f89475c74446fb9e3aa5eca6a60a6b": {
     "model_module": "@jupyter-widgets/controls",
     "model_name": "FloatProgressModel",
     "state": {
      "_dom_classes": [],
      "_model_module": "@jupyter-widgets/controls",
      "_model_module_version": "1.5.0",
      "_model_name": "FloatProgressModel",
      "_view_count": null,
      "_view_module": "@jupyter-widgets/controls",
      "_view_module_version": "1.5.0",
      "_view_name": "ProgressView",
      "bar_style": "success",
      "description": "Downloading: ",
      "description_tooltip": null,
      "layout": "IPY_MODEL_d36ba7ada1fa46c492dd364886ee9d08",
      "max": 1054280,
      "min": 0,
      "orientation": "horizontal",
      "style": "IPY_MODEL_85132276675340b0b94fa09b958957fe",
      "value": 1054280
     }
    },
    "ec53215a263e413eab01f74b66b9bff6": {
     "model_module": "@jupyter-widgets/base",
     "model_name": "LayoutModel",
     "state": {
      "_model_module": "@jupyter-widgets/base",
      "_model_module_version": "1.2.0",
      "_model_name": "LayoutModel",
      "_view_count": null,
      "_view_module": "@jupyter-widgets/base",
      "_view_module_version": "1.2.0",
      "_view_name": "LayoutView",
      "align_content": null,
      "align_items": null,
      "align_self": null,
      "border": null,
      "bottom": null,
      "display": null,
      "flex": null,
      "flex_flow": null,
      "grid_area": null,
      "grid_auto_columns": null,
      "grid_auto_flow": null,
      "grid_auto_rows": null,
      "grid_column": null,
      "grid_gap": null,
      "grid_row": null,
      "grid_template_areas": null,
      "grid_template_columns": null,
      "grid_template_rows": null,
      "height": null,
      "justify_content": null,
      "justify_items": null,
      "left": null,
      "margin": null,
      "max_height": null,
      "max_width": null,
      "min_height": null,
      "min_width": null,
      "object_fit": null,
      "object_position": null,
      "order": null,
      "overflow": null,
      "overflow_x": null,
      "overflow_y": null,
      "padding": null,
      "right": null,
      "top": null,
      "visibility": null,
      "width": null
     }
    },
    "ef7f95dd4f2b4e908e9557232a2def24": {
     "model_module": "@jupyter-widgets/base",
     "model_name": "LayoutModel",
     "state": {
      "_model_module": "@jupyter-widgets/base",
      "_model_module_version": "1.2.0",
      "_model_name": "LayoutModel",
      "_view_count": null,
      "_view_module": "@jupyter-widgets/base",
      "_view_module_version": "1.2.0",
      "_view_name": "LayoutView",
      "align_content": null,
      "align_items": null,
      "align_self": null,
      "border": null,
      "bottom": null,
      "display": null,
      "flex": null,
      "flex_flow": null,
      "grid_area": null,
      "grid_auto_columns": null,
      "grid_auto_flow": null,
      "grid_auto_rows": null,
      "grid_column": null,
      "grid_gap": null,
      "grid_row": null,
      "grid_template_areas": null,
      "grid_template_columns": null,
      "grid_template_rows": null,
      "height": null,
      "justify_content": null,
      "justify_items": null,
      "left": null,
      "margin": null,
      "max_height": null,
      "max_width": null,
      "min_height": null,
      "min_width": null,
      "object_fit": null,
      "object_position": null,
      "order": null,
      "overflow": null,
      "overflow_x": null,
      "overflow_y": null,
      "padding": null,
      "right": null,
      "top": null,
      "visibility": null,
      "width": null
     }
    },
    "f252b203b8d349edb87b0a81209746b2": {
     "model_module": "@jupyter-widgets/base",
     "model_name": "LayoutModel",
     "state": {
      "_model_module": "@jupyter-widgets/base",
      "_model_module_version": "1.2.0",
      "_model_name": "LayoutModel",
      "_view_count": null,
      "_view_module": "@jupyter-widgets/base",
      "_view_module_version": "1.2.0",
      "_view_name": "LayoutView",
      "align_content": null,
      "align_items": null,
      "align_self": null,
      "border": null,
      "bottom": null,
      "display": null,
      "flex": null,
      "flex_flow": null,
      "grid_area": null,
      "grid_auto_columns": null,
      "grid_auto_flow": null,
      "grid_auto_rows": null,
      "grid_column": null,
      "grid_gap": null,
      "grid_row": null,
      "grid_template_areas": null,
      "grid_template_columns": null,
      "grid_template_rows": null,
      "height": null,
      "justify_content": null,
      "justify_items": null,
      "left": null,
      "margin": null,
      "max_height": null,
      "max_width": null,
      "min_height": null,
      "min_width": null,
      "object_fit": null,
      "object_position": null,
      "order": null,
      "overflow": null,
      "overflow_x": null,
      "overflow_y": null,
      "padding": null,
      "right": null,
      "top": null,
      "visibility": null,
      "width": null
     }
    },
    "f38913964ddb4e3eb6fc0cf087ab0f52": {
     "model_module": "@jupyter-widgets/base",
     "model_name": "LayoutModel",
     "state": {
      "_model_module": "@jupyter-widgets/base",
      "_model_module_version": "1.2.0",
      "_model_name": "LayoutModel",
      "_view_count": null,
      "_view_module": "@jupyter-widgets/base",
      "_view_module_version": "1.2.0",
      "_view_name": "LayoutView",
      "align_content": null,
      "align_items": null,
      "align_self": null,
      "border": null,
      "bottom": null,
      "display": null,
      "flex": null,
      "flex_flow": null,
      "grid_area": null,
      "grid_auto_columns": null,
      "grid_auto_flow": null,
      "grid_auto_rows": null,
      "grid_column": null,
      "grid_gap": null,
      "grid_row": null,
      "grid_template_areas": null,
      "grid_template_columns": null,
      "grid_template_rows": null,
      "height": null,
      "justify_content": null,
      "justify_items": null,
      "left": null,
      "margin": null,
      "max_height": null,
      "max_width": null,
      "min_height": null,
      "min_width": null,
      "object_fit": null,
      "object_position": null,
      "order": null,
      "overflow": null,
      "overflow_x": null,
      "overflow_y": null,
      "padding": null,
      "right": null,
      "top": null,
      "visibility": null,
      "width": null
     }
    },
    "f684dcff9d4c4c10b6bb623c02465b14": {
     "model_module": "@jupyter-widgets/base",
     "model_name": "LayoutModel",
     "state": {
      "_model_module": "@jupyter-widgets/base",
      "_model_module_version": "1.2.0",
      "_model_name": "LayoutModel",
      "_view_count": null,
      "_view_module": "@jupyter-widgets/base",
      "_view_module_version": "1.2.0",
      "_view_name": "LayoutView",
      "align_content": null,
      "align_items": null,
      "align_self": null,
      "border": null,
      "bottom": null,
      "display": null,
      "flex": null,
      "flex_flow": null,
      "grid_area": null,
      "grid_auto_columns": null,
      "grid_auto_flow": null,
      "grid_auto_rows": null,
      "grid_column": null,
      "grid_gap": null,
      "grid_row": null,
      "grid_template_areas": null,
      "grid_template_columns": null,
      "grid_template_rows": null,
      "height": null,
      "justify_content": null,
      "justify_items": null,
      "left": null,
      "margin": null,
      "max_height": null,
      "max_width": null,
      "min_height": null,
      "min_width": null,
      "object_fit": null,
      "object_position": null,
      "order": null,
      "overflow": null,
      "overflow_x": null,
      "overflow_y": null,
      "padding": null,
      "right": null,
      "top": null,
      "visibility": null,
      "width": null
     }
    },
    "fe27722e0a614d4590598f4815b17188": {
     "model_module": "@jupyter-widgets/controls",
     "model_name": "ProgressStyleModel",
     "state": {
      "_model_module": "@jupyter-widgets/controls",
      "_model_module_version": "1.5.0",
      "_model_name": "ProgressStyleModel",
      "_view_count": null,
      "_view_module": "@jupyter-widgets/base",
      "_view_module_version": "1.2.0",
      "_view_name": "StyleView",
      "bar_color": null,
      "description_width": "initial"
     }
    },
    "ff267b0bad854b6b9efc489855251db2": {
     "model_module": "@jupyter-widgets/base",
     "model_name": "LayoutModel",
     "state": {
      "_model_module": "@jupyter-widgets/base",
      "_model_module_version": "1.2.0",
      "_model_name": "LayoutModel",
      "_view_count": null,
      "_view_module": "@jupyter-widgets/base",
      "_view_module_version": "1.2.0",
      "_view_name": "LayoutView",
      "align_content": null,
      "align_items": null,
      "align_self": null,
      "border": null,
      "bottom": null,
      "display": null,
      "flex": null,
      "flex_flow": null,
      "grid_area": null,
      "grid_auto_columns": null,
      "grid_auto_flow": null,
      "grid_auto_rows": null,
      "grid_column": null,
      "grid_gap": null,
      "grid_row": null,
      "grid_template_areas": null,
      "grid_template_columns": null,
      "grid_template_rows": null,
      "height": null,
      "justify_content": null,
      "justify_items": null,
      "left": null,
      "margin": null,
      "max_height": null,
      "max_width": null,
      "min_height": null,
      "min_width": null,
      "object_fit": null,
      "object_position": null,
      "order": null,
      "overflow": null,
      "overflow_x": null,
      "overflow_y": null,
      "padding": null,
      "right": null,
      "top": null,
      "visibility": null,
      "width": null
     }
    }
   }
  }
 },
 "nbformat": 4,
 "nbformat_minor": 1
}

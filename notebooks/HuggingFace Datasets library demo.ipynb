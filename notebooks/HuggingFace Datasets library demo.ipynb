{
 "cells": [
  {
   "cell_type": "markdown",
   "metadata": {},
   "source": [
    "# HuggingFace `nlp` library\n",
    "\n",
    "Models come and go (linear models, LSTM, Transformers, ...) but two core elements have consistently been the beating heart of Natural Language Processing: Datasets & Metrics\n",
    "\n",
    "`nlp` is a lightweight and extensible library to easily share and load dataset and evaluation metrics, already providing access to ~100 datasets.\n",
    "\n",
    "With several interesting features:\n",
    "\n",
    "- Get them all: build-in interoperability with PyTorch, Tensorflow 2, Pandas and Numpy\n",
    "- Transparent and pythonic API\n",
    "- Smart caching: never process your data several times with an intelligent `tf.data`-like cache\n",
    "- Strive on large datasets: nlp naturally frees you from RAM memory limits, all datasets are memory-mapped on drive by default.\n",
    "\n",
    "`nlp` originated from a fork of the awesome Tensorflow-Datasets and the HuggingFace team want to deeply thank the team behind this amazing library and user API. We have tried to keep a layer of compatibility with `tfds` and a conversion can provide conversion from one format to the other."
   ]
  },
  {
   "cell_type": "markdown",
   "metadata": {},
   "source": [
    "# Main user API\n",
    "\n",
    "This notebook is a quick dive in the main user API for `nlp`"
   ]
  },
  {
   "cell_type": "code",
   "execution_count": 1,
   "metadata": {},
   "outputs": [],
   "source": [
    "import logging\n",
    "logging.basicConfig(level=logging.INFO)"
   ]
  },
  {
   "cell_type": "code",
   "execution_count": 2,
   "metadata": {},
   "outputs": [
    {
     "name": "stderr",
     "output_type": "stream",
     "text": [
      "INFO:nlp.utils.file_utils:PyTorch version 1.4.0 available.\n",
      "INFO:nlp.utils.file_utils:TensorFlow version 2.1.0 available.\n"
     ]
    }
   ],
   "source": [
    "# Let's import the library\n",
    "import nlp"
   ]
  },
  {
   "cell_type": "markdown",
   "metadata": {},
   "source": [
    "## Listing the currently available datasets and metrics"
   ]
  },
  {
   "cell_type": "code",
   "execution_count": 3,
   "metadata": {},
   "outputs": [
    {
     "name": "stdout",
     "output_type": "stream",
     "text": [
      "🤩 Currently 75 datasets are available on HuggingFace AWS bucket: \n",
      "aeslc\n",
      "ai2_arc\n",
      "anli\n",
      "billsum\n",
      "blimp\n",
      "blog_authorship_corpus\n",
      "boolq\n",
      "break_data\n",
      "cfq\n",
      "civil_comments\n",
      "coarse_discourse\n",
      "com_qa\n",
      "commonsense_qa\n",
      "coqa\n",
      "cornell_movie_dialog\n",
      "cos_e\n",
      "cosmos_qa\n",
      "crime_and_punish\n",
      "definite_pronoun_resolution\n",
      "drop\n",
      "empathetic_dialogues\n",
      "eraser_multi_rc\n",
      "esnli\n",
      "event2Mind\n",
      "flores\n",
      "fquad\n",
      "gap\n",
      "glue\n",
      "hansards\n",
      "hellaswag\n",
      "imdb\n",
      "jeopardy\n",
      "math_dataset\n",
      "mlqa\n",
      "movie_rationales\n",
      "multi_nli\n",
      "multi_nli_mismatch\n",
      "openbookqa\n",
      "opinosis\n",
      "para_crawl\n",
      "qangaroo\n",
      "qasc\n",
      "quarel\n",
      "quartz\n",
      "quoref\n",
      "race\n",
      "scan\n",
      "scicite\n",
      "scifact\n",
      "sciq\n",
      "scitail\n",
      "sentiment140\n",
      "snli\n",
      "squad\n",
      "squad_it\n",
      "squad_v1_pt\n",
      "squad_v2\n",
      "super_glue\n",
      "ted_hrlr\n",
      "ted_multi\n",
      "tiny_shakespeare\n",
      "tydiqa\n",
      "wiki40b\n",
      "wiki_qa\n",
      "wiki_split\n",
      "wikipedia\n",
      "wikitext\n",
      "winogrande\n",
      "wiqa\n",
      "x_stance\n",
      "xcopa\n",
      "xnli\n",
      "xquad\n",
      "xtreme\n",
      "yelp_polarity\n",
      "\n",
      "🤩 Currently 10 metrics are available on HuggingFace AWS bucket: \n",
      "bleu\n",
      "coval\n",
      "gleu\n",
      "glue\n",
      "rouge\n",
      "sacrebleu\n",
      "seqeval\n",
      "squad\n",
      "squad_v2\n",
      "xnli\n"
     ]
    }
   ],
   "source": [
    "# Currently available datasets and metrics\n",
    "datasets = nlp.list_datasets()\n",
    "metrics = nlp.list_metrics()\n",
    "\n",
    "print(f\"🤩 Currently {len(datasets)} datasets are available on HuggingFace AWS bucket: \\n\" \n",
    "      + '\\n'.join(dataset.id for dataset in datasets) + '\\n')\n",
    "print(f\"🤩 Currently {len(metrics)} metrics are available on HuggingFace AWS bucket: \\n\" \n",
    "      + '\\n'.join(metric.id for metric in metrics))"
   ]
  },
  {
   "cell_type": "code",
   "execution_count": 4,
   "metadata": {},
   "outputs": [
    {
     "name": "stdout",
     "output_type": "stream",
     "text": [
      "👉 id: boolq\n",
      "👉 key: nlp/boolq/boolq.py\n",
      "👉 lastModified: 2020-05-13T10:40:19.000Z\n",
      "👉 description: \\\n",
      "BoolQ is a question answering dataset for yes/no questions containing 15942 examples. These questions are naturally \n",
      "occurring ---they are generated in unprompted and unconstrained settings. \n",
      "Each example is a triplet of (question, passage, answer), with the title of the page as optional additional context. \n",
      "The text-pair classification setup is similar to existing natural language inference tasks.\n",
      "👉 citation: \\\n",
      "@inproceedings{clark2019boolq,\n",
      "  title =     {BoolQ: Exploring the Surprising Difficulty of Natural Yes/No Questions},\n",
      "  author =    {Clark, Christopher and Lee, Kenton and Chang, Ming-Wei, and Kwiatkowski, Tom and Collins, Michael, and Toutanova, Kristina},\n",
      "  booktitle = {NAACL},\n",
      "  year =      {2019},\n",
      "}\n",
      "👉 size: 3444\n",
      "👉 etag: \"bf50ccf7a03c3167addb1032f83f883a\"\n",
      "👉 siblings: [{'key': 'nlp/boolq/boolq.py', 'etag': '\"bf50ccf7a03c3167addb1032f83f883a\"', 'lastModified': '2020-05-13T10:40:19.000Z', 'size': 3444, 'rfilename': 'boolq.py'}, {'key': 'nlp/boolq/dummy/0.1.0/dummy_data.zip', 'etag': '\"880a58d1776b049ef92bbe9586bf6744\"', 'lastModified': '2020-05-13T09:09:44.000Z', 'size': 2368, 'rfilename': 'dummy/0.1.0/dummy_data.zip'}, {'key': 'nlp/boolq/urls_checksums/checksums.txt', 'etag': '\"36185c756d1096a707d3ac70090d9037\"', 'lastModified': '2020-05-13T09:09:44.000Z', 'size': 190, 'rfilename': 'urls_checksums/checksums.txt'}]\n"
     ]
    }
   ],
   "source": [
    "# You can read a few attributes of the datasets before loading them (they are python dataclasses)\n",
    "from dataclasses import asdict\n",
    "\n",
    "for key, value in asdict(datasets[6]).items():\n",
    "    print('👉 ' + key + ': ' + str(value))"
   ]
  },
  {
   "cell_type": "markdown",
   "metadata": {},
   "source": [
    "## An example with SQuAD"
   ]
  },
  {
   "cell_type": "code",
   "execution_count": 5,
   "metadata": {},
   "outputs": [
    {
     "name": "stderr",
     "output_type": "stream",
     "text": [
      "INFO:nlp.load:Checking /Users/thomwolf/.cache/huggingface/datasets/ee43d2be6898ebb9c2afefda4455306911d308bcf924d21c975796832cc7c114.f373b0de1570ca81b50bb03bd371604f7979e35de2cfcf2a3b4521d0b3104d9b.py for additional imports.\n",
      "INFO:filelock:Lock 5830637136 acquired on /Users/thomwolf/.cache/huggingface/datasets/ee43d2be6898ebb9c2afefda4455306911d308bcf924d21c975796832cc7c114.f373b0de1570ca81b50bb03bd371604f7979e35de2cfcf2a3b4521d0b3104d9b.py.lock\n",
      "INFO:nlp.load:Found main folder for dataset https://s3.amazonaws.com/datasets.huggingface.co/nlp/squad/squad.py at /Users/thomwolf/Documents/GitHub/datasets/src/nlp/datasets/squad\n",
      "INFO:nlp.load:Found specific version folder for dataset https://s3.amazonaws.com/datasets.huggingface.co/nlp/squad/squad.py at /Users/thomwolf/Documents/GitHub/datasets/src/nlp/datasets/squad/c0327553d80335e3a3283527f64d9778df7ad04ab28f38148d072782712bb670\n",
      "INFO:nlp.load:Found script file from https://s3.amazonaws.com/datasets.huggingface.co/nlp/squad/squad.py to /Users/thomwolf/Documents/GitHub/datasets/src/nlp/datasets/squad/c0327553d80335e3a3283527f64d9778df7ad04ab28f38148d072782712bb670/squad.py\n",
      "INFO:nlp.load:Found checksums file from https://s3.amazonaws.com/datasets.huggingface.co/nlp/squad/urls_checksums/checksums.txt to /Users/thomwolf/Documents/GitHub/datasets/src/nlp/datasets/squad/c0327553d80335e3a3283527f64d9778df7ad04ab28f38148d072782712bb670/urls_checksums/checksums.txt\n",
      "INFO:nlp.load:Found metadata file for dataset https://s3.amazonaws.com/datasets.huggingface.co/nlp/squad/squad.py at /Users/thomwolf/Documents/GitHub/datasets/src/nlp/datasets/squad/c0327553d80335e3a3283527f64d9778df7ad04ab28f38148d072782712bb670/squad.json\n",
      "INFO:filelock:Lock 5830637136 released on /Users/thomwolf/.cache/huggingface/datasets/ee43d2be6898ebb9c2afefda4455306911d308bcf924d21c975796832cc7c114.f373b0de1570ca81b50bb03bd371604f7979e35de2cfcf2a3b4521d0b3104d9b.py.lock\n",
      "INFO:nlp.builder:No config specified, defaulting to first: squad/plain_text\n",
      "INFO:nlp.builder:Overwrite dataset info from restored data version.\n",
      "INFO:nlp.info:Loading Dataset info from /Users/thomwolf/.cache/huggingface/datasets/squad/plain_text/1.0.0\n",
      "INFO:nlp.builder:Reusing dataset squad (/Users/thomwolf/.cache/huggingface/datasets/squad/plain_text/1.0.0)\n",
      "INFO:nlp.builder:Constructing Dataset for split validation[:10%], from /Users/thomwolf/.cache/huggingface/datasets/squad/plain_text/1.0.0\n"
     ]
    }
   ],
   "source": [
    "# Downloading and loading a dataset\n",
    "\n",
    "dataset = nlp.load_dataset('squad', split='validation[:10%]')"
   ]
  },
  {
   "cell_type": "markdown",
   "metadata": {},
   "source": [
    "This call to `nlp.load_dataset()` does the following steps under the hood:\n",
    "\n",
    "1. Download and import in the library the **SQuAD python processing script** from HuggingFace AWS bucket if it's not already stored in the library. You can find the SQuAD processing script [here](https://github.com/huggingface/nlp/tree/master/datasets/squad/squad.py) for instance.\n",
    "\n",
    "   Processing scripts are small python scripts which define the info (citation, description) and format of the dataset and contain the URL to the original SQuAD JSON files and the code to load examples from the original SQuAD JSON files.\n",
    "\n",
    "\n",
    "2. Run the SQuAD python processing script which will:\n",
    "    - **Download the SQuAD dataset** from the original URL (see the script) if it's not already downloaded and cached.\n",
    "    - **Process and cache** all SQuAD in a structured Arrow table for each standard splits stored on the drive.\n",
    "\n",
    "      Arrow table are arbitrarly long tables, typed with types that can be mapped to numpy/pandas/python standard types and can store nested objects. They can be directly access from drive, loaded in RAM or even streamed over the web.\n",
    "    \n",
    "\n",
    "3. Return a **dataset build from the splits** asked by the user (default: all), in the above example we create a dataset with the first 10% of the validation split."
   ]
  },
  {
   "cell_type": "code",
   "execution_count": 6,
   "metadata": {},
   "outputs": [
    {
     "name": "stdout",
     "output_type": "stream",
     "text": [
      "👉 description: Stanford Question Answering Dataset (SQuAD) is a reading comprehension dataset, consisting of questions posed by crowdworkers on a set of Wikipedia articles, where the answer to every question is a segment of text, or span, from the corresponding reading passage, or the question might be unanswerable.\n",
      "\n",
      "👉 citation: @article{2016arXiv160605250R,\n",
      "       author = {{Rajpurkar}, Pranav and {Zhang}, Jian and {Lopyrev},\n",
      "                 Konstantin and {Liang}, Percy},\n",
      "        title = \"{SQuAD: 100,000+ Questions for Machine Comprehension of Text}\",\n",
      "      journal = {arXiv e-prints},\n",
      "         year = 2016,\n",
      "          eid = {arXiv:1606.05250},\n",
      "        pages = {arXiv:1606.05250},\n",
      "archivePrefix = {arXiv},\n",
      "       eprint = {1606.05250},\n",
      "}\n",
      "\n",
      "👉 homepage: https://rajpurkar.github.io/SQuAD-explorer/\n",
      "👉 license: \n",
      "👉 features: {'id': {'dtype': 'string', 'id': None, '_type': 'Value'}, 'title': {'dtype': 'string', 'id': None, '_type': 'Value'}, 'context': {'dtype': 'string', 'id': None, '_type': 'Value'}, 'question': {'dtype': 'string', 'id': None, '_type': 'Value'}, 'answers': {'feature': {'text': {'dtype': 'string', 'id': None, '_type': 'Value'}, 'answer_start': {'dtype': 'int32', 'id': None, '_type': 'Value'}}, 'length': -1, 'id': None, '_type': 'Sequence'}}\n",
      "👉 supervised_keys: None\n",
      "👉 builder_name: squad\n",
      "👉 config_name: plain_text\n",
      "👉 version: {'version_str': '1.0.0', 'description': 'New split API (https://tensorflow.org/datasets/splits)', 'nlp_version_to_prepare': None, 'major': 1, 'minor': 0, 'patch': 0}\n",
      "👉 splits: {'train': {'name': 'train', 'num_bytes': 79426386, 'num_examples': 87599, 'dataset_name': 'squad'}, 'validation': {'name': 'validation', 'num_bytes': 10491883, 'num_examples': 10570, 'dataset_name': 'squad'}}\n",
      "👉 size_in_bytes: 0\n",
      "👉 download_size: 35142551\n",
      "👉 dataset_size: 89918269\n",
      "👉 download_checksums: {'https://rajpurkar.github.io/SQuAD-explorer/dataset/train-v1.1.json': [30288272, '3527663986b8295af4f7fcdff1ba1ff3f72d07d61a20f487cb238a6ef92fd955'], 'https://rajpurkar.github.io/SQuAD-explorer/dataset/dev-v1.1.json': [4854279, '95aa6a52d5d6a735563366753ca50492a658031da74f301ac5238b03966972c9']}\n"
     ]
    }
   ],
   "source": [
    "# Informations on the dataset (description, citation, size, splits, format...)\n",
    "# are provided in `dataset.info` (as a python dataclass)\n",
    "for key, value in asdict(dataset.info).items():\n",
    "    print('👉 ' + key + ': ' + str(value))"
   ]
  },
  {
   "cell_type": "markdown",
   "metadata": {},
   "source": [
    "## Inspecting and using the dataset: elements, slices and columns"
   ]
  },
  {
   "cell_type": "markdown",
   "metadata": {},
   "source": [
    "The returned `Dataset` object is a memory mapped dataset that behave similarly to a normal map-style dataset. It is backed by an Apache Arrow table which allows many interesting features."
   ]
  },
  {
   "cell_type": "code",
   "execution_count": 7,
   "metadata": {},
   "outputs": [
    {
     "name": "stdout",
     "output_type": "stream",
     "text": [
      "Dataset(schema: {'id': 'string', 'title': 'string', 'context': 'string', 'question': 'string', 'answers': 'struct<text: list<item: string>, answer_start: list<item: int32>>'}, num_rows: 1057)\n"
     ]
    }
   ],
   "source": [
    "print(dataset)"
   ]
  },
  {
   "cell_type": "markdown",
   "metadata": {},
   "source": [
    "You can query it's length and get items or slices like you would do normally with a python mapping."
   ]
  },
  {
   "cell_type": "code",
   "execution_count": 8,
   "metadata": {},
   "outputs": [
    {
     "name": "stdout",
     "output_type": "stream",
     "text": [
      "👉Dataset len(dataset): 1057\n",
      "\n",
      "👉First item 'dataset[0]':\n",
      "{'answers': {'answer_start': [177, 177, 177],\n",
      "             'text': ['Denver Broncos', 'Denver Broncos', 'Denver Broncos']},\n",
      " 'context': 'Super Bowl 50 was an American football game to determine the '\n",
      "            'champion of the National Football League (NFL) for the 2015 '\n",
      "            'season. The American Football Conference (AFC) champion Denver '\n",
      "            'Broncos defeated the National Football Conference (NFC) champion '\n",
      "            'Carolina Panthers 24–10 to earn their third Super Bowl title. The '\n",
      "            \"game was played on February 7, 2016, at Levi's Stadium in the San \"\n",
      "            'Francisco Bay Area at Santa Clara, California. As this was the '\n",
      "            '50th Super Bowl, the league emphasized the \"golden anniversary\" '\n",
      "            'with various gold-themed initiatives, as well as temporarily '\n",
      "            'suspending the tradition of naming each Super Bowl game with '\n",
      "            'Roman numerals (under which the game would have been known as '\n",
      "            '\"Super Bowl L\"), so that the logo could prominently feature the '\n",
      "            'Arabic numerals 50.',\n",
      " 'id': '56be4db0acb8001400a502ec',\n",
      " 'question': 'Which NFL team represented the AFC at Super Bowl 50?',\n",
      " 'title': 'Super_Bowl_50'}\n",
      "\n",
      "👉Slice of the first two items 'dataset[:2]':\n",
      "{'answers': [{'answer_start': [177, 177, 177],\n",
      "              'text': ['Denver Broncos', 'Denver Broncos', 'Denver Broncos']},\n",
      "             {'answer_start': [249, 249, 249],\n",
      "              'text': ['Carolina Panthers',\n",
      "                       'Carolina Panthers',\n",
      "                       'Carolina Panthers']}],\n",
      " 'context': ['Super Bowl 50 was an American football game to determine the '\n",
      "             'champion of the National Football League (NFL) for the 2015 '\n",
      "             'season. The American Football Conference (AFC) champion Denver '\n",
      "             'Broncos defeated the National Football Conference (NFC) champion '\n",
      "             'Carolina Panthers 24–10 to earn their third Super Bowl title. '\n",
      "             \"The game was played on February 7, 2016, at Levi's Stadium in \"\n",
      "             'the San Francisco Bay Area at Santa Clara, California. As this '\n",
      "             'was the 50th Super Bowl, the league emphasized the \"golden '\n",
      "             'anniversary\" with various gold-themed initiatives, as well as '\n",
      "             'temporarily suspending the tradition of naming each Super Bowl '\n",
      "             'game with Roman numerals (under which the game would have been '\n",
      "             'known as \"Super Bowl L\"), so that the logo could prominently '\n",
      "             'feature the Arabic numerals 50.',\n",
      "             'Super Bowl 50 was an American football game to determine the '\n",
      "             'champion of the National Football League (NFL) for the 2015 '\n",
      "             'season. The American Football Conference (AFC) champion Denver '\n",
      "             'Broncos defeated the National Football Conference (NFC) champion '\n",
      "             'Carolina Panthers 24–10 to earn their third Super Bowl title. '\n",
      "             \"The game was played on February 7, 2016, at Levi's Stadium in \"\n",
      "             'the San Francisco Bay Area at Santa Clara, California. As this '\n",
      "             'was the 50th Super Bowl, the league emphasized the \"golden '\n",
      "             'anniversary\" with various gold-themed initiatives, as well as '\n",
      "             'temporarily suspending the tradition of naming each Super Bowl '\n",
      "             'game with Roman numerals (under which the game would have been '\n",
      "             'known as \"Super Bowl L\"), so that the logo could prominently '\n",
      "             'feature the Arabic numerals 50.'],\n",
      " 'id': ['56be4db0acb8001400a502ec', '56be4db0acb8001400a502ed'],\n",
      " 'question': ['Which NFL team represented the AFC at Super Bowl 50?',\n",
      "              'Which NFL team represented the NFC at Super Bowl 50?'],\n",
      " 'title': ['Super_Bowl_50', 'Super_Bowl_50']}\n"
     ]
    }
   ],
   "source": [
    "from pprint import pprint\n",
    "\n",
    "print(f\"👉Dataset len(dataset): {len(dataset)}\")\n",
    "print(\"\\n👉First item 'dataset[0]':\")\n",
    "pprint(dataset[0])\n",
    "print(\"\\n👉Slice of the first two items 'dataset[:2]':\")\n",
    "pprint(dataset[:2])"
   ]
  },
  {
   "cell_type": "markdown",
   "metadata": {},
   "source": [
    "You can get a full column of the dataset by indexing with its name as a string:"
   ]
  },
  {
   "cell_type": "code",
   "execution_count": 9,
   "metadata": {},
   "outputs": [
    {
     "name": "stdout",
     "output_type": "stream",
     "text": [
      "['Which NFL team represented the AFC at Super Bowl 50?', 'Which NFL team represented the NFC at Super Bowl 50?', 'Where did Super Bowl 50 take place?', 'Which NFL team won Super Bowl 50?', 'What color was used to emphasize the 50th anniversary of the Super Bowl?', 'What was the theme of Super Bowl 50?', 'What day was the game played on?', 'What is the AFC short for?', 'What was the theme of Super Bowl 50?', 'What does AFC stand for?']\n"
     ]
    }
   ],
   "source": [
    "print(dataset['question'][:10])"
   ]
  },
  {
   "cell_type": "markdown",
   "metadata": {},
   "source": [
    "The `__getitem__` method will return different format depending on the type of query:\n",
    "\n",
    "- Items like `dataset[0]` are returned as dict of element.\n",
    "- Slices like `dataset[10:20]` are returned as dict of lists of elements.\n",
    "- Columns like `dataset['question']` are returned as a list.\n",
    "\n",
    "This may seems surprising at first but in our experiments it's actually a lot easier to use for data processing that returning always the same format."
   ]
  },
  {
   "cell_type": "markdown",
   "metadata": {},
   "source": [
    "In particular, you can easily iterate along slices and also naturally permute slice, index and columns indexings with identical results:"
   ]
  },
  {
   "cell_type": "code",
   "execution_count": 10,
   "metadata": {},
   "outputs": [
    {
     "name": "stdout",
     "output_type": "stream",
     "text": [
      "True\n",
      "True\n"
     ]
    }
   ],
   "source": [
    "print(dataset[0]['question'] == dataset['question'][0])\n",
    "print(dataset[10:20]['context'] == dataset['context'][10:20])"
   ]
  },
  {
   "cell_type": "markdown",
   "metadata": {},
   "source": [
    "### Typing\n",
    "\n",
    "The dataset is backed by an Apache Arrow table which is typed and allows for fast retrieval and acces as well as arbitrary size memory mapping. This means respectively taht the format for the dataset is clearly defined and that you can load datasets of arbitrary size without worrying about RAM memory limitation."
   ]
  },
  {
   "cell_type": "code",
   "execution_count": 11,
   "metadata": {},
   "outputs": [
    {
     "name": "stdout",
     "output_type": "stream",
     "text": [
      "['id', 'title', 'context', 'question', 'answers']\n",
      "id: string not null\n",
      "title: string not null\n",
      "context: string not null\n",
      "question: string not null\n",
      "answers: struct<text: list<item: string>, answer_start: list<item: int32>> not null\n",
      "  child 0, text: list<item: string>\n",
      "      child 0, item: string\n",
      "  child 1, answer_start: list<item: int32>\n",
      "      child 0, item: int32\n"
     ]
    }
   ],
   "source": [
    "# You can inspect the dataset column names and type \n",
    "print(dataset.column_names)\n",
    "print(dataset.schema)"
   ]
  },
  {
   "cell_type": "markdown",
   "metadata": {},
   "source": [
    "### Additional misc properties"
   ]
  },
  {
   "cell_type": "code",
   "execution_count": 12,
   "metadata": {},
   "outputs": [
    {
     "name": "stdout",
     "output_type": "stream",
     "text": [
      "The number of bytes allocated on the drive is  10472672\n",
      "For comparison, here is the number of bytes allocated in memory which can be\n",
      "accessed with `nlp.total_allocated_bytes()`:  0\n",
      "The number of rows 1057\n",
      "The number of columns 5\n",
      "The shape (rows, columns) (1057, 5)\n"
     ]
    }
   ],
   "source": [
    "# Datasets also have a bunch of properties you can access\n",
    "print(\"The number of bytes allocated on the drive is \", dataset.nbytes)\n",
    "print(\"For comparison, here is the number of bytes allocated in memory which can be\")\n",
    "print(\"accessed with `nlp.total_allocated_bytes()`: \", nlp.total_allocated_bytes())\n",
    "print(\"The number of rows\", dataset.num_rows)\n",
    "print(\"The number of columns\", dataset.num_columns)\n",
    "print(\"The shape (rows, columns)\", dataset.shape)"
   ]
  },
  {
   "cell_type": "markdown",
   "metadata": {},
   "source": [
    "### Additional misc methods"
   ]
  },
  {
   "cell_type": "code",
   "execution_count": 13,
   "metadata": {},
   "outputs": [
    {
     "name": "stdout",
     "output_type": "stream",
     "text": [
      "dataset.unique('title'): ['Super_Bowl_50', 'Warsaw']\n",
      "After dataset.drop('id'), remaining columns are ['title', 'context', 'question', 'answers']\n",
      "After dataset.flatten(), column names are ['title', 'context', 'question', 'answers.text', 'answers.answer_start']\n"
     ]
    }
   ],
   "source": [
    "# We can list the unique elements in a column. This is done by the backend (so fast!)\n",
    "print(f\"dataset.unique('title'): {dataset.unique('title')}\")\n",
    "\n",
    "# This will drop the column 'id'\n",
    "dataset.drop('id')  # Remove column 'id'\n",
    "print(f\"After dataset.drop('id'), remaining columns are {dataset.column_names}\")\n",
    "\n",
    "# This will flatten the nested columns in 'answers'\n",
    "dataset.flatten()\n",
    "print(f\"After dataset.flatten(), column names are {dataset.column_names}\")\n",
    "\n",
    "# We can also \"dictionnary encode\" a column if many of it's elements are similar\n",
    "# This will reduce it's size by only storing the distinct elements (e.g. string)\n",
    "# It only has effect on the internal storage (no difference from a user point of view)\n",
    "dataset.dictionary_encode_column('title')"
   ]
  },
  {
   "cell_type": "markdown",
   "metadata": {},
   "source": [
    "## Cache\n",
    "\n",
    "`nlp` datasets are backed by Apache Arrow cache files which allows:\n",
    "- to load arbitrary large datasets by using [memory mapping](https://en.wikipedia.org/wiki/Memory-mapped_file) (as long as the datasets can fit on the drive)\n",
    "- to use a fast backend to process the dataset efficiently\n",
    "- to do smart caching by storing and reusing the results of operations performed on the drive\n",
    "\n",
    "Let's dive a bit in these parts now"
   ]
  },
  {
   "cell_type": "markdown",
   "metadata": {},
   "source": [
    "You can check the current cache files backing the dataset with the `.cache_file` property"
   ]
  },
  {
   "cell_type": "code",
   "execution_count": 14,
   "metadata": {},
   "outputs": [
    {
     "data": {
      "text/plain": [
       "({'filename': '/Users/thomwolf/.cache/huggingface/datasets/squad/plain_text/1.0.0/squad-validation.arrow',\n",
       "  'skip': 0,\n",
       "  'take': 1057},)"
      ]
     },
     "execution_count": 14,
     "metadata": {},
     "output_type": "execute_result"
    }
   ],
   "source": [
    "dataset.cache_files"
   ]
  },
  {
   "cell_type": "markdown",
   "metadata": {},
   "source": [
    "You can clean up the cache files for in the current dataset directory with the `.cleanup_cache_files()`.\n",
    "\n",
    "Be careful that no other process is using these cache files when running this command."
   ]
  },
  {
   "cell_type": "code",
   "execution_count": 15,
   "metadata": {},
   "outputs": [
    {
     "name": "stderr",
     "output_type": "stream",
     "text": [
      "INFO:nlp.arrow_dataset:Listing files in /Users/thomwolf/.cache/huggingface/datasets/squad/plain_text/1.0.0\n",
      "INFO:nlp.arrow_dataset:Removing /Users/thomwolf/.cache/huggingface/datasets/squad/plain_text/1.0.0/cache-0be0bac8de2ddc42bcc650f62286e93a.arrow\n",
      "INFO:nlp.arrow_dataset:Removing /Users/thomwolf/.cache/huggingface/datasets/squad/plain_text/1.0.0/cache-b5fef4a553eb27e130e299608150b28a.arrow\n",
      "INFO:nlp.arrow_dataset:Removing /Users/thomwolf/.cache/huggingface/datasets/squad/plain_text/1.0.0/cache-ce21fee997fe18970e541e2abf4e938f.arrow\n",
      "INFO:nlp.arrow_dataset:Removing /Users/thomwolf/.cache/huggingface/datasets/squad/plain_text/1.0.0/cache-ca7a1d9079c4c5bcb746ee34fb9587b6.arrow\n",
      "INFO:nlp.arrow_dataset:Removing /Users/thomwolf/.cache/huggingface/datasets/squad/plain_text/1.0.0/cache-522d9b9a4a2809ce238350c7bff6e151.arrow\n",
      "INFO:nlp.arrow_dataset:Removing /Users/thomwolf/.cache/huggingface/datasets/squad/plain_text/1.0.0/cache-22f66fb97029056f964fa6c0093271ff.arrow\n",
      "INFO:nlp.arrow_dataset:Removing /Users/thomwolf/.cache/huggingface/datasets/squad/plain_text/1.0.0/cache-400648306eb35b5141fc5835ed050f81.arrow\n",
      "INFO:nlp.arrow_dataset:Removing /Users/thomwolf/.cache/huggingface/datasets/squad/plain_text/1.0.0/cache-d99267fa77c05190a9cefa70b7a33564.arrow\n"
     ]
    },
    {
     "data": {
      "text/plain": [
       "8"
      ]
     },
     "execution_count": 15,
     "metadata": {},
     "output_type": "execute_result"
    }
   ],
   "source": [
    "dataset.cleanup_cache_files()  # Returns the number of removed cache files"
   ]
  },
  {
   "cell_type": "markdown",
   "metadata": {},
   "source": [
    "## Modifying the dataset with `dataset.map`\n",
    "\n",
    "There is a powerful method `.map()` that you can use to apply a function to each examples, independantly or in batch."
   ]
  },
  {
   "cell_type": "code",
   "execution_count": 16,
   "metadata": {},
   "outputs": [
    {
     "name": "stderr",
     "output_type": "stream",
     "text": [
      "\r",
      "0it [00:00, ?it/s]"
     ]
    },
    {
     "name": "stdout",
     "output_type": "stream",
     "text": [
      "775,775,775,775,775,775,775,775,775,775,775,775,775,775,775,775,775,775,775,775,775,775,775,775,775,775,775,775,775,775,775,775,637,637,637,637,637,637,637,637,637,637,637,637,637,637,637,637,637,637,637,637,637,637,637,637,637,347,347,347,347,347,347,347,347,347,347,347,347,347,347,347,347,347,347,347,347,347,347,347,347,347,394,394,394,394,394,394,394,394,394,394,394,394,394,394,394,394,394,394,394,394,394,394,394,394,394,394,179,179,179,179,179,179,179,179,179,179,179,168,168,168,168,168,168,168,168,168,168,168,168,168,168,168,168,168,638,638,638,638,638,638,638,638,638,638,638,638,638,638,638,638,638,638,638,638,638,326,326,326,326,326,326,326,326,326,326,326,326,326,326,326,326,326,326,326,326,326,326,326,704,704,704,704,704,704,704,704,704,704,704,704,704,704,704,704,704,704,917,917,917,917,917,917,917,917,917,917,917,917,917,917,917,917,917,917,917,917,1271,1271,1271,1271,1271,1271,1271,1271,1271,1271,1271,1271,1271,1271,1271,1271,1271,1271,1271,1271,1166,1166,1166,1166,1166,1166,1166,1166,1166,1166,1166,1166,1166,1166,2060,2060,2060,2060,2060,2060,2060,2060,2060,2060,2060,2060,2060,2060,2060,2060,2060,2060,2060,2060,929,929,929,929,929,929,929,929,929,929,929,929,929,929,929,929,929,929,929,704,704,704,704,704,704,704,704,704,704,704,704,704,704,353,353,353,353,353,353,353,353,353,353,353,353,353,353,353,464,464,464,464,464,464,464,464,464,464,464,464,464,464,464,464,306,306,306,306,306,306,306,306,306,306,306,306,372,372,372,372,372,372,372,372,372,372,372,372,372,372,372,372,372,496,496,496,496,496,496,496,496,496,496,496,496,496,496,496,260,260,260,260,260,260,260,260,260,874,874,874,874,874,874,874,874,874,874,874,874,874,874,1025,1025,1025,1025,1025,1025,1025,1025,1025,1025,1025,1025,1025,1025,1025,176,176,176,176,176,176,176,176,176,176,176,176,176,176,176,176,782,782,782,782,782,782,782,782,782,782,782,782,782,782,782,782,536,536,536,536,536,536,536,536,536,666,666,666,666,666,666,666,666,666,666,666,666,666,666,666,666,666,495,495,495,495,495,495,495,495,495,495,495,385,385,385,385,385,385,385,385,385,385,385,385,385,385,385,385,385,385,385,441,441,441,441,441,441,441,441,441,441,441,357,357,357,357,357,357,357,357,357,296,296,296,296,296,296,296,296,296,296,644,644,644,644,644,644,644,644,644,644,644,644,644,644,644,644,644,804,804,804,804,804,804,804,804,804,804,804,397,397,397,397,397,397,397,397,397,397,397,397,397,397,360,360,360,360,360,360,360,973,973,973,973,973,973,973,973,973,973,973,973,973,973,263,263,263,263,263,263,263,263,263,263,263,568,568,568,568,568,568,568,568,568,568,568,264,264,264,264,264,264,264,264,264,264,264,264,264,264,264,892,892,892,892,892,892,892,892,892,892,892,206,206,206,206,206,489,489,489,489,489,489,489,489,489,489,489,489,489,181,181,181,181,181,181,181,181,181,181,181,181,531,531,531,531,531,531,531,531,531,531,531,531,664,664,664,664,664,664,664,664,664,664,664,664,664,664,672,672,672,672,672,672,672,672,672,672,672,672,672,672,858,858,858,858,858,858,858,858,858,858,858,858,634,634,634,634,634,634,634,634,634,634,634,634,634,634,891,891,891,891,891,891,891,891,891,891,891,891,891,488,488,488,488,488,488,488,488,488,488,488,488,942,942,942,942,942,942,942,942,942,942,942,942,942,942,942,1162,1162,1162,1162,1162,1162,1162,1162,1162,1162,1162,1162,1162,1162,1162,1353,1353,1353,1353,1353,1353,1353,1353,1353,1353,1353,1353,1353,1353,522,522,522,522,522,1643,1643,1643,1643,1643,628,628,628,628,628,758,758,758,758,758,883,883,883,883,883,559,559,559,559,559,603,603,603,603,631,631,631,631,631,626,626,626,626,626,541,541,541,541,541,795,795,795,795,795,591,591,591,591,591,568,568,568,568,568,536,536,536,536,536,575,575,575,575,575,571,571,571,571,571,641,641,641,641,641,665,665,665,665,665,1088,1088,1088,1088,1088,1619,1619,1619,1619,1619,939,939,939,939,939,865,865,865,865,865,711,711,711,711,711,831,831,831,831,831,501,501,501,501,501,676,676,676,676,676,854,854,854,854,854,784,784,784,784,784,641,641,641,641,641,544,544,544,544,544,918,918,918,918,918,763,763,763,763,763,906,906,906,906,906,632,632,632,632,632,869,869,869,869,869,1044,1044,1044,1044,1044,760,760,760,760,760,715,715,715"
     ]
    },
    {
     "name": "stderr",
     "output_type": "stream",
     "text": [
      "\r",
      "1057it [00:00, 11478.54it/s]"
     ]
    },
    {
     "name": "stdout",
     "output_type": "stream",
     "text": [
      ",715,715,838,838,838,838,838,881,881,881,881,881,940,940,940,940,940,618,618,618,618,618,1205,1205,1205,534,534,534,534,534,757,757,757,757,757,1239,1239,1239,1239,1239,609,609,609,609,609,798,798,798,798,798,613,613,613,613,613,613,613,613,613,613,"
     ]
    },
    {
     "name": "stderr",
     "output_type": "stream",
     "text": [
      "\n"
     ]
    },
    {
     "data": {
      "text/plain": [
       "Dataset(schema: {'title': 'string', 'context': 'string', 'question': 'string', 'answers.text': 'list<item: string>', 'answers.answer_start': 'list<item: int32>'}, num_rows: 1057)"
      ]
     },
     "execution_count": 16,
     "metadata": {},
     "output_type": "execute_result"
    }
   ],
   "source": [
    "# `.map()` takes a callable accepting a dict as argument\n",
    "# (same dict as returned by dataset[i])\n",
    "# and iterate over the dataset by calling the function with each example.\n",
    "\n",
    "# Let's print the length of each `context` string in our subset of the dataset\n",
    "# (10% of the validation i.e. 1057 examples)\n",
    "\n",
    "dataset.map(lambda example: print(len(example['context']), end=','))"
   ]
  },
  {
   "cell_type": "markdown",
   "metadata": {},
   "source": [
    "This is basically the same as doing\n",
    "\n",
    "```python\n",
    "for example in dataset:\n",
    "    function(example)\n",
    "```"
   ]
  },
  {
   "cell_type": "markdown",
   "metadata": {},
   "source": [
    "The above example had no effect on the dataset because the method we supplied to `.map()` didn't return a `dict` or a `abc.Mapping` that could be used to update the examples in the dataset.\n",
    "\n",
    "In such a case, `.map()` will return the same dataset (`self`).\n",
    "\n",
    "Now let's see how we can use a method that actually modify the dataset."
   ]
  },
  {
   "cell_type": "markdown",
   "metadata": {},
   "source": [
    "### Modifying the dataset example by example"
   ]
  },
  {
   "cell_type": "markdown",
   "metadata": {},
   "source": [
    "The main interest of `.map()` is to update and modify the content of the table and leverage smart caching and fast backend.\n",
    "\n",
    "To use `.map()` to update elements in the table you need to provide a methode with the following signature: `function(example: dict) -> dict`."
   ]
  },
  {
   "cell_type": "code",
   "execution_count": 17,
   "metadata": {},
   "outputs": [
    {
     "name": "stderr",
     "output_type": "stream",
     "text": [
      "INFO:nlp.arrow_dataset:Caching processed dataset at /Users/thomwolf/.cache/huggingface/datasets/squad/plain_text/1.0.0/cache-d99267fa77c05190a9cefa70b7a33564.arrow\n",
      "1057it [00:00, 26497.84it/s]\n",
      "INFO:nlp.arrow_writer:Done writing 1057 examples in 906626 bytes /Users/thomwolf/.cache/huggingface/datasets/squad/plain_text/1.0.0/cache-d99267fa77c05190a9cefa70b7a33564.arrow.\n"
     ]
    },
    {
     "name": "stdout",
     "output_type": "stream",
     "text": [
      "['My cute title: Super_Bowl_50', 'My cute title: Warsaw']\n"
     ]
    }
   ],
   "source": [
    "# Let's add a prefix 'My cute title: ' to each of our titles\n",
    "\n",
    "def add_prefix_to_title(example):\n",
    "    example['title'] = 'My cute title: ' + example['title']\n",
    "    return example\n",
    "\n",
    "dataset = dataset.map(add_prefix_to_title)\n",
    "\n",
    "print(dataset.unique('title'))"
   ]
  },
  {
   "cell_type": "markdown",
   "metadata": {},
   "source": [
    "This call to `.map()` compute and return the updated table. It will also store the updated table in a cache file indexed by the current state and the mapped function.\n",
    "\n",
    "A subsequent call to `.map()` (even in another python session) will reuse the cached file instead of recomputing the operation.\n",
    "\n",
    "You can test this by running again the previous cell, you will see that the result are directly loaded from the cache and not re-computed again.\n",
    "\n",
    "The updated dataset returned by `.map()` is (again) directly memory mapped from drive and not allocated in RAM."
   ]
  },
  {
   "cell_type": "markdown",
   "metadata": {},
   "source": [
    "The methode you provide to `.map()` should accept an input with the format of an item of the dataset: `function(dataset[0])` and return a python dict.\n",
    "\n",
    "The columns and type of the outputs can be different than the input dict. In this case the new keys will be added as additional columns in the dataset.\n",
    "\n",
    "The example is `updated()` with the output dictionary: `examples.update(function(example))`."
   ]
  },
  {
   "cell_type": "code",
   "execution_count": 18,
   "metadata": {},
   "outputs": [
    {
     "name": "stderr",
     "output_type": "stream",
     "text": [
      "INFO:nlp.arrow_dataset:Caching processed dataset at /Users/thomwolf/.cache/huggingface/datasets/squad/plain_text/1.0.0/cache-b5fef4a553eb27e130e299608150b28a.arrow\n",
      "1057it [00:00, 25758.39it/s]\n",
      "INFO:nlp.arrow_writer:Done writing 1057 examples in 924595 bytes /Users/thomwolf/.cache/huggingface/datasets/squad/plain_text/1.0.0/cache-b5fef4a553eb27e130e299608150b28a.arrow.\n"
     ]
    },
    {
     "name": "stdout",
     "output_type": "stream",
     "text": [
      "['My cutest title: My cute title: Super_Bowl_50', 'My cutest title: My cute title: Warsaw']\n"
     ]
    }
   ],
   "source": [
    "# Since the input example is updated with our function output,\n",
    "# we can actually just return the updated 'title' field\n",
    "dataset = dataset.map(lambda example: {'title': 'My cutest title: ' + example['title']})\n",
    "\n",
    "print(dataset.unique('title'))"
   ]
  },
  {
   "cell_type": "markdown",
   "metadata": {},
   "source": [
    "#### Removing columns\n",
    "You can also remove columns when running map with the `remove_columns=List[str]` argument."
   ]
  },
  {
   "cell_type": "code",
   "execution_count": 19,
   "metadata": {},
   "outputs": [
    {
     "name": "stderr",
     "output_type": "stream",
     "text": [
      "INFO:nlp.arrow_dataset:Caching processed dataset at /Users/thomwolf/.cache/huggingface/datasets/squad/plain_text/1.0.0/cache-ca7a1d9079c4c5bcb746ee34fb9587b6.arrow\n",
      "1057it [00:00, 24044.66it/s]\n",
      "INFO:nlp.arrow_writer:Done writing 1057 examples in 934108 bytes /Users/thomwolf/.cache/huggingface/datasets/squad/plain_text/1.0.0/cache-ca7a1d9079c4c5bcb746ee34fb9587b6.arrow.\n"
     ]
    },
    {
     "name": "stdout",
     "output_type": "stream",
     "text": [
      "['context', 'question', 'answers.text', 'answers.answer_start', 'new_title']\n",
      "['Wouhahh: My cutest title: My cute title: Super_Bowl_50', 'Wouhahh: My cutest title: My cute title: Warsaw']\n"
     ]
    }
   ],
   "source": [
    "# This will select the 'title' input to send to our function (as only field in the input)\n",
    "# and replace it with the output of the method as a 'new_title' field\n",
    "dataset = dataset.map(lambda example: {'new_title': 'Wouhahh: ' + example['title']},\n",
    "                     remove_columns=['title'])\n",
    "\n",
    "print(dataset.column_names)\n",
    "print(dataset.unique('new_title'))"
   ]
  },
  {
   "cell_type": "markdown",
   "metadata": {},
   "source": [
    "#### Using examples indices\n",
    "With `with_indices=True`, dataset indices (from `0` to `len(dataset)`) will be supplied to the function which must thus have the following signature: `function(example: dict, indice: int) -> dict`"
   ]
  },
  {
   "cell_type": "code",
   "execution_count": 20,
   "metadata": {},
   "outputs": [
    {
     "name": "stderr",
     "output_type": "stream",
     "text": [
      "INFO:nlp.arrow_dataset:Caching processed dataset at /Users/thomwolf/.cache/huggingface/datasets/squad/plain_text/1.0.0/cache-0be0bac8de2ddc42bcc650f62286e93a.arrow\n",
      "1057it [00:00, 24633.58it/s]\n",
      "INFO:nlp.arrow_writer:Done writing 1057 examples in 939340 bytes /Users/thomwolf/.cache/huggingface/datasets/squad/plain_text/1.0.0/cache-0be0bac8de2ddc42bcc650f62286e93a.arrow.\n"
     ]
    },
    {
     "name": "stdout",
     "output_type": "stream",
     "text": [
      "0: Which NFL team represented the AFC at Super Bowl 50?\n",
      "1: Which NFL team represented the NFC at Super Bowl 50?\n",
      "2: Where did Super Bowl 50 take place?\n",
      "3: Which NFL team won Super Bowl 50?\n",
      "4: What color was used to emphasize the 50th anniversary of the Super Bowl?\n"
     ]
    }
   ],
   "source": [
    "# This will add the index in the dataset to the 'question' field\n",
    "dataset = dataset.map(lambda example, idx: {'question': f'{idx}: ' + example['question']},\n",
    "                      with_indices=True)\n",
    "\n",
    "print('\\n'.join(dataset['question'][:5]))"
   ]
  },
  {
   "cell_type": "markdown",
   "metadata": {},
   "source": [
    "### Modifying the dataset with batched updates"
   ]
  },
  {
   "cell_type": "markdown",
   "metadata": {},
   "source": [
    "`.map()` can also work with batch of examples (slices of the dataset).\n",
    "\n",
    "This is particularly interesting if you have a function that can handle batch of inputs like the tokenizers of HuggingFace `tokenizers`.\n",
    "\n",
    "To work on batched inputs set `batched=True` when calling `.map()` and supply a function with the following signature: `function(examples: Dict[List]) -> Dict[List]` or, if you use indices, `function(examples: Dict[List], indices: List[int]) -> Dict[List]`).\n",
    "\n",
    "Your function should accept an input with the format of a slice of the dataset: e.g. `function(dataset[:10])`."
   ]
  },
  {
   "cell_type": "code",
   "execution_count": 21,
   "metadata": {},
   "outputs": [
    {
     "name": "stderr",
     "output_type": "stream",
     "text": [
      "INFO:transformers.file_utils:PyTorch version 1.4.0 available.\n",
      "INFO:transformers.file_utils:TensorFlow version 2.1.0 available.\n",
      "INFO:transformers.tokenization_utils:loading file https://s3.amazonaws.com/models.huggingface.co/bert/bert-base-cased-vocab.txt from cache at /Users/thomwolf/.cache/torch/transformers/5e8a2b4893d13790ed4150ca1906be5f7a03d6c4ddf62296c383f6db42814db2.e13dbb970cb325137104fb2e5f36fe865f27746c6b526f6352861b1980eb80b1\n"
     ]
    }
   ],
   "source": [
    "# Let's import a fast tokenizer that can work on batched inputs\n",
    "# (the 'Fast' tokenizers in HuggingFace)\n",
    "from transformers import BertTokenizerFast\n",
    "\n",
    "tokenizer = BertTokenizerFast.from_pretrained('bert-base-cased')"
   ]
  },
  {
   "cell_type": "code",
   "execution_count": 22,
   "metadata": {},
   "outputs": [
    {
     "name": "stderr",
     "output_type": "stream",
     "text": [
      "INFO:nlp.arrow_dataset:Caching processed dataset at /Users/thomwolf/.cache/huggingface/datasets/squad/plain_text/1.0.0/cache-522d9b9a4a2809ce238350c7bff6e151.arrow\n",
      "100%|██████████| 2/2 [00:00<00:00, 22.66it/s]\n",
      "INFO:nlp.arrow_writer:Done writing 1057 examples in 4810488 bytes /Users/thomwolf/.cache/huggingface/datasets/squad/plain_text/1.0.0/cache-522d9b9a4a2809ce238350c7bff6e151.arrow.\n"
     ]
    },
    {
     "name": "stdout",
     "output_type": "stream",
     "text": [
      "dataset[0] {'context': 'Super Bowl 50 was an American football game to determine the champion of the National Football League (NFL) for the 2015 season. The American Football Conference (AFC) champion Denver Broncos defeated the National Football Conference (NFC) champion Carolina Panthers 24–10 to earn their third Super Bowl title. The game was played on February 7, 2016, at Levi\\'s Stadium in the San Francisco Bay Area at Santa Clara, California. As this was the 50th Super Bowl, the league emphasized the \"golden anniversary\" with various gold-themed initiatives, as well as temporarily suspending the tradition of naming each Super Bowl game with Roman numerals (under which the game would have been known as \"Super Bowl L\"), so that the logo could prominently feature the Arabic numerals 50.', 'question': '0: Which NFL team represented the AFC at Super Bowl 50?', 'answers.text': ['Denver Broncos', 'Denver Broncos', 'Denver Broncos'], 'answers.answer_start': [177, 177, 177], 'new_title': 'Wouhahh: My cutest title: My cute title: Super_Bowl_50', 'input_ids': [101, 3198, 5308, 1851, 1108, 1126, 1237, 1709, 1342, 1106, 4959, 1103, 3628, 1104, 1103, 1305, 2289, 1453, 113, 4279, 114, 1111, 1103, 1410, 1265, 119, 1109, 1237, 2289, 3047, 113, 10402, 114, 3628, 7068, 14722, 2378, 1103, 1305, 2289, 3047, 113, 24743, 114, 3628, 2938, 13598, 1572, 782, 1275, 1106, 7379, 1147, 1503, 3198, 5308, 1641, 119, 1109, 1342, 1108, 1307, 1113, 1428, 128, 117, 1446, 117, 1120, 12388, 112, 188, 3339, 1107, 1103, 1727, 2948, 2410, 3894, 1120, 3364, 10200, 117, 1756, 119, 1249, 1142, 1108, 1103, 13163, 3198, 5308, 117, 1103, 2074, 13463, 1103, 107, 5404, 5453, 107, 1114, 1672, 2284, 118, 12005, 11751, 117, 1112, 1218, 1112, 7818, 28117, 20080, 16264, 1103, 3904, 1104, 10505, 1296, 3198, 5308, 1342, 1114, 2264, 183, 15447, 16179, 113, 1223, 1134, 1103, 1342, 1156, 1138, 1151, 1227, 1112, 107, 3198, 5308, 149, 107, 114, 117, 1177, 1115, 1103, 7998, 1180, 15199, 2672, 1103, 4944, 183, 15447, 16179, 1851, 119, 102], 'token_type_ids': [0, 0, 0, 0, 0, 0, 0, 0, 0, 0, 0, 0, 0, 0, 0, 0, 0, 0, 0, 0, 0, 0, 0, 0, 0, 0, 0, 0, 0, 0, 0, 0, 0, 0, 0, 0, 0, 0, 0, 0, 0, 0, 0, 0, 0, 0, 0, 0, 0, 0, 0, 0, 0, 0, 0, 0, 0, 0, 0, 0, 0, 0, 0, 0, 0, 0, 0, 0, 0, 0, 0, 0, 0, 0, 0, 0, 0, 0, 0, 0, 0, 0, 0, 0, 0, 0, 0, 0, 0, 0, 0, 0, 0, 0, 0, 0, 0, 0, 0, 0, 0, 0, 0, 0, 0, 0, 0, 0, 0, 0, 0, 0, 0, 0, 0, 0, 0, 0, 0, 0, 0, 0, 0, 0, 0, 0, 0, 0, 0, 0, 0, 0, 0, 0, 0, 0, 0, 0, 0, 0, 0, 0, 0, 0, 0, 0, 0, 0, 0, 0, 0, 0, 0, 0, 0, 0, 0, 0, 0, 0], 'attention_mask': [1, 1, 1, 1, 1, 1, 1, 1, 1, 1, 1, 1, 1, 1, 1, 1, 1, 1, 1, 1, 1, 1, 1, 1, 1, 1, 1, 1, 1, 1, 1, 1, 1, 1, 1, 1, 1, 1, 1, 1, 1, 1, 1, 1, 1, 1, 1, 1, 1, 1, 1, 1, 1, 1, 1, 1, 1, 1, 1, 1, 1, 1, 1, 1, 1, 1, 1, 1, 1, 1, 1, 1, 1, 1, 1, 1, 1, 1, 1, 1, 1, 1, 1, 1, 1, 1, 1, 1, 1, 1, 1, 1, 1, 1, 1, 1, 1, 1, 1, 1, 1, 1, 1, 1, 1, 1, 1, 1, 1, 1, 1, 1, 1, 1, 1, 1, 1, 1, 1, 1, 1, 1, 1, 1, 1, 1, 1, 1, 1, 1, 1, 1, 1, 1, 1, 1, 1, 1, 1, 1, 1, 1, 1, 1, 1, 1, 1, 1, 1, 1, 1, 1, 1, 1, 1, 1, 1, 1, 1, 1]}\n"
     ]
    }
   ],
   "source": [
    "# Now let's batch tokenize our dataset 'context'\n",
    "dataset = dataset.map(lambda example: tokenizer.batch_encode_plus(example['context']),\n",
    "                      batched=True)\n",
    "\n",
    "print(\"dataset[0]\", dataset[0])"
   ]
  },
  {
   "cell_type": "code",
   "execution_count": 23,
   "metadata": {},
   "outputs": [
    {
     "name": "stdout",
     "output_type": "stream",
     "text": [
      "['context', 'question', 'answers.text', 'answers.answer_start', 'new_title', 'input_ids', 'token_type_ids', 'attention_mask']\n"
     ]
    }
   ],
   "source": [
    "# we have added additional columns\n",
    "# we could have replaced the dataset with `remove_columns=True`\n",
    "print(dataset.column_names)"
   ]
  },
  {
   "cell_type": "code",
   "execution_count": 24,
   "metadata": {},
   "outputs": [
    {
     "name": "stderr",
     "output_type": "stream",
     "text": [
      "INFO:nlp.arrow_dataset:Caching processed dataset at /Users/thomwolf/.cache/huggingface/datasets/squad/plain_text/1.0.0/cache-400648306eb35b5141fc5835ed050f81.arrow\n",
      "100%|██████████| 2/2 [00:00<00:00,  5.58it/s]\n",
      "INFO:nlp.arrow_writer:Done writing 1057 examples in 21997870 bytes /Users/thomwolf/.cache/huggingface/datasets/squad/plain_text/1.0.0/cache-400648306eb35b5141fc5835ed050f81.arrow.\n"
     ]
    }
   ],
   "source": [
    "# Let show a more complex processing with the full preparation of the SQuAD dataset\n",
    "# for training a model from Transformers\n",
    "def convert_to_features(batch):\n",
    "    # Tokenize contexts and questions (as pairs of inputs)\n",
    "    # keep offset mappings for evaluation\n",
    "    input_pairs = list(zip(batch['context'], batch['question']))\n",
    "    encodings = tokenizer.batch_encode_plus(input_pairs,\n",
    "                                            pad_to_max_length=True,\n",
    "                                            return_offsets_mapping=True)\n",
    "\n",
    "    # Compute start and end tokens for labels\n",
    "    start_positions, end_positions = [], []\n",
    "    for i, (text, start) in enumerate(zip(batch['answers.text'], batch['answers.answer_start'])):\n",
    "        first_char = start[0]\n",
    "        last_char = first_char + len(text[0]) - 1\n",
    "        start_positions.append(encodings.char_to_token(i, first_char))\n",
    "        end_positions.append(encodings.char_to_token(i, last_char))\n",
    "\n",
    "    encodings.update({'start_positions': start_positions, 'end_positions': end_positions})\n",
    "    return encodings\n",
    "\n",
    "dataset = dataset.map(convert_to_features, batched=True)"
   ]
  },
  {
   "cell_type": "code",
   "execution_count": 25,
   "metadata": {},
   "outputs": [
    {
     "name": "stdout",
     "output_type": "stream",
     "text": [
      "column_names ['context', 'question', 'answers.text', 'answers.answer_start', 'new_title', 'input_ids', 'token_type_ids', 'attention_mask', 'offset_mapping', 'start_positions', 'end_positions']\n",
      "start_positions [34, 45, 80, 34, 98]\n"
     ]
    }
   ],
   "source": [
    "# Now our dataset comprise the labels for the start and end position\n",
    "# as well as the offsets for converting back tokens\n",
    "# in span of the original string for evaluation\n",
    "print(\"column_names\", dataset.column_names)\n",
    "print(\"start_positions\", dataset[:5]['start_positions'])"
   ]
  },
  {
   "cell_type": "markdown",
   "metadata": {},
   "source": [
    "# Formating outputs for numpy/torch/tensorflow\n",
    "\n",
    "Now that we have tokenized our inputs, we probably want to use this dataset in a `torch.Dataloader` or a `tf.data.Dataset`.\n",
    "\n",
    "To be able to do this we need to tweak two things:\n",
    "\n",
    "- format the indexing (`__getitem__`) to return numpy/pytorch/tensorflow tensors, instead of python objects, and\n",
    "- format the indexing (`__getitem__`) to return only the subset of the columns that we need for our model inputs.\n",
    "\n",
    "  We don't want the columns `id` or `title` as input sto train our model, but we could still want to keep them in the dataset, for instance for the evaluation of the model.\n",
    "    \n",
    "This is handled by the `.set_format(type: Union[None, str], columns: Union[None, str, List[str]])` where:\n",
    "\n",
    "- `type` define the return type for our dataset `__getitem__` method and is one of `[None, 'numpy', 'pandas', 'torch', 'tensorflow']` (`None` means return python objects), and\n",
    "- `columns` define the columns returned by `__getitem__` and takes the name of a column in the dataset or a list of columns to return (`None` means return all columns)."
   ]
  },
  {
   "cell_type": "code",
   "execution_count": 26,
   "metadata": {},
   "outputs": [
    {
     "name": "stderr",
     "output_type": "stream",
     "text": [
      "INFO:nlp.arrow_dataset:Set __getitem__(key) output type to torch and filter ['input_ids', 'token_type_ids', 'attention_mask', 'start_positions', 'end_positions'] columns  (when key is int or slice).\n"
     ]
    },
    {
     "name": "stdout",
     "output_type": "stream",
     "text": [
      "input_ids <class 'torch.Tensor'> torch.Size([10, 451])\n",
      "token_type_ids <class 'torch.Tensor'> torch.Size([10, 451])\n",
      "attention_mask <class 'torch.Tensor'> torch.Size([10, 451])\n",
      "start_positions <class 'torch.Tensor'> torch.Size([10])\n",
      "end_positions <class 'torch.Tensor'> torch.Size([10])\n"
     ]
    }
   ],
   "source": [
    "columns_to_return = ['input_ids', 'token_type_ids', 'attention_mask',\n",
    "                     'start_positions', 'end_positions']\n",
    "\n",
    "dataset.set_format(type='torch',\n",
    "                   columns=columns_to_return)\n",
    "\n",
    "# Our dataset indexing output is now ready for being used in a pytorch dataloader\n",
    "print('\\n'.join([' '.join((n, str(type(t)), str(t.shape))) for n, t in dataset[:10].items()]))"
   ]
  },
  {
   "cell_type": "code",
   "execution_count": 27,
   "metadata": {},
   "outputs": [
    {
     "name": "stdout",
     "output_type": "stream",
     "text": [
      "['context', 'question', 'answers.text', 'answers.answer_start', 'new_title', 'input_ids', 'token_type_ids', 'attention_mask', 'offset_mapping', 'start_positions', 'end_positions']\n"
     ]
    }
   ],
   "source": [
    "# Note that the columns are not removed from the dataset,\n",
    "# just not returned when calling __getitem__\n",
    "print(dataset.column_names)"
   ]
  },
  {
   "cell_type": "code",
   "execution_count": 28,
   "metadata": {},
   "outputs": [
    {
     "name": "stderr",
     "output_type": "stream",
     "text": [
      "INFO:nlp.arrow_dataset:Set __getitem__(key) output type to python objects and filter no columns  (when key is int or slice).\n"
     ]
    },
    {
     "name": "stdout",
     "output_type": "stream",
     "text": [
      "context <class 'list'>\n",
      "question <class 'list'>\n",
      "answers.text <class 'list'>\n",
      "answers.answer_start <class 'list'>\n",
      "new_title <class 'list'>\n",
      "input_ids <class 'list'>\n",
      "token_type_ids <class 'list'>\n",
      "attention_mask <class 'list'>\n",
      "offset_mapping <class 'list'>\n",
      "start_positions <class 'list'>\n",
      "end_positions <class 'list'>\n"
     ]
    }
   ],
   "source": [
    "# We can remove the formating with `.reset_format()`\n",
    "# or, identically, a call to `.set_format()` with no arguments\n",
    "dataset.reset_format()\n",
    "\n",
    "print('\\n'.join([' '.join((n, str(type(t)))) for n, t in dataset[:10].items()]))"
   ]
  },
  {
   "cell_type": "code",
   "execution_count": 29,
   "metadata": {},
   "outputs": [
    {
     "data": {
      "text/plain": [
       "{'type': 'python',\n",
       " 'columns': ['context',\n",
       "  'question',\n",
       "  'answers.text',\n",
       "  'answers.answer_start',\n",
       "  'new_title',\n",
       "  'input_ids',\n",
       "  'token_type_ids',\n",
       "  'attention_mask',\n",
       "  'offset_mapping',\n",
       "  'start_positions',\n",
       "  'end_positions']}"
      ]
     },
     "execution_count": 29,
     "metadata": {},
     "output_type": "execute_result"
    }
   ],
   "source": [
    "# The current format can be checked with `.format`,\n",
    "# which is a dict of the type and formating\n",
    "dataset.format"
   ]
  },
  {
   "cell_type": "markdown",
   "metadata": {},
   "source": [
    "# Wrapping this all up\n",
    "\n",
    "Let's wrap this all up with the full code to load and prepare SQuAD for training a PyTorch model."
   ]
  },
  {
   "cell_type": "code",
   "execution_count": 30,
   "metadata": {},
   "outputs": [
    {
     "name": "stderr",
     "output_type": "stream",
     "text": [
      "INFO:nlp.load:Checking /Users/thomwolf/.cache/huggingface/datasets/ee43d2be6898ebb9c2afefda4455306911d308bcf924d21c975796832cc7c114.f373b0de1570ca81b50bb03bd371604f7979e35de2cfcf2a3b4521d0b3104d9b.py for additional imports.\n",
      "INFO:filelock:Lock 5890243472 acquired on /Users/thomwolf/.cache/huggingface/datasets/ee43d2be6898ebb9c2afefda4455306911d308bcf924d21c975796832cc7c114.f373b0de1570ca81b50bb03bd371604f7979e35de2cfcf2a3b4521d0b3104d9b.py.lock\n",
      "INFO:nlp.load:Found main folder for dataset https://s3.amazonaws.com/datasets.huggingface.co/nlp/squad/squad.py at /Users/thomwolf/Documents/GitHub/datasets/src/nlp/datasets/squad\n",
      "INFO:nlp.load:Found specific version folder for dataset https://s3.amazonaws.com/datasets.huggingface.co/nlp/squad/squad.py at /Users/thomwolf/Documents/GitHub/datasets/src/nlp/datasets/squad/c0327553d80335e3a3283527f64d9778df7ad04ab28f38148d072782712bb670\n",
      "INFO:nlp.load:Found script file from https://s3.amazonaws.com/datasets.huggingface.co/nlp/squad/squad.py to /Users/thomwolf/Documents/GitHub/datasets/src/nlp/datasets/squad/c0327553d80335e3a3283527f64d9778df7ad04ab28f38148d072782712bb670/squad.py\n",
      "INFO:nlp.load:Found checksums file from https://s3.amazonaws.com/datasets.huggingface.co/nlp/squad/urls_checksums/checksums.txt to /Users/thomwolf/Documents/GitHub/datasets/src/nlp/datasets/squad/c0327553d80335e3a3283527f64d9778df7ad04ab28f38148d072782712bb670/urls_checksums/checksums.txt\n",
      "INFO:nlp.load:Found metadata file for dataset https://s3.amazonaws.com/datasets.huggingface.co/nlp/squad/squad.py at /Users/thomwolf/Documents/GitHub/datasets/src/nlp/datasets/squad/c0327553d80335e3a3283527f64d9778df7ad04ab28f38148d072782712bb670/squad.json\n",
      "INFO:filelock:Lock 5890243472 released on /Users/thomwolf/.cache/huggingface/datasets/ee43d2be6898ebb9c2afefda4455306911d308bcf924d21c975796832cc7c114.f373b0de1570ca81b50bb03bd371604f7979e35de2cfcf2a3b4521d0b3104d9b.py.lock\n",
      "INFO:nlp.builder:No config specified, defaulting to first: squad/plain_text\n",
      "INFO:nlp.builder:Overwrite dataset info from restored data version.\n",
      "INFO:nlp.info:Loading Dataset info from /Users/thomwolf/.cache/huggingface/datasets/squad/plain_text/1.0.0\n",
      "INFO:nlp.builder:Reusing dataset squad (/Users/thomwolf/.cache/huggingface/datasets/squad/plain_text/1.0.0)\n",
      "INFO:nlp.builder:Constructing Dataset for split None, from /Users/thomwolf/.cache/huggingface/datasets/squad/plain_text/1.0.0\n",
      "INFO:transformers.tokenization_utils:loading file https://s3.amazonaws.com/models.huggingface.co/bert/bert-base-cased-vocab.txt from cache at /Users/thomwolf/.cache/torch/transformers/5e8a2b4893d13790ed4150ca1906be5f7a03d6c4ddf62296c383f6db42814db2.e13dbb970cb325137104fb2e5f36fe865f27746c6b526f6352861b1980eb80b1\n",
      "INFO:nlp.arrow_dataset:Caching processed dataset at /Users/thomwolf/.cache/huggingface/datasets/squad/plain_text/1.0.0/cache-22f66fb97029056f964fa6c0093271ff.arrow\n",
      "100%|██████████| 88/88 [00:15<00:00,  5.63it/s]\n",
      "INFO:nlp.arrow_writer:Done writing 87599 examples in 1114821007 bytes /Users/thomwolf/.cache/huggingface/datasets/squad/plain_text/1.0.0/cache-22f66fb97029056f964fa6c0093271ff.arrow.\n",
      "INFO:nlp.arrow_dataset:Set __getitem__(key) output type to torch and filter ['input_ids', 'token_type_ids', 'attention_mask', 'start_positions', 'end_positions'] columns  (when key is int or slice).\n"
     ]
    }
   ],
   "source": [
    "import nlp\n",
    "import torch \n",
    "from transformers import BertTokenizerFast\n",
    "\n",
    "# Load our training dataset and tokenizer\n",
    "dataset = nlp.load_dataset('squad')\n",
    "tokenizer = BertTokenizerFast.from_pretrained('bert-base-cased')\n",
    "\n",
    "def get_correct_alignement(context, answer):\n",
    "    \"\"\" Some original examples in SQuAD have indices wrong by 1 or 2 character. We test and fix this here. \"\"\"\n",
    "    gold_text = answer['text'][0]\n",
    "    start_idx = answer['answer_start'][0]\n",
    "    end_idx = start_idx + len(gold_text)\n",
    "    if context[start_idx:end_idx] == gold_text:\n",
    "        return start_idx, end_idx       # When the gold label position is good\n",
    "    elif context[start_idx-1:end_idx-1] == gold_text:\n",
    "        return start_idx-1, end_idx-1   # When the gold label is off by one character\n",
    "    elif context[start_idx-2:end_idx-2] == gold_text:\n",
    "        return start_idx-2, end_idx-2   # When the gold label is off by two character\n",
    "    else:\n",
    "        raise ValueError()\n",
    "\n",
    "# Tokenize our training dataset\n",
    "def convert_to_features(example_batch):\n",
    "    # Tokenize contexts and questions (as pairs of inputs)\n",
    "    input_pairs = list(zip(example_batch['context'], example_batch['question']))\n",
    "    encodings = tokenizer.batch_encode_plus(input_pairs, pad_to_max_length=True)\n",
    "\n",
    "    # Compute start and end tokens for labels using Transformers's fast tokenizers alignement methodes.\n",
    "    start_positions, end_positions = [], []\n",
    "    for i, (context, answer) in enumerate(zip(example_batch['context'], example_batch['answers'])):\n",
    "        start_idx, end_idx = get_correct_alignement(context, answer)\n",
    "        start_positions.append(encodings.char_to_token(i, start_idx))\n",
    "        end_positions.append(encodings.char_to_token(i, end_idx-1))\n",
    "    encodings.update({'start_positions': start_positions,\n",
    "                      'end_positions': end_positions})\n",
    "    return encodings\n",
    "\n",
    "dataset['train'] = dataset['train'].map(convert_to_features, batched=True)\n",
    "\n",
    "# Format our outputs to train a pytorch model\n",
    "columns = ['input_ids', 'token_type_ids', 'attention_mask', 'start_positions', 'end_positions']\n",
    "dataset['train'].set_format(type='torch', columns=columns)\n",
    "\n",
    "# Instantiate a PyTorch Dataloader around our dataset\n",
    "dataloader = torch.utils.data.DataLoader(dataset['train'], batch_size=8)"
   ]
  },
  {
   "cell_type": "code",
   "execution_count": 31,
   "metadata": {},
   "outputs": [
    {
     "name": "stderr",
     "output_type": "stream",
     "text": [
      "INFO:transformers.configuration_utils:loading configuration file https://s3.amazonaws.com/models.huggingface.co/bert/bert-base-cased-config.json from cache at /Users/thomwolf/.cache/torch/transformers/b945b69218e98b3e2c95acf911789741307dec43c698d35fad11c1ae28bda352.9da767be51e1327499df13488672789394e2ca38b877837e52618a67d7002391\n",
      "INFO:transformers.configuration_utils:Model config BertConfig {\n",
      "  \"architectures\": [\n",
      "    \"BertForMaskedLM\"\n",
      "  ],\n",
      "  \"attention_probs_dropout_prob\": 0.1,\n",
      "  \"hidden_act\": \"gelu\",\n",
      "  \"hidden_dropout_prob\": 0.1,\n",
      "  \"hidden_size\": 768,\n",
      "  \"initializer_range\": 0.02,\n",
      "  \"intermediate_size\": 3072,\n",
      "  \"layer_norm_eps\": 1e-12,\n",
      "  \"max_position_embeddings\": 512,\n",
      "  \"model_type\": \"bert\",\n",
      "  \"num_attention_heads\": 12,\n",
      "  \"num_hidden_layers\": 12,\n",
      "  \"pad_token_id\": 0,\n",
      "  \"type_vocab_size\": 2,\n",
      "  \"vocab_size\": 28996\n",
      "}\n",
      "\n",
      "INFO:transformers.modeling_utils:loading weights file https://cdn.huggingface.co/bert-base-cased-pytorch_model.bin from cache at /Users/thomwolf/.cache/torch/transformers/d8f11f061e407be64c4d5d7867ee61d1465263e24085cfa26abf183fdc830569.3fadbea36527ae472139fe84cddaa65454d7429f12d543d80bfc3ad70de55ac2\n",
      "INFO:transformers.modeling_utils:Weights of BertForQuestionAnswering not initialized from pretrained model: ['qa_outputs.weight', 'qa_outputs.bias']\n",
      "INFO:transformers.modeling_utils:Weights from pretrained model not used in BertForQuestionAnswering: ['cls.predictions.bias', 'cls.predictions.transform.dense.weight', 'cls.predictions.transform.dense.bias', 'cls.predictions.decoder.weight', 'cls.seq_relationship.weight', 'cls.seq_relationship.bias', 'cls.predictions.transform.LayerNorm.weight', 'cls.predictions.transform.LayerNorm.bias']\n"
     ]
    }
   ],
   "source": [
    "# Let's load a pretrained Bert model and a simple optimizer\n",
    "from transformers import BertForQuestionAnswering\n",
    "\n",
    "model = BertForQuestionAnswering.from_pretrained('bert-base-cased')\n",
    "optimizer = torch.optim.Adam(model.parameters(), lr=0.0001)"
   ]
  },
  {
   "cell_type": "code",
   "execution_count": 32,
   "metadata": {},
   "outputs": [
    {
     "name": "stdout",
     "output_type": "stream",
     "text": [
      "Step 0 - loss: 6.15\n",
      "Step 1 - loss: 6.06\n",
      "Step 2 - loss: 5.57\n",
      "Step 3 - loss: 5.33\n",
      "Step 4 - loss: 5.18\n"
     ]
    }
   ],
   "source": [
    "# Now let's train our model\n",
    "\n",
    "model.train()\n",
    "for i, batch in enumerate(dataloader):\n",
    "    outputs = model(**batch)\n",
    "    loss = outputs[0]\n",
    "    loss.backward()\n",
    "    optimizer.step()\n",
    "    model.zero_grad()\n",
    "    print(f'Step {i} - loss: {loss:.3}')\n",
    "    if i > 3:\n",
    "        break"
   ]
  },
  {
   "cell_type": "markdown",
   "metadata": {},
   "source": [
    "# Metrics\n",
    "\n",
    "`nlp` also provides easy access and sharing of metrics.\n",
    "\n",
    "This aspect of the library is still experimental and the API may still evolve more than the datasets API.\n",
    "\n",
    "Like datasets, metrics are added as small scripts wrapping common metrics in a common API.\n",
    "\n",
    "There are several reason you may want to use metrics with `nlp` and in particular:\n",
    "\n",
    "- metrics for specific datasets like GLUE or SQuAD are provided out-of-the-box in a simple, convenient and consistant way integrated with the dataset,\n",
    "- metrics in `nlp` leverage the powerful backend to provide smart features out-of-the-box like support for distributed evaluation in PyTorch"
   ]
  },
  {
   "cell_type": "markdown",
   "metadata": {},
   "source": [
    "## Using metrics\n",
    "\n",
    "Using metrics is pretty simple, they have two main methods: `.compute(predictions, references)` to directly compute the metric and `.add(predictions, references)` to only store some results if you want to do the evaluation in one go at the end.\n",
    "\n",
    "Here is a quick gist of a standard use of metrics (the simplest usage):\n",
    "```python\n",
    "import nlp\n",
    "bleu_metric = nlp.load_metric('bleu')\n",
    "\n",
    "# If you only have a single iteration, you can easily compute the score like this\n",
    "predictions = model(inputs)\n",
    "score = bleu_metric.compute(predictions, references)\n",
    "\n",
    "# If you have a loop, you can \"add\" your predictions and references at each iteration instead of having to save them yourself (the metric object store them efficiently for you)\n",
    "for batch in dataloader:\n",
    "    model_input, targets = batch\n",
    "    predictions = model(model_inputs)\n",
    "    bleu.add(predictions, targets)\n",
    "score = bleu_metric.compute()  # Compute the score from all the stored predictions/references\n",
    "```\n",
    "\n",
    "Here is a quick gist of a use in a distributed torch setup (should work for any python multi-process setup actually). It's pretty much identical to the second example above:\n",
    "```python\n",
    "import nlp\n",
    "# You need to give the total number of parallel python processes (num_process) and the id of each process (process_id)\n",
    "bleu = nlp.load_metric('bleu', process_id=torch.distributed.get_rank(),b num_process=torch.distributed.get_world_size())\n",
    "\n",
    "for batch in dataloader:\n",
    "    model_input, targets = batch\n",
    "    predictions = model(model_inputs)\n",
    "    bleu.add(predictions, targets)\n",
    "score = bleu_metric.compute()  # Compute the score on the first node by default (can be set to compute on each node as well)\n",
    "```"
   ]
  },
  {
   "cell_type": "markdown",
   "metadata": {},
   "source": [
    "[TO BE ADDED]"
   ]
  },
  {
   "cell_type": "code",
   "execution_count": null,
   "metadata": {},
   "outputs": [],
   "source": []
  }
 ],
 "metadata": {
  "file_extension": ".py",
  "kernelspec": {
   "display_name": "Python 3.7.7 64-bit ('datasets': conda)",
   "language": "python",
   "name": "python37764bitdatasetscondae5d8ff60608e4c5c953d6bb643d8ebc5"
  },
  "language_info": {
   "codemirror_mode": {
    "name": "ipython",
    "version": 3
   },
   "file_extension": ".py",
   "mimetype": "text/x-python",
   "name": "python",
   "nbconvert_exporter": "python",
   "pygments_lexer": "ipython3",
   "version": "3.7.7"
  },
  "mimetype": "text/x-python",
  "name": "python",
  "npconvert_exporter": "python",
  "pygments_lexer": "ipython3",
  "version": 3
 },
 "nbformat": 4,
 "nbformat_minor": 2
}
